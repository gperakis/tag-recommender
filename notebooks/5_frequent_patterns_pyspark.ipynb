{
 "cells": [
  {
   "cell_type": "code",
   "id": "506ce01c-8fda-43bf-ab4e-3067aa0c7989",
   "metadata": {
    "ExecuteTime": {
     "end_time": "2024-10-14T21:43:55.392882Z",
     "start_time": "2024-10-14T21:43:54.620419Z"
    }
   },
   "source": [
    "from pyspark import StorageLevel\n",
    "from pyspark.ml.fpm import FPGrowth\n",
    "from pyspark.sql import SparkSession\n",
    "from pyspark.sql.functions import col, size, udf\n",
    "from pyspark.sql.types import ArrayType, StringType\n",
    "\n",
    "from tag_recommender.utils.text import to_snake_case_boosted"
   ],
   "outputs": [],
   "execution_count": 1
  },
  {
   "cell_type": "code",
   "id": "244fe040-8194-44a3-856a-b5a83b0b328f",
   "metadata": {
    "ExecuteTime": {
     "end_time": "2024-10-14T21:43:59.451823Z",
     "start_time": "2024-10-14T21:43:57.333598Z"
    }
   },
   "source": [
    "spark = (\n",
    "    SparkSession.builder.appName(\"FrequentPatternsSpark\")\n",
    "    .config(\"spark.executor.memory\", \"8g\")\n",
    "    .config(\"spark.driver.memory\", \"8g\")\n",
    "    .config(\"spark.executor.memoryOverhead\", \"2g\")\n",
    "    .config(\"spark.sql.shuffle.partitions\", \"500\")\n",
    "    .config(\"spark.driver.maxResultSize\", \"4g\")\n",
    "    .getOrCreate()\n",
    ")"
   ],
   "outputs": [
    {
     "name": "stderr",
     "output_type": "stream",
     "text": [
      "24/10/15 00:43:58 WARN Utils: Your hostname, Georges-MacBook-Pro-2.local resolves to a loopback address: 127.0.0.1; using 192.168.66.77 instead (on interface en0)\n",
      "24/10/15 00:43:58 WARN Utils: Set SPARK_LOCAL_IP if you need to bind to another address\n",
      "Setting default log level to \"WARN\".\n",
      "To adjust logging level use sc.setLogLevel(newLevel). For SparkR, use setLogLevel(newLevel).\n",
      "24/10/15 00:43:58 WARN NativeCodeLoader: Unable to load native-hadoop library for your platform... using builtin-java classes where applicable\n"
     ]
    }
   ],
   "execution_count": 2
  },
  {
   "cell_type": "code",
   "id": "212f99d2-96a1-437d-a5f7-bd4243b7a77e",
   "metadata": {
    "ExecuteTime": {
     "end_time": "2024-10-14T21:44:02.792632Z",
     "start_time": "2024-10-14T21:44:01.037676Z"
    }
   },
   "source": [
    "# Load data from CSV (adjust the file path as necessary)\n",
    "file_path = \"../data/processed/train.parquet\"\n",
    "# The train dataset already contains the root_tags as an array form.\n",
    "# The tags column are also in an array form.\n",
    "df = spark.read.parquet(file_path, header=True, inferSchema=True)"
   ],
   "outputs": [
    {
     "name": "stderr",
     "output_type": "stream",
     "text": [
      "                                                                                \r"
     ]
    }
   ],
   "execution_count": 3
  },
  {
   "metadata": {
    "ExecuteTime": {
     "end_time": "2024-10-14T21:44:04.510041Z",
     "start_time": "2024-10-14T21:44:04.505358Z"
    }
   },
   "cell_type": "code",
   "source": [
    "# Show the schema of the DataFrame\n",
    "df.printSchema()"
   ],
   "id": "3fc304c93834263c",
   "outputs": [
    {
     "name": "stdout",
     "output_type": "stream",
     "text": [
      "root\n",
      " |-- type: string (nullable = true)\n",
      " |-- lang: string (nullable = true)\n",
      " |-- is_reblog: double (nullable = true)\n",
      " |-- tags: array (nullable = true)\n",
      " |    |-- element: string (containsNull = true)\n",
      " |-- root_tags: array (nullable = true)\n",
      " |    |-- element: string (containsNull = true)\n",
      " |-- root_tags_count: long (nullable = true)\n",
      " |-- tags_count: long (nullable = true)\n",
      " |-- lang_type: string (nullable = true)\n",
      " |-- type_bucket: string (nullable = true)\n",
      " |-- root_tags_popularity: long (nullable = true)\n",
      " |-- tags_popularity: long (nullable = true)\n",
      " |-- total_popularity: long (nullable = true)\n",
      " |-- tags_count_bucket: string (nullable = true)\n",
      " |-- root_tags_count_bucket: string (nullable = true)\n",
      "\n"
     ]
    }
   ],
   "execution_count": 4
  },
  {
   "metadata": {
    "ExecuteTime": {
     "end_time": "2024-10-14T21:44:07.648586Z",
     "start_time": "2024-10-14T21:44:06.356549Z"
    }
   },
   "cell_type": "code",
   "source": [
    "# Show the first 5 rows of the DataFrame\n",
    "df.show(truncate=True, n=10)"
   ],
   "id": "8d6c5e183130c084",
   "outputs": [
    {
     "name": "stdout",
     "output_type": "stream",
     "text": [
      "+--------+-----+---------+--------------------+--------------------+---------------+----------+---------+-----------+--------------------+---------------+----------------+-----------------+----------------------+\n",
      "|    type| lang|is_reblog|                tags|           root_tags|root_tags_count|tags_count|lang_type|type_bucket|root_tags_popularity|tags_popularity|total_popularity|tags_count_bucket|root_tags_count_bucket|\n",
      "+--------+-----+---------+--------------------+--------------------+---------------+----------+---------+-----------+--------------------+---------------+----------------+-----------------+----------------------+\n",
      "|   photo|fr_FR|      0.0|[one piece, One p...|                  []|              0|         7|    other|      photo|                   0|           4489|            4489|              5-9|                   0-0|\n",
      "|photoset|en_US|      0.0|[the outsiders, v...|                  []|              0|         4|       en|      other|                   0|            133|             133|              3-3|                   0-0|\n",
      "|   photo|en_US|      0.0|           [my caps]|                  []|              0|         1|       en|      photo|                   0|            178|             178|              0-0|                   0-0|\n",
      "|   photo|en_US|      1.0|[feeling this pos...|[tw: food, the ti...|              3|         4|       en|      photo|                  31|             32|              63|              3-3|                   2-2|\n",
      "|   quote|en_US|      1.0|    [study., queue.]|[sad, sadness, sa...|             28|         2|       en|      other|               35233|            277|           35510|              1-1|                   25+|\n",
      "|   photo|en_US|      1.0|[Friday the 13th ...|                  []|              0|         5|       en|      photo|                   0|            586|             586|              4-4|                   0-0|\n",
      "|   photo|en_US|      1.0|[rdl, bp, bpwf, g...|[black panther, b...|             20|         7|       en|      photo|               91781|          18929|          110710|              5-9|                 15-19|\n",
      "|   photo|en_US|      1.0|[detroit become h...|[digital art, otp...|              6|         7|       en|      photo|               40352|           1094|           41446|              5-9|                   5-9|\n",
      "|   photo|en_US|      1.0|[looks like i hav...|     [maps, sky, us]|              3|         2|       en|      photo|                3661|              2|            3663|              1-1|                   2-2|\n",
      "|photoset|en_US|      1.0|[a perfect man, n...|[filmedit, moviee...|             11|         3|       en|      other|               55381|              9|           55390|              2-2|                 10-14|\n",
      "+--------+-----+---------+--------------------+--------------------+---------------+----------+---------+-----------+--------------------+---------------+----------------+-----------------+----------------------+\n",
      "only showing top 10 rows\n",
      "\n"
     ]
    }
   ],
   "execution_count": 5
  },
  {
   "cell_type": "code",
   "id": "cc46994c-9556-422a-b571-fbec1ab8982a",
   "metadata": {
    "ExecuteTime": {
     "end_time": "2024-10-14T21:44:11.542568Z",
     "start_time": "2024-10-14T21:44:11.536850Z"
    }
   },
   "source": [
    "# Register UDF for splitting tags\n",
    "@udf(ArrayType(StringType()))\n",
    "def preprocess_tags(tags):\n",
    "    return [to_snake_case_boosted(tag) for tag in tags]\n",
    "\n",
    "\n",
    "# Remove empty strings from the arrays\n",
    "@udf(ArrayType(StringType()))\n",
    "def remove_empty(arr):\n",
    "    return [i for i in arr if i]\n",
    "\n",
    "\n",
    "# UDF to remove duplicates from each tag array\n",
    "@udf(ArrayType(StringType()))\n",
    "def remove_duplicates(arr):\n",
    "    return sorted(set(arr))"
   ],
   "outputs": [],
   "execution_count": 6
  },
  {
   "cell_type": "code",
   "id": "58a34e19-069f-4048-970c-66215e388921",
   "metadata": {
    "ExecuteTime": {
     "end_time": "2024-10-14T21:44:15.043381Z",
     "start_time": "2024-10-14T21:44:14.989951Z"
    }
   },
   "source": [
    "# Apply the split and snake_case conversion function to both 'root_tags' and 'tags' columns\n",
    "df = df.withColumn(\"root_tags_array\", preprocess_tags(col(\"root_tags\")))\n",
    "df = df.withColumn(\"tags_array\", preprocess_tags(col(\"tags\")))"
   ],
   "outputs": [],
   "execution_count": 7
  },
  {
   "cell_type": "code",
   "id": "61686155-1a9c-4cff-8cbe-5e2e46683178",
   "metadata": {
    "ExecuteTime": {
     "end_time": "2024-10-14T21:44:17.403925Z",
     "start_time": "2024-10-14T21:44:17.374838Z"
    }
   },
   "source": [
    "# Remove empty lists that are like ['']\n",
    "df = df.withColumn(\"root_tags_array\", remove_empty(col(\"root_tags_array\")))\n",
    "df = df.withColumn(\"tags_array\", remove_empty(col(\"tags_array\")))"
   ],
   "outputs": [],
   "execution_count": 8
  },
  {
   "cell_type": "code",
   "id": "498d9d36-c3d6-4357-af77-c0cb1dcecbf0",
   "metadata": {
    "ExecuteTime": {
     "end_time": "2024-10-14T21:44:24.320865Z",
     "start_time": "2024-10-14T21:44:23.497199Z"
    }
   },
   "source": [
    "df.show(truncate=True, n=5)"
   ],
   "outputs": [
    {
     "name": "stdout",
     "output_type": "stream",
     "text": [
      "+--------+-----+---------+--------------------+--------------------+---------------+----------+---------+-----------+--------------------+---------------+----------------+-----------------+----------------------+--------------------+--------------------+\n",
      "|    type| lang|is_reblog|                tags|           root_tags|root_tags_count|tags_count|lang_type|type_bucket|root_tags_popularity|tags_popularity|total_popularity|tags_count_bucket|root_tags_count_bucket|     root_tags_array|          tags_array|\n",
      "+--------+-----+---------+--------------------+--------------------+---------------+----------+---------+-----------+--------------------+---------------+----------------+-----------------+----------------------+--------------------+--------------------+\n",
      "|   photo|fr_FR|      0.0|[one piece, One p...|                  []|              0|         7|    other|      photo|                   0|           4489|            4489|              5-9|                   0-0|                  []|[one_piece, one_p...|\n",
      "|photoset|en_US|      0.0|[the outsiders, v...|                  []|              0|         4|       en|      other|                   0|            133|             133|              3-3|                   0-0|                  []|[the_outsiders, v...|\n",
      "|   photo|en_US|      0.0|           [my caps]|                  []|              0|         1|       en|      photo|                   0|            178|             178|              0-0|                   0-0|                  []|           [my_caps]|\n",
      "|   photo|en_US|      1.0|[feeling this pos...|[tw: food, the ti...|              3|         4|       en|      photo|                  31|             32|              63|              3-3|                   2-2|[tw_food, the_tin...|[feeling_this_pos...|\n",
      "|   quote|en_US|      1.0|    [study., queue.]|[sad, sadness, sa...|             28|         2|       en|      other|               35233|            277|           35510|              1-1|                   25+|[sad, sadness, sa...|      [study, queue]|\n",
      "+--------+-----+---------+--------------------+--------------------+---------------+----------+---------+-----------+--------------------+---------------+----------------+-----------------+----------------------+--------------------+--------------------+\n",
      "only showing top 5 rows\n",
      "\n"
     ]
    }
   ],
   "execution_count": 9
  },
  {
   "cell_type": "code",
   "id": "6df5c701-b496-4ef9-a665-ccd49ae03e7c",
   "metadata": {
    "ExecuteTime": {
     "end_time": "2024-10-14T21:44:27.672106Z",
     "start_time": "2024-10-14T21:44:27.627332Z"
    }
   },
   "source": [
    "# Step 5: Join all normalized lists into one unified column\n",
    "\n",
    "# This method performs a SQL-style set union of the rows from both DataFrame objects,\n",
    "# with no automatic deduplication of elements.\n",
    "df_unified = df.selectExpr(\"root_tags_array as tag_arrays\").union(\n",
    "    df.selectExpr(\"tags_array as tag_arrays\")\n",
    ")"
   ],
   "outputs": [],
   "execution_count": 10
  },
  {
   "metadata": {
    "ExecuteTime": {
     "end_time": "2024-10-14T21:44:30.520934Z",
     "start_time": "2024-10-14T21:44:30.231232Z"
    }
   },
   "cell_type": "code",
   "source": [
    "# Show the unified dataset\n",
    "df_unified.show(truncate=True, n=10)"
   ],
   "id": "43da14a66150068c",
   "outputs": [
    {
     "name": "stdout",
     "output_type": "stream",
     "text": [
      "+--------------------+\n",
      "|          tag_arrays|\n",
      "+--------------------+\n",
      "|                  []|\n",
      "|                  []|\n",
      "|                  []|\n",
      "|[tw_food, the_tin...|\n",
      "|[sad, sadness, sa...|\n",
      "|                  []|\n",
      "|[black_panther, b...|\n",
      "|[digital_art, otp...|\n",
      "|     [maps, sky, us]|\n",
      "|[filmedit, moviee...|\n",
      "+--------------------+\n",
      "only showing top 10 rows\n",
      "\n"
     ]
    }
   ],
   "execution_count": 11
  },
  {
   "metadata": {
    "ExecuteTime": {
     "end_time": "2024-10-14T21:44:31.748134Z",
     "start_time": "2024-10-14T21:44:31.745559Z"
    }
   },
   "cell_type": "code",
   "source": "df_unified.printSchema()",
   "id": "fbd913b2c80d7ecf",
   "outputs": [
    {
     "name": "stdout",
     "output_type": "stream",
     "text": [
      "root\n",
      " |-- tag_arrays: array (nullable = true)\n",
      " |    |-- element: string (containsNull = true)\n",
      "\n"
     ]
    }
   ],
   "execution_count": 12
  },
  {
   "metadata": {
    "ExecuteTime": {
     "end_time": "2024-10-14T21:44:34.390158Z",
     "start_time": "2024-10-14T21:44:34.372455Z"
    }
   },
   "cell_type": "code",
   "source": [
    "# Remove empty arrays from the tag_arrays column\n",
    "df_unified = df_unified.filter(size(col(\"tag_arrays\")) > 0)"
   ],
   "id": "779e67af5a6643a",
   "outputs": [],
   "execution_count": 13
  },
  {
   "metadata": {
    "ExecuteTime": {
     "end_time": "2024-10-14T21:44:38.262574Z",
     "start_time": "2024-10-14T21:44:37.830299Z"
    }
   },
   "cell_type": "code",
   "source": "df_unified.show(truncate=True, n=10)",
   "id": "23c2c7f3fa6cb6b1",
   "outputs": [
    {
     "name": "stdout",
     "output_type": "stream",
     "text": [
      "+--------------------+\n",
      "|          tag_arrays|\n",
      "+--------------------+\n",
      "|[tw_food, the_tin...|\n",
      "|[sad, sadness, sa...|\n",
      "|[black_panther, b...|\n",
      "|[digital_art, otp...|\n",
      "|     [maps, sky, us]|\n",
      "|[filmedit, moviee...|\n",
      "|[stray_kids, han_...|\n",
      "|[ramblings, i_rea...|\n",
      "|[meme, memes, fre...|\n",
      "|[and_i_have_no_se...|\n",
      "+--------------------+\n",
      "only showing top 10 rows\n",
      "\n"
     ]
    }
   ],
   "execution_count": 14
  },
  {
   "cell_type": "code",
   "id": "9c12929f-ffaf-4682-a9be-18e3365ad8c0",
   "metadata": {
    "ExecuteTime": {
     "end_time": "2024-10-14T21:45:02.030463Z",
     "start_time": "2024-10-14T21:45:02.015006Z"
    }
   },
   "source": [
    "# remove duplicate tags that were created during normalization\n",
    "df_unified = df_unified.withColumn(\"tag_arrays\", remove_duplicates(col(\"tag_arrays\")))"
   ],
   "outputs": [],
   "execution_count": 15
  },
  {
   "cell_type": "code",
   "id": "b8de31ad-a1be-479c-b133-8dd4306f6f95",
   "metadata": {
    "scrolled": true,
    "ExecuteTime": {
     "end_time": "2024-10-14T21:45:16.161884Z",
     "start_time": "2024-10-14T21:45:15.792755Z"
    }
   },
   "source": [
    "# Show the unified dataset\n",
    "df_unified.show(truncate=False, n=10)"
   ],
   "outputs": [
    {
     "name": "stdout",
     "output_type": "stream",
     "text": [
      "+----------------------------------------------------------------------------------------------------------------------------------------------------------------------------------------------------------------------------------------------------------------------------------------------------------------------------+\n",
      "|tag_arrays                                                                                                                                                                                                                                                                                                                  |\n",
      "+----------------------------------------------------------------------------------------------------------------------------------------------------------------------------------------------------------------------------------------------------------------------------------------------------------------------------+\n",
      "|[the_tiny_dragon, the_tiny_dragon_draws, tw_food]                                                                                                                                                                                                                                                                           |\n",
      "|[anamia, anxiety, anxious, broken, broken_hearted, depressed, depression, eating_disoder_things, ed_thoughts, im_not_okay, im_sad_and_tired, im_so_done, im_sorry, im_tired, kindness, love, mental_breakdown, personal, poem, quotes, sad, sad_qoutes, sadness, social_anxiety, suicidal, suicidal_thoughts, suicide, thin]|\n",
      "|[black_panther, black_panther_2, black_panther_wakanda_forever, dailymarvelheroes, filmgifs, fyeahmarvel, gifs, marvel, marveladdicts, marveldaily, marveledit, mine, noalook, userleah, userquel, userreh, usersameera, usersaoirse, usersavana, wakanda_forever]                                                          |\n",
      "|[centaur_au, detroit_become_human, digital_art, fan_art, naga_au, otp]                                                                                                                                                                                                                                                      |\n",
      "|[maps, sky, us]                                                                                                                                                                                                                                                                                                             |\n",
      "|[a_gentleman, bollywood, bollywoodedit, filmedit, hindi_cinema, mocedit, movieedit, on_the_other_hand_this_post_is_really_just_for_meee, one_on_the_hand_im_posting_this_to_test_if_my_tags_are_working_at_all_or_not, sidharth_malhotra]                                                                                   |\n",
      "|[felix, han_jisung, in, japan_1st_album, seungmin, skz, skz_comingsoon, stray_kids, スキス, スキス_1_st_album]                                                                                                                                                                                                              |\n",
      "|[i_really_dont_care_if_the_hot_dude_played_a_bad_space_wizard_or_an_angry_goth_in_some_mediocre_popcorn_movie, like_something_unironically_for_once_you_cowards, ramblings, rip_repressed_puritans_but_im_different]                                                                                                        |\n",
      "|[fresh_memes, funny, lmao, lol, meme, memes, tweet, tweets, twitter]                                                                                                                                                                                                                                                        |\n",
      "|[13th_doctor, and_i_have_no_self_control, doctor_who, dw_fanart, mine, my_art, thasmin, the_maze_of_doom]                                                                                                                                                                                                                   |\n",
      "+----------------------------------------------------------------------------------------------------------------------------------------------------------------------------------------------------------------------------------------------------------------------------------------------------------------------------+\n",
      "only showing top 10 rows\n",
      "\n"
     ]
    }
   ],
   "execution_count": 16
  },
  {
   "cell_type": "code",
   "id": "30e87248-ca75-4b54-9d3e-bb7a2b4fbb4a",
   "metadata": {
    "ExecuteTime": {
     "end_time": "2024-10-14T21:46:13.287477Z",
     "start_time": "2024-10-14T21:45:19.097407Z"
    }
   },
   "source": [
    "# Calculate the length of df_unified\n",
    "n_baskets = df_unified.count()\n",
    "\n",
    "# Print the result\n",
    "print(f\"Number of rows in df_unified: {n_baskets}\")"
   ],
   "outputs": [
    {
     "name": "stderr",
     "output_type": "stream",
     "text": [
      "[Stage 11:=====================================================>  (19 + 1) / 20]\r"
     ]
    },
    {
     "name": "stdout",
     "output_type": "stream",
     "text": [
      "Number of rows in df_unified: 2332818\n"
     ]
    },
    {
     "name": "stderr",
     "output_type": "stream",
     "text": [
      "                                                                                \r"
     ]
    }
   ],
   "execution_count": 17
  },
  {
   "cell_type": "code",
   "id": "d9e34966-2ac9-4a75-8bb2-026fee5cf3e3",
   "metadata": {
    "ExecuteTime": {
     "end_time": "2024-10-14T21:46:31.509934Z",
     "start_time": "2024-10-14T21:46:31.505465Z"
    }
   },
   "source": [
    "# Repartition the dataset into more partitions\n",
    "df_unified = df_unified.repartition(500)"
   ],
   "outputs": [],
   "execution_count": 18
  },
  {
   "cell_type": "code",
   "id": "98bdddb3-2691-4969-aba4-938e8827a170",
   "metadata": {
    "ExecuteTime": {
     "end_time": "2024-10-14T21:46:32.916193Z",
     "start_time": "2024-10-14T21:46:32.881197Z"
    }
   },
   "source": [
    "# Persist with MEMORY_AND_DISK\n",
    "df_unified.persist(StorageLevel.MEMORY_AND_DISK)"
   ],
   "outputs": [
    {
     "data": {
      "text/plain": [
       "DataFrame[tag_arrays: array<string>]"
      ]
     },
     "execution_count": 19,
     "metadata": {},
     "output_type": "execute_result"
    }
   ],
   "execution_count": 19
  },
  {
   "cell_type": "code",
   "id": "d35f0508-698f-481c-b6cc-f45750880f5c",
   "metadata": {
    "ExecuteTime": {
     "end_time": "2024-10-14T21:46:36.222912Z",
     "start_time": "2024-10-14T21:46:36.219654Z"
    }
   },
   "source": [
    "support = 200\n",
    "# Use the unified tags for frequent pattern mining\n",
    "min_support = support / n_baskets  # Adjust based on dataset size\n",
    "min_confidence = 0.5  # Adjust based on desired association rules\n",
    "\n",
    "print(f\"Min support threshold: {support}. As a percentage: {min_support}\")"
   ],
   "outputs": [
    {
     "name": "stdout",
     "output_type": "stream",
     "text": [
      "Min support threshold: 200. As a percentage: 8.573322050841514e-05\n"
     ]
    }
   ],
   "execution_count": 20
  },
  {
   "cell_type": "code",
   "id": "198fd794-79cb-4d1b-9b35-0b7fbf6886eb",
   "metadata": {
    "ExecuteTime": {
     "end_time": "2024-10-14T21:47:52.017051Z",
     "start_time": "2024-10-14T21:46:38.403517Z"
    }
   },
   "source": [
    "fp_growth = FPGrowth(\n",
    "    itemsCol=\"tag_arrays\", minSupport=min_support, minConfidence=min_confidence\n",
    ")\n",
    "model = fp_growth.fit(df_unified)"
   ],
   "outputs": [
    {
     "name": "stderr",
     "output_type": "stream",
     "text": [
      "24/10/15 00:47:38 WARN FPGrowth: Input data is not cached.                      \n",
      "                                                                                \r"
     ]
    }
   ],
   "execution_count": 21
  },
  {
   "cell_type": "code",
   "id": "6cb91f94-b443-40fb-a27a-b434a900efe3",
   "metadata": {
    "ExecuteTime": {
     "end_time": "2024-10-14T21:48:11.669042Z",
     "start_time": "2024-10-14T21:48:11.466407Z"
    }
   },
   "source": [
    "# Extract frequent itemsets\n",
    "frequent_itemsets = model.freqItemsets\n",
    "frequent_itemsets.show(truncate=False, n=10)"
   ],
   "outputs": [
    {
     "name": "stdout",
     "output_type": "stream",
     "text": [
      "+------------------------------------------------+----+\n",
      "|items                                           |freq|\n",
      "+------------------------------------------------+----+\n",
      "|[parahumans]                                    |254 |\n",
      "|[original_writing]                              |281 |\n",
      "|[140123]                                        |575 |\n",
      "|[140123, louis_tomlinson]                       |502 |\n",
      "|[melontrack]                                    |740 |\n",
      "|[melontrack, stray_kids]                        |590 |\n",
      "|[melontrack, userbeepls]                        |443 |\n",
      "|[melontrack, userbeepls, stray_kids]            |405 |\n",
      "|[melontrack, userbeepls, staysource]            |392 |\n",
      "|[melontrack, userbeepls, staysource, stray_kids]|382 |\n",
      "+------------------------------------------------+----+\n",
      "only showing top 10 rows\n",
      "\n"
     ]
    }
   ],
   "execution_count": 23
  },
  {
   "cell_type": "code",
   "id": "efd140ae-8376-4c75-bcb7-ccd45b24f722",
   "metadata": {
    "ExecuteTime": {
     "end_time": "2024-10-14T21:50:31.589435Z",
     "start_time": "2024-10-14T21:48:15.058423Z"
    }
   },
   "source": [
    "# Generate association rules\n",
    "association_rules = model.associationRules\n",
    "association_rules.show(truncate=False)"
   ],
   "outputs": [
    {
     "name": "stderr",
     "output_type": "stream",
     "text": [
      "[Stage 33:=====================================================>(499 + 1) / 500]\r"
     ]
    },
    {
     "name": "stdout",
     "output_type": "stream",
     "text": [
      "+--------------------------------------------------------------------------------------------------------------+---------------------+------------------+------------------+--------------------+\n",
      "|antecedent                                                                                                    |consequent           |confidence        |lift              |support             |\n",
      "+--------------------------------------------------------------------------------------------------------------+---------------------+------------------+------------------+--------------------+\n",
      "|[whimsigoth_room, whimsical, whimsigoth, witchcore, whimsigothic, decor, vintage]                             |[witchy]             |1.0               |3323.102564102564 |8.701921881604136E-5|\n",
      "|[whimsigoth_room, whimsical, whimsigoth, witchcore, whimsigothic, decor, vintage]                             |[witchy_aesthetic]   |1.0               |3702.885714285714 |8.701921881604136E-5|\n",
      "|[whimsigoth_room, whimsical, whimsigoth, witchcore, whimsigothic, decor, vintage]                             |[witches]            |1.0               |2687.5783410138247|8.701921881604136E-5|\n",
      "|[whimsigoth_room, whimsical, whimsigoth, witchcore, whimsigothic, decor, vintage]                             |[witch]              |1.0               |1831.0973312401886|8.701921881604136E-5|\n",
      "|[whimsigoth_room, whimsical, whimsigoth, witchcore, whimsigothic, decor, vintage]                             |[witchcraft]         |1.0               |1589.1130790190737|8.701921881604136E-5|\n",
      "|[whimsigoth_room, whimsical, whimsigoth, witchcore, whimsigothic, decor, vintage]                             |[witch_aesthetic]    |1.0               |4819.871900826446 |8.701921881604136E-5|\n",
      "|[whimsigoth_room, whimsical, whimsigoth, witchcore, whimsigothic, decor, vintage]                             |[witchyvibes]        |1.0               |5387.570438799076 |8.701921881604136E-5|\n",
      "|[whimsigoth_room, whimsical, whimsigoth, witchcore, whimsigothic, decor, vintage]                             |[witchythings]       |1.0               |5890.954545454546 |8.701921881604136E-5|\n",
      "|[whimsigoth_room, whimsical, whimsigoth, witchcore, whimsigothic, decor, vintage]                             |[witch_blog]         |0.9901477832512315|5984.027387120652 |8.616188661095722E-5|\n",
      "|[whimsigoth_room, whimsical, whimsigoth, witchcore, whimsigothic, decor, vintage]                             |[whimsy]             |1.0               |6761.791304347827 |8.701921881604136E-5|\n",
      "|[whimsigoth_room, whimsical, whimsigoth, witchcore, whimsigothic, decor, vintage]                             |[witchy_things]      |1.0               |6665.194285714286 |8.701921881604136E-5|\n",
      "|[whimsigoth_room, whimsical, whimsigoth, witchcore, whimsigothic, decor, vintage]                             |[whimsigothcore]     |0.9901477832512315|7240.860725481415 |8.616188661095722E-5|\n",
      "|[whimsigoth_room, whimsical, whimsigoth, witchcore, whimsigothic, decor, vintage]                             |[whimsigothaesthetic]|1.0               |7405.771428571428 |8.701921881604136E-5|\n",
      "|[whimsigoth_room, whimsical, whimsigoth, witchcore, whimsigothic, decor, vintage]                             |[whimsigoth_fashion] |1.0               |7290.05625        |8.701921881604136E-5|\n",
      "|[whimsigothaesthetic, whimsigothcore, witch_blog, whimsigoth, witchyvibes, whimsigothic, witchy, decor, witch]|[whimsigoth_room]    |1.0               |7854.60606060606  |8.616188661095722E-5|\n",
      "|[whimsigothaesthetic, whimsigothcore, witch_blog, whimsigoth, witchyvibes, whimsigothic, witchy, decor, witch]|[whimsical]          |1.0               |6106.853403141361 |8.616188661095722E-5|\n",
      "|[whimsigothaesthetic, whimsigothcore, witch_blog, whimsigoth, witchyvibes, whimsigothic, witchy, decor, witch]|[whimsy]             |1.0               |6761.791304347827 |8.616188661095722E-5|\n",
      "|[whimsigothaesthetic, whimsigothcore, witch_blog, whimsigoth, witchyvibes, whimsigothic, witchy, decor, witch]|[witchy_things]      |1.0               |6665.194285714286 |8.616188661095722E-5|\n",
      "|[whimsigothaesthetic, whimsigothcore, witch_blog, whimsigoth, witchyvibes, whimsigothic, witchy, decor, witch]|[whimsigoth_fashion] |1.0               |7290.05625        |8.616188661095722E-5|\n",
      "|[whimsigothaesthetic, whimsigothcore, witch_blog, whimsigoth, witchyvibes, whimsigothic, witchy, decor, witch]|[witchcore]          |1.0               |5387.570438799076 |8.616188661095722E-5|\n",
      "+--------------------------------------------------------------------------------------------------------------+---------------------+------------------+------------------+--------------------+\n",
      "only showing top 20 rows\n",
      "\n"
     ]
    },
    {
     "name": "stderr",
     "output_type": "stream",
     "text": [
      "24/10/15 00:50:31 WARN Executor: Managed memory leak detected; size = 36841566 bytes, task 0.0 in stage 34.0 (TID 4069)\n",
      "                                                                                \r"
     ]
    }
   ],
   "execution_count": 24
  },
  {
   "cell_type": "code",
   "id": "2c1aa626-e9ff-4077-8661-7f3f937aebe2",
   "metadata": {
    "ExecuteTime": {
     "end_time": "2024-10-14T21:51:30.698834Z",
     "start_time": "2024-10-14T21:50:31.671116Z"
    }
   },
   "source": [
    "# Sort rules by confidence\n",
    "sorted_rules = association_rules.orderBy(col(\"confidence\").desc())\n",
    "sorted_rules.show(truncate=False, n=10)"
   ],
   "outputs": [
    {
     "name": "stderr",
     "output_type": "stream",
     "text": [
      "[Stage 39:=====================================================>(496 + 4) / 500]\r"
     ]
    },
    {
     "name": "stdout",
     "output_type": "stream",
     "text": [
      "+----------------------------------------------------------------------------------------------------------------------------------------------------------------------+--------------------+----------+------------------+---------------------+\n",
      "|antecedent                                                                                                                                                            |consequent          |confidence|lift              |support              |\n",
      "+----------------------------------------------------------------------------------------------------------------------------------------------------------------------+--------------------+----------+------------------+---------------------+\n",
      "|[whimsigothaesthetic, whimsigoth_fashion, whimsy, witchy_things, whimsical, witch_blog, whimsigoth, witchyvibes, witchcore, witchy, decor, witch, witchcraft, vintage]|[whimsigoth_room]   |1.0       |7854.60606060606  |8.616188661095722E-5 |\n",
      "|[thelastofusedit, hboedit, tlouedit, joel_miller]                                                                                                                     |[tusercora]         |1.0       |1844.124901185771 |2.066170614252805E-4 |\n",
      "|[inspiring_quotes, relationship, motivation, spilled_ink, thoughts, words, love, aesthetic]                                                                           |[quoteoftheday]     |1.0       |2088.4673231871084|2.4048168352610447E-4|\n",
      "|[the_selection, suf, kataow, tog, owl_house, spop, ml, steven_universe, miraculous_ladybug, toh]                                                                      |[at]                |1.0       |5071.343478260869 |1.251705019422861E-4 |\n",
      "|[whimsigoth_room, whimsigothaesthetic, whimsigothcore, witchy_things, whimsical, witchythings, witchyvibes, whimsigothic, witch_aesthetic, witchcraft]                |[whimsigoth_fashion]|1.0       |7290.05625        |1.1702584599398667E-4|\n",
      "|[thelastofusedit, hboedit, tlouedit, joel_miller]                                                                                                                     |[hbo_max]           |1.0       |2204.9319470699434|2.066170614252805E-4 |\n",
      "|[prose, relationship_quotes, quoteoftheday, relationship, original, words, quotes, poetry]                                                                            |[love_quotes]       |1.0       |1611.0621546961327|2.383383530133941E-4 |\n",
      "|[inspiring_quotes, prose, relationship_quotes, quoteoftheday, love_quotes, spilled_ink, thoughts, literature, writing, quotes]                                        |[life_quotes]       |1.0       |1623.3945720250522|2.400530174235624E-4 |\n",
      "|[kataow, kipo, throne_of_glass, steven_universe_future, tog, acotar, su, spop, adventure_time, steven_universe, gravity_falls]                                        |[owl_house]         |1.0       |2894.3151364764267|1.251705019422861E-4 |\n",
      "|[thelastofusedit, hboedit, tlouedit, joel_miller]                                                                                                                     |[tlou_spoilers]     |1.0       |701.8104693140795 |2.066170614252805E-4 |\n",
      "|[inspiring_quotes, relationship, motivation, spilled_ink, thoughts, words, love, aesthetic]                                                                           |[writing]           |1.0       |311.58247629223985|2.4048168352610447E-4|\n",
      "|[inspiring_quotes, prose, relationship_quotes, quoteoftheday, love_quotes, spilled_ink, thoughts, literature, writing, quotes]                                        |[poem]              |1.0       |1105.6009478672986|2.400530174235624E-4 |\n",
      "|[prose, relationship_quotes, quoteoftheday, relationship, life_quotes, spilled_ink, thoughts, poem, original, words, writing, quotes, poetry]                         |[lit]               |1.0       |897.5829165063486 |2.383383530133941E-4 |\n",
      "|[thelastofusedit, hboedit, tlouedit, joel_miller]                                                                                                                     |[pedropascaledit]   |1.0       |1185.375          |2.066170614252805E-4 |\n",
      "|[inspiring_quotes, prose, quoteoftheday, life_quotes, motivation, spilled_ink, literature, writing, love, quotes]                                                     |[relationship]      |1.0       |1757.9638281838734|2.4048168352610447E-4|\n",
      "|[inspiring_quotes, prose, relationship_quotes, quoteoftheday, love_quotes, spilled_ink, thoughts, literature, writing, quotes]                                        |[words]             |1.0       |372.17900446713463|2.400530174235624E-4 |\n",
      "|[whimsigoth_room, whimsigothaesthetic, whimsigothcore, whimsigoth_fashion, whimsical, witchythings, witchyvibes, witch_aesthetic, witchy, decor, witches, witchcraft] |[witchy_things]     |1.0       |6665.194285714286 |8.616188661095722E-5 |\n",
      "|[thelastofusedit, hboedit, tlouedit, joel_miller]                                                                                                                     |[ppascaledit]       |1.0       |1292.419944598338 |2.066170614252805E-4 |\n",
      "|[inspiring_quotes, relationship, motivation, spilled_ink, thoughts, words, love, aesthetic]                                                                           |[quotes]            |1.0       |281.6392611372691 |2.4048168352610447E-4|\n",
      "|[inspiring_quotes, prose, relationship_quotes, quoteoftheday, love_quotes, spilled_ink, thoughts, literature, writing, quotes]                                        |[poetry]            |1.0       |270.65993734772013|2.400530174235624E-4 |\n",
      "+----------------------------------------------------------------------------------------------------------------------------------------------------------------------+--------------------+----------+------------------+---------------------+\n",
      "only showing top 20 rows\n",
      "\n"
     ]
    },
    {
     "name": "stderr",
     "output_type": "stream",
     "text": [
      "                                                                                \r"
     ]
    }
   ],
   "execution_count": 25
  },
  {
   "cell_type": "code",
   "id": "b9993b86-6abc-4749-8f29-a1f069979a26",
   "metadata": {
    "ExecuteTime": {
     "end_time": "2024-10-14T21:53:24.725855Z",
     "start_time": "2024-10-14T21:52:31.473326Z"
    }
   },
   "source": [
    "# Filter rules by lift\n",
    "filtered_rules = sorted_rules.filter(col(\"lift\") >= 1.0)\n",
    "filtered_rules.show(truncate=False, n=10)"
   ],
   "outputs": [
    {
     "name": "stderr",
     "output_type": "stream",
     "text": [
      "[Stage 44:=====================================================>(498 + 2) / 500]\r"
     ]
    },
    {
     "name": "stdout",
     "output_type": "stream",
     "text": [
      "+---------------------------------------------------------------------------------------------------------------------------------------------------------------------------------------------------+------------------------------------------+----------+------------------+---------------------+\n",
      "|antecedent                                                                                                                                                                                         |consequent                                |confidence|lift              |support              |\n",
      "+---------------------------------------------------------------------------------------------------------------------------------------------------------------------------------------------------+------------------------------------------+----------+------------------+---------------------+\n",
      "|[whimsigoth_room, whimsical, whimsigoth, witchcore, whimsigothic, decor, vintage]                                                                                                                  |[whimsigothaesthetic]                     |1.0       |7405.771428571428 |8.701921881604136E-5 |\n",
      "|[issue_56_got_me_so_inspired, they_are_crushing_it_over_there, surge_the_tenrec, idw_sonic, shadow_the_hedgehog]                                                                                   |[or_just_go_read_all_of_sonic_idw_its_fun]|1.0       |6373.819672131148 |1.5260513250497896E-4|\n",
      "|[prose, quoteoftheday, relationship, life_quotes, love_quotes, motivation, thoughts, poem, writing, poetry]                                                                                        |[inspiring_quotes]                        |1.0       |2481.7212765957447|2.4048168352610447E-4|\n",
      "|[inspiring_quotes, relationship, motivation, spilled_ink, thoughts, words, love, aesthetic]                                                                                                        |[quoteoftheday]                           |1.0       |2088.4673231871084|2.4048168352610447E-4|\n",
      "|[i_am_so_deeply_unwell_also_yes_its_415am_where_i_am_i_love_to_suffer, useralyssas, usernastya, joelmilleredit, hbo_the_last_of_us, the_last_of_us_hbo, tlou_spoilers, joel_miller, the_last_of_us]|[userjen]                                 |1.0       |2703.1494785631517|2.066170614252805E-4 |\n",
      "|[inspiring_quotes, prose, quoteoftheday, life_quotes, motivation, spilled_ink, literature, writing, love, quotes]                                                                                  |[relationship]                            |1.0       |1757.9638281838734|2.4048168352610447E-4|\n",
      "|[thelastofusedit, hboedit, tlouedit, joel_miller]                                                                                                                                                  |[tusercora]                               |1.0       |1844.124901185771 |2.066170614252805E-4 |\n",
      "|[inspiring_quotes, relationship, motivation, spilled_ink, thoughts, words, love, aesthetic]                                                                                                        |[prose]                                   |1.0       |2202.849858356941 |2.4048168352610447E-4|\n",
      "|[whimsigoth_room, whimsigothaesthetic, whimsigothcore, whimsy, whimsical, witchythings, witchyvibes, witchcore, witchy]                                                                            |[whimsigoth_fashion]                      |1.0       |7290.05625        |1.1702584599398667E-4|\n",
      "|[issue_56_got_me_so_inspired, they_are_crushing_it_over_there, surge_the_tenrec, idw_sonic, shadow_the_hedgehog]                                                                                   |[comic]                                   |1.0       |265.45493855257166|1.5260513250497896E-4|\n",
      "+---------------------------------------------------------------------------------------------------------------------------------------------------------------------------------------------------+------------------------------------------+----------+------------------+---------------------+\n",
      "only showing top 10 rows\n",
      "\n"
     ]
    },
    {
     "name": "stderr",
     "output_type": "stream",
     "text": [
      "                                                                                \r"
     ]
    }
   ],
   "execution_count": 26
  },
  {
   "metadata": {
    "ExecuteTime": {
     "end_time": "2024-10-14T21:54:17.102596Z",
     "start_time": "2024-10-14T21:53:24.841664Z"
    }
   },
   "cell_type": "code",
   "source": [
    "# Count the number of association rules with lift >= 1.0\n",
    "n_rules = filtered_rules.count()\n",
    "n_rules"
   ],
   "id": "c5a173477ad10008",
   "outputs": [
    {
     "name": "stderr",
     "output_type": "stream",
     "text": [
      "                                                                                \r"
     ]
    },
    {
     "data": {
      "text/plain": [
       "63685196"
      ]
     },
     "execution_count": 27,
     "metadata": {},
     "output_type": "execute_result"
    }
   ],
   "execution_count": 27
  },
  {
   "metadata": {
    "ExecuteTime": {
     "end_time": "2024-10-14T21:54:17.183551Z",
     "start_time": "2024-10-14T21:54:17.168466Z"
    }
   },
   "cell_type": "code",
   "source": [
    "# Calculate the actual support (frequency) of the association rules\n",
    "filtered_rules = filtered_rules.withColumn(\n",
    "    \"support_count\",\n",
    "    col(\"support\") * n_baskets,\n",
    ")"
   ],
   "id": "119e26790dc6d9b",
   "outputs": [],
   "execution_count": 28
  },
  {
   "metadata": {
    "ExecuteTime": {
     "end_time": "2024-10-14T21:54:17.195631Z",
     "start_time": "2024-10-14T21:54:17.191892Z"
    }
   },
   "cell_type": "code",
   "source": [
    "# show the schema\n",
    "filtered_rules.printSchema()"
   ],
   "id": "77eafdd06e571cdc",
   "outputs": [
    {
     "name": "stdout",
     "output_type": "stream",
     "text": [
      "root\n",
      " |-- antecedent: array (nullable = false)\n",
      " |    |-- element: string (containsNull = true)\n",
      " |-- consequent: array (nullable = false)\n",
      " |    |-- element: string (containsNull = true)\n",
      " |-- confidence: double (nullable = false)\n",
      " |-- lift: double (nullable = true)\n",
      " |-- support: double (nullable = false)\n",
      " |-- support_count: double (nullable = false)\n",
      "\n"
     ]
    }
   ],
   "execution_count": 29
  },
  {
   "metadata": {
    "ExecuteTime": {
     "end_time": "2024-10-14T21:54:50.903642Z",
     "start_time": "2024-10-14T21:54:50.892257Z"
    }
   },
   "cell_type": "code",
   "source": [
    "# calculate the antecedent and consequent sizes\n",
    "filtered_rules = filtered_rules.withColumn(\n",
    "    \"antecedent_size\", size(col(\"antecedent\"))\n",
    ").withColumn(\"consequent_size\", size(col(\"consequent\")))"
   ],
   "id": "cf3421e1db77afe1",
   "outputs": [],
   "execution_count": 30
  },
  {
   "metadata": {
    "ExecuteTime": {
     "end_time": "2024-10-14T21:55:56.431675Z",
     "start_time": "2024-10-14T21:55:03.225481Z"
    }
   },
   "cell_type": "code",
   "source": [
    "# Group by the antecedent size and count the number of rules\n",
    "filtered_rules.groupBy(\"antecedent_size\").count().show()"
   ],
   "id": "533dbf87927adff3",
   "outputs": [
    {
     "name": "stderr",
     "output_type": "stream",
     "text": [
      "[Stage 60:=====================================================>(495 + 5) / 500]\r"
     ]
    },
    {
     "name": "stdout",
     "output_type": "stream",
     "text": [
      "+---------------+--------+\n",
      "|antecedent_size|   count|\n",
      "+---------------+--------+\n",
      "|             12| 6167576|\n",
      "|              1|    8539|\n",
      "|              6| 3500952|\n",
      "|              3|  212276|\n",
      "|              2|   57985|\n",
      "|             18|    5149|\n",
      "|              4|  645087|\n",
      "|              8| 8919069|\n",
      "|             13| 3471496|\n",
      "|             11| 8982193|\n",
      "|             17|   34560|\n",
      "|              7| 6137228|\n",
      "|             14| 1584090|\n",
      "|              9|10767799|\n",
      "|             10|10800256|\n",
      "|             16|  163115|\n",
      "|              5| 1650957|\n",
      "|             15|  576368|\n",
      "|             19|     480|\n",
      "|             20|      21|\n",
      "+---------------+--------+\n",
      "\n"
     ]
    },
    {
     "name": "stderr",
     "output_type": "stream",
     "text": [
      "                                                                                \r"
     ]
    }
   ],
   "execution_count": 31
  },
  {
   "metadata": {
    "ExecuteTime": {
     "end_time": "2024-10-14T21:56:04.536022Z",
     "start_time": "2024-10-14T21:56:04.530319Z"
    }
   },
   "cell_type": "code",
   "source": [
    "# Keep only rules with at most 4 antecedents\n",
    "filtered_rules = filtered_rules.filter(col(\"antecedent_size\") <= 4)"
   ],
   "id": "6328370cf7dd14c8",
   "outputs": [],
   "execution_count": 32
  },
  {
   "metadata": {
    "ExecuteTime": {
     "end_time": "2024-10-14T21:56:59.625526Z",
     "start_time": "2024-10-14T21:56:06.493569Z"
    }
   },
   "cell_type": "code",
   "source": [
    "# Count the number of rules after filtering\n",
    "filtered_rules.count()"
   ],
   "id": "1ca386c3dc950e60",
   "outputs": [
    {
     "name": "stderr",
     "output_type": "stream",
     "text": [
      "                                                                                \r"
     ]
    },
    {
     "data": {
      "text/plain": [
       "923887"
      ]
     },
     "execution_count": 33,
     "metadata": {},
     "output_type": "execute_result"
    }
   ],
   "execution_count": 33
  },
  {
   "metadata": {
    "ExecuteTime": {
     "end_time": "2024-10-14T21:57:21.914643Z",
     "start_time": "2024-10-14T21:57:21.886213Z"
    }
   },
   "cell_type": "code",
   "source": [
    "# Sort the antecedents and consequents arrays alphabetically for better readability\n",
    "filtered_rules = filtered_rules.withColumn(\n",
    "    \"antecedent\", udf(sorted, ArrayType(StringType()))(col(\"antecedent\"))\n",
    ").withColumn(\n",
    "    \"consequent\", udf(sorted, ArrayType(StringType()))(col(\"consequent\"))\n",
    ")"
   ],
   "id": "2a9a1ad37efff3f2",
   "outputs": [],
   "execution_count": 35
  },
  {
   "metadata": {
    "ExecuteTime": {
     "end_time": "2024-10-14T21:59:08.748646Z",
     "start_time": "2024-10-14T21:57:24.437693Z"
    }
   },
   "cell_type": "code",
   "source": [
    "# Show the updated DataFrame\n",
    "filtered_rules.show(truncate=False, n=10)"
   ],
   "id": "af399525b6dc8dee",
   "outputs": [
    {
     "name": "stderr",
     "output_type": "stream",
     "text": [
      "[Stage 87:=====================================================>(498 + 2) / 500]\r"
     ]
    },
    {
     "name": "stdout",
     "output_type": "stream",
     "text": [
      "+-------------------------------------------------------------+--------------------+----------+------------------+--------------------+-------------+---------------+---------------+\n",
      "|antecedent                                                   |consequent          |confidence|lift              |support             |support_count|antecedent_size|consequent_size|\n",
      "+-------------------------------------------------------------+--------------------+----------+------------------+--------------------+-------------+---------------+---------------+\n",
      "|[byaurore, dailystrangerthings, stranger_things, tuserrachel]|[strangerthingsedit]|1.0       |701.1776375112713 |9.302054425163043E-5|217.0        |4              |1              |\n",
      "|[byaurore, dailystrangerthings, stranger_things, tuserrachel]|[userbbelcher]      |1.0       |194.32053311120364|9.302054425163043E-5|217.0        |4              |1              |\n",
      "|[byaurore, dailystrangerthings, stranger_things, tuserrachel]|[noalook]           |1.0       |1293.1363636363637|9.302054425163043E-5|217.0        |4              |1              |\n",
      "|[keps, kesfet, komikresim, reels]                            |[guldumnet]         |1.0       |8972.376923076923 |1.114531866609397E-4|260.0        |4              |1              |\n",
      "|[keps, kesfet, komikresim, reels]                            |[9gag]              |1.0       |8938.0            |1.114531866609397E-4|260.0        |4              |1              |\n",
      "|[keps, kesfet, komikresim, reels]                            |[komik]             |1.0       |8737.146067415732 |1.114531866609397E-4|260.0        |4              |1              |\n",
      "|[keps, kesfet, komikresim, reels]                            |[komikli]           |1.0       |8903.885496183206 |1.114531866609397E-4|260.0        |4              |1              |\n",
      "|[keps, kesfet, komikresim, reels]                            |[monte]             |1.0       |8903.885496183206 |1.114531866609397E-4|260.0        |4              |1              |\n",
      "|[keps, kesfet, komikresim, reels]                            |[instagram]         |1.0       |558.7588023952096 |1.114531866609397E-4|260.0        |4              |1              |\n",
      "|[keps, kesfet, komikresim, reels]                            |[meme]              |1.0       |167.8527845733199 |1.114531866609397E-4|260.0        |4              |1              |\n",
      "+-------------------------------------------------------------+--------------------+----------+------------------+--------------------+-------------+---------------+---------------+\n",
      "only showing top 10 rows\n",
      "\n"
     ]
    },
    {
     "name": "stderr",
     "output_type": "stream",
     "text": [
      "                                                                                \r"
     ]
    }
   ],
   "execution_count": 36
  },
  {
   "cell_type": "code",
   "id": "4e7b6ebf-5e58-4e39-bfe6-c4a3a55831a7",
   "metadata": {
    "ExecuteTime": {
     "end_time": "2024-10-14T22:01:08.635598Z",
     "start_time": "2024-10-14T21:59:11.924004Z"
    }
   },
   "source": [
    "# Save the association rules to a CSV file\n",
    "output_path = \"../artifacts/models/association_rules_spark.csv\"\n",
    "filtered_rules.toPandas().to_csv(output_path, index=False)"
   ],
   "outputs": [
    {
     "name": "stderr",
     "output_type": "stream",
     "text": [
      "                                                                                \r"
     ]
    }
   ],
   "execution_count": 37
  },
  {
   "cell_type": "code",
   "id": "c8c8785d-e602-4d01-903a-c31d778958f0",
   "metadata": {
    "ExecuteTime": {
     "end_time": "2024-10-14T22:01:37.735631Z",
     "start_time": "2024-10-14T22:01:34.209880Z"
    }
   },
   "source": [
    "# Stop the Spark session after transformation\n",
    "spark.stop()"
   ],
   "outputs": [],
   "execution_count": 38
  }
 ],
 "metadata": {
  "kernelspec": {
   "display_name": "Python 3 (ipykernel)",
   "language": "python",
   "name": "python3"
  },
  "language_info": {
   "codemirror_mode": {
    "name": "ipython",
    "version": 3
   },
   "file_extension": ".py",
   "mimetype": "text/x-python",
   "name": "python",
   "nbconvert_exporter": "python",
   "pygments_lexer": "ipython3",
   "version": "3.11.9"
  }
 },
 "nbformat": 4,
 "nbformat_minor": 5
}
