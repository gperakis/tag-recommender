{
 "cells": [
  {
   "cell_type": "code",
   "id": "506ce01c-8fda-43bf-ab4e-3067aa0c7989",
   "metadata": {
    "ExecuteTime": {
     "end_time": "2024-10-17T21:03:31.764852Z",
     "start_time": "2024-10-17T21:03:31.406332Z"
    }
   },
   "source": [
    "from pyspark import StorageLevel\n",
    "from pyspark.ml.fpm import FPGrowth\n",
    "from pyspark.sql import SparkSession\n",
    "from pyspark.sql.functions import col, size, udf\n",
    "from pyspark.sql.types import ArrayType, StringType\n",
    "\n",
    "from tag_recommender.utils.text import to_snake_case_boosted"
   ],
   "outputs": [],
   "execution_count": 1
  },
  {
   "cell_type": "code",
   "id": "244fe040-8194-44a3-856a-b5a83b0b328f",
   "metadata": {
    "ExecuteTime": {
     "end_time": "2024-10-17T21:03:33.778466Z",
     "start_time": "2024-10-17T21:03:31.779655Z"
    }
   },
   "source": [
    "spark = (\n",
    "    SparkSession.builder.appName(\"FrequentPatternsSpark\")\n",
    "    .config(\"spark.executor.memory\", \"8g\")\n",
    "    .config(\"spark.driver.memory\", \"8g\")\n",
    "    .config(\"spark.executor.memoryOverhead\", \"2g\")\n",
    "    .config(\"spark.sql.shuffle.partitions\", \"500\")\n",
    "    .config(\"spark.driver.maxResultSize\", \"4g\")\n",
    "    .getOrCreate()\n",
    ")"
   ],
   "outputs": [
    {
     "name": "stderr",
     "output_type": "stream",
     "text": [
      "Setting default log level to \"WARN\".\n",
      "To adjust logging level use sc.setLogLevel(newLevel). For SparkR, use setLogLevel(newLevel).\n",
      "24/10/18 00:03:33 WARN NativeCodeLoader: Unable to load native-hadoop library for your platform... using builtin-java classes where applicable\n"
     ]
    }
   ],
   "execution_count": 2
  },
  {
   "cell_type": "code",
   "id": "212f99d2-96a1-437d-a5f7-bd4243b7a77e",
   "metadata": {
    "ExecuteTime": {
     "end_time": "2024-10-17T21:03:35.379030Z",
     "start_time": "2024-10-17T21:03:33.835792Z"
    }
   },
   "source": [
    "# Load data from CSV (adjust the file path as necessary)\n",
    "file_path = \"../data/processed/train.parquet\"\n",
    "# The train dataset already contains the root_tags as an array form.\n",
    "# The tags column is also in an array form.\n",
    "df = spark.read.parquet(file_path, header=True, inferSchema=True)"
   ],
   "outputs": [],
   "execution_count": 3
  },
  {
   "metadata": {
    "ExecuteTime": {
     "end_time": "2024-10-17T21:03:35.402406Z",
     "start_time": "2024-10-17T21:03:35.399227Z"
    }
   },
   "cell_type": "code",
   "source": [
    "# Show the schema of the DataFrame\n",
    "df.printSchema()"
   ],
   "id": "3fc304c93834263c",
   "outputs": [
    {
     "name": "stdout",
     "output_type": "stream",
     "text": [
      "root\n",
      " |-- type: string (nullable = true)\n",
      " |-- lang: string (nullable = true)\n",
      " |-- is_reblog: double (nullable = true)\n",
      " |-- tags: array (nullable = true)\n",
      " |    |-- element: string (containsNull = true)\n",
      " |-- root_tags: array (nullable = true)\n",
      " |    |-- element: string (containsNull = true)\n",
      " |-- root_tags_count: long (nullable = true)\n",
      " |-- tags_count: long (nullable = true)\n",
      " |-- lang_type: string (nullable = true)\n",
      " |-- type_bucket: string (nullable = true)\n",
      " |-- root_tags_popularity: long (nullable = true)\n",
      " |-- tags_popularity: long (nullable = true)\n",
      " |-- total_popularity: long (nullable = true)\n",
      " |-- root_tags_count_bucket: string (nullable = true)\n",
      " |-- tags_count_bucket: string (nullable = true)\n",
      "\n"
     ]
    }
   ],
   "execution_count": 4
  },
  {
   "metadata": {
    "ExecuteTime": {
     "end_time": "2024-10-17T21:03:36.697593Z",
     "start_time": "2024-10-17T21:03:35.467667Z"
    }
   },
   "cell_type": "code",
   "source": [
    "# Show the first 5 rows of the DataFrame\n",
    "df.show(truncate=True, n=10)"
   ],
   "id": "8d6c5e183130c084",
   "outputs": [
    {
     "name": "stdout",
     "output_type": "stream",
     "text": [
      "+-------+-----+---------+--------------------+--------------------+---------------+----------+---------+-----------+--------------------+---------------+----------------+----------------------+-----------------+\n",
      "|   type| lang|is_reblog|                tags|           root_tags|root_tags_count|tags_count|lang_type|type_bucket|root_tags_popularity|tags_popularity|total_popularity|root_tags_count_bucket|tags_count_bucket|\n",
      "+-------+-----+---------+--------------------+--------------------+---------------+----------+---------+-----------+--------------------+---------------+----------------+----------------------+-----------------+\n",
      "|  photo|it_IT|      1.0|[Tbb, gregor, Art...|[I'm artblocked s...|              8|         5|    other|      photo|                3861|           3125|            6986|           (3.0, 10.0]|       (2.0, 5.0]|\n",
      "|  photo|en_US|      1.0|[doctor who, bill...|[dwedit, doctor w...|             10|         5|       en|      photo|               13260|           6202|           19462|           (3.0, 10.0]|       (2.0, 5.0]|\n",
      "|  photo|en_US|      1.0|  [aftersun, movies]|[Aftersun, Charlo...|             14|         2|       en|      photo|               10684|           6556|           17240|          (10.0, 20.0]|    (-0.001, 2.0]|\n",
      "|  photo|en_US|      1.0|[Bulgaria, fascin...|[sofia bulgaria s...|              4|         3|       en|      photo|                 112|             24|             136|           (3.0, 10.0]|       (2.0, 5.0]|\n",
      "|  photo|en_US|      1.0|       [kenny omega]|[kenny omega, aew...|              3|         1|       en|      photo|                2228|            531|            2759|         (-0.001, 3.0]|    (-0.001, 2.0]|\n",
      "|  photo|en_US|      1.0|[sctir, tsctir, s...|[s classes that i...|             10|         6|       en|      photo|                 158|            705|             863|           (3.0, 10.0]|      (5.0, 10.0]|\n",
      "|regular|en_US|      0.0|           [food tw]|                  []|              0|         1|       en|      other|                   0|            329|             329|         (-0.001, 3.0]|    (-0.001, 2.0]|\n",
      "|regular|en_US|      1.0|              [text]|                  []|              0|         1|       en|      other|                   0|          12052|           12052|         (-0.001, 3.0]|    (-0.001, 2.0]|\n",
      "|  photo|en_US|      1.0|         [interiors]|[Mother Earth Oas...|              2|         1|       en|      photo|                  14|            878|             892|         (-0.001, 3.0]|    (-0.001, 2.0]|\n",
      "|regular|en_US|      1.0|  [personal log, 👀]|[Ask meme, Ask me...|              7|         2|       en|      other|                 310|            792|            1102|           (3.0, 10.0]|    (-0.001, 2.0]|\n",
      "+-------+-----+---------+--------------------+--------------------+---------------+----------+---------+-----------+--------------------+---------------+----------------+----------------------+-----------------+\n",
      "only showing top 10 rows\n",
      "\n"
     ]
    }
   ],
   "execution_count": 5
  },
  {
   "cell_type": "code",
   "id": "cc46994c-9556-422a-b571-fbec1ab8982a",
   "metadata": {
    "ExecuteTime": {
     "end_time": "2024-10-17T21:03:36.708728Z",
     "start_time": "2024-10-17T21:03:36.704629Z"
    }
   },
   "source": [
    "# Register UDF for splitting tags\n",
    "@udf(ArrayType(StringType()))\n",
    "def preprocess_tags(tags):\n",
    "    return [to_snake_case_boosted(tag) for tag in tags]\n",
    "\n",
    "\n",
    "# Remove empty strings from the arrays\n",
    "@udf(ArrayType(StringType()))\n",
    "def remove_empty(arr):\n",
    "    return [i for i in arr if i]\n",
    "\n",
    "\n",
    "# UDF to remove duplicates from each tag array\n",
    "@udf(ArrayType(StringType()))\n",
    "def remove_duplicates(arr):\n",
    "    return sorted(set(arr))"
   ],
   "outputs": [],
   "execution_count": 6
  },
  {
   "cell_type": "code",
   "id": "58a34e19-069f-4048-970c-66215e388921",
   "metadata": {
    "ExecuteTime": {
     "end_time": "2024-10-17T21:03:36.861810Z",
     "start_time": "2024-10-17T21:03:36.817285Z"
    }
   },
   "source": [
    "# Apply the split and snake_case conversion function to both 'root_tags' and 'tags' columns\n",
    "df = df.withColumn(\"root_tags_array\", preprocess_tags(col(\"root_tags\")))\n",
    "df = df.withColumn(\"tags_array\", preprocess_tags(col(\"tags\")))"
   ],
   "outputs": [],
   "execution_count": 7
  },
  {
   "cell_type": "code",
   "id": "61686155-1a9c-4cff-8cbe-5e2e46683178",
   "metadata": {
    "ExecuteTime": {
     "end_time": "2024-10-17T21:03:37.082943Z",
     "start_time": "2024-10-17T21:03:37.054185Z"
    }
   },
   "source": [
    "# Remove empty lists that are like ['']\n",
    "df = df.withColumn(\"root_tags_array\", remove_empty(col(\"root_tags_array\")))\n",
    "df = df.withColumn(\"tags_array\", remove_empty(col(\"tags_array\")))"
   ],
   "outputs": [],
   "execution_count": 8
  },
  {
   "cell_type": "code",
   "id": "498d9d36-c3d6-4357-af77-c0cb1dcecbf0",
   "metadata": {
    "ExecuteTime": {
     "end_time": "2024-10-17T21:03:37.880232Z",
     "start_time": "2024-10-17T21:03:37.109012Z"
    }
   },
   "source": [
    "df.show(truncate=True, n=5)"
   ],
   "outputs": [
    {
     "name": "stdout",
     "output_type": "stream",
     "text": [
      "+-----+-----+---------+--------------------+--------------------+---------------+----------+---------+-----------+--------------------+---------------+----------------+----------------------+-----------------+--------------------+--------------------+\n",
      "| type| lang|is_reblog|                tags|           root_tags|root_tags_count|tags_count|lang_type|type_bucket|root_tags_popularity|tags_popularity|total_popularity|root_tags_count_bucket|tags_count_bucket|     root_tags_array|          tags_array|\n",
      "+-----+-----+---------+--------------------+--------------------+---------------+----------+---------+-----------+--------------------+---------------+----------------+----------------------+-----------------+--------------------+--------------------+\n",
      "|photo|it_IT|      1.0|[Tbb, gregor, Art...|[I'm artblocked s...|              8|         5|    other|      photo|                3861|           3125|            6986|           (3.0, 10.0]|       (2.0, 5.0]|[im_artblocked_so...|[tbb, gregor, art...|\n",
      "|photo|en_US|      1.0|[doctor who, bill...|[dwedit, doctor w...|             10|         5|       en|      photo|               13260|           6202|           19462|           (3.0, 10.0]|       (2.0, 5.0]|[dwedit, doctor_w...|[doctor_who, bill...|\n",
      "|photo|en_US|      1.0|  [aftersun, movies]|[Aftersun, Charlo...|             14|         2|       en|      photo|               10684|           6556|           17240|          (10.0, 20.0]|    (-0.001, 2.0]|[aftersun, charlo...|  [aftersun, movies]|\n",
      "|photo|en_US|      1.0|[Bulgaria, fascin...|[sofia bulgaria s...|              4|         3|       en|      photo|                 112|             24|             136|           (3.0, 10.0]|       (2.0, 5.0]|[sofia_bulgaria_s...|[bulgaria, fascin...|\n",
      "|photo|en_US|      1.0|       [kenny omega]|[kenny omega, aew...|              3|         1|       en|      photo|                2228|            531|            2759|         (-0.001, 3.0]|    (-0.001, 2.0]|[kenny_omega, aew...|       [kenny_omega]|\n",
      "+-----+-----+---------+--------------------+--------------------+---------------+----------+---------+-----------+--------------------+---------------+----------------+----------------------+-----------------+--------------------+--------------------+\n",
      "only showing top 5 rows\n",
      "\n"
     ]
    }
   ],
   "execution_count": 9
  },
  {
   "cell_type": "code",
   "id": "6df5c701-b496-4ef9-a665-ccd49ae03e7c",
   "metadata": {
    "ExecuteTime": {
     "end_time": "2024-10-17T21:03:37.938155Z",
     "start_time": "2024-10-17T21:03:37.899986Z"
    }
   },
   "source": [
    "# Step 5: Join all normalized lists into one unified column\n",
    "\n",
    "# This method performs a SQL-style set union of the rows from both DataFrame objects,\n",
    "# with no automatic deduplication of elements.\n",
    "df_unified = df.selectExpr(\"root_tags_array as tag_arrays\").union(\n",
    "    df.selectExpr(\"tags_array as tag_arrays\")\n",
    ")"
   ],
   "outputs": [],
   "execution_count": 10
  },
  {
   "metadata": {
    "ExecuteTime": {
     "end_time": "2024-10-17T21:03:38.253830Z",
     "start_time": "2024-10-17T21:03:37.977630Z"
    }
   },
   "cell_type": "code",
   "source": [
    "# Show the unified dataset\n",
    "df_unified.show(truncate=True, n=10)"
   ],
   "id": "43da14a66150068c",
   "outputs": [
    {
     "name": "stdout",
     "output_type": "stream",
     "text": [
      "+--------------------+\n",
      "|          tag_arrays|\n",
      "+--------------------+\n",
      "|[im_artblocked_so...|\n",
      "|[dwedit, doctor_w...|\n",
      "|[aftersun, charlo...|\n",
      "|[sofia_bulgaria_s...|\n",
      "|[kenny_omega, aew...|\n",
      "|[s_classes_that_i...|\n",
      "|                  []|\n",
      "|                  []|\n",
      "|[mother_earth_oas...|\n",
      "|[ask_meme, ask_me...|\n",
      "+--------------------+\n",
      "only showing top 10 rows\n",
      "\n"
     ]
    }
   ],
   "execution_count": 11
  },
  {
   "metadata": {
    "ExecuteTime": {
     "end_time": "2024-10-17T21:03:38.270259Z",
     "start_time": "2024-10-17T21:03:38.266320Z"
    }
   },
   "cell_type": "code",
   "source": "df_unified.printSchema()",
   "id": "fbd913b2c80d7ecf",
   "outputs": [
    {
     "name": "stdout",
     "output_type": "stream",
     "text": [
      "root\n",
      " |-- tag_arrays: array (nullable = true)\n",
      " |    |-- element: string (containsNull = true)\n",
      "\n"
     ]
    }
   ],
   "execution_count": 12
  },
  {
   "metadata": {
    "ExecuteTime": {
     "end_time": "2024-10-17T21:03:38.335091Z",
     "start_time": "2024-10-17T21:03:38.321966Z"
    }
   },
   "cell_type": "code",
   "source": [
    "# Remove empty arrays from the tag_arrays column\n",
    "df_unified = df_unified.filter(size(col(\"tag_arrays\")) > 0)"
   ],
   "id": "779e67af5a6643a",
   "outputs": [],
   "execution_count": 13
  },
  {
   "metadata": {
    "ExecuteTime": {
     "end_time": "2024-10-17T21:03:38.813998Z",
     "start_time": "2024-10-17T21:03:38.352795Z"
    }
   },
   "cell_type": "code",
   "source": "df_unified.show(truncate=True, n=10)",
   "id": "23c2c7f3fa6cb6b1",
   "outputs": [
    {
     "name": "stdout",
     "output_type": "stream",
     "text": [
      "+--------------------+\n",
      "|          tag_arrays|\n",
      "+--------------------+\n",
      "|[im_artblocked_so...|\n",
      "|[dwedit, doctor_w...|\n",
      "|[aftersun, charlo...|\n",
      "|[sofia_bulgaria_s...|\n",
      "|[kenny_omega, aew...|\n",
      "|[s_classes_that_i...|\n",
      "|[mother_earth_oas...|\n",
      "|[ask_meme, ask_me...|\n",
      "|[phineas_and_ferb...|\n",
      "|[we_best_love_fig...|\n",
      "+--------------------+\n",
      "only showing top 10 rows\n",
      "\n"
     ]
    }
   ],
   "execution_count": 14
  },
  {
   "cell_type": "code",
   "id": "9c12929f-ffaf-4682-a9be-18e3365ad8c0",
   "metadata": {
    "ExecuteTime": {
     "end_time": "2024-10-17T21:03:38.840204Z",
     "start_time": "2024-10-17T21:03:38.827629Z"
    }
   },
   "source": [
    "# remove duplicate tags that were created during normalization\n",
    "df_unified = df_unified.withColumn(\"tag_arrays\", remove_duplicates(col(\"tag_arrays\")))"
   ],
   "outputs": [],
   "execution_count": 15
  },
  {
   "cell_type": "code",
   "id": "b8de31ad-a1be-479c-b133-8dd4306f6f95",
   "metadata": {
    "scrolled": true,
    "ExecuteTime": {
     "end_time": "2024-10-17T21:03:39.239319Z",
     "start_time": "2024-10-17T21:03:38.870333Z"
    }
   },
   "source": [
    "# Show the unified dataset\n",
    "df_unified.show(truncate=False, n=10)"
   ],
   "outputs": [
    {
     "name": "stdout",
     "output_type": "stream",
     "text": [
      "+----------------------------------------------------------------------------------------------------------------------------------------------------------------------------------------------------------------------------------------+\n",
      "|tag_arrays                                                                                                                                                                                                                              |\n",
      "+----------------------------------------------------------------------------------------------------------------------------------------------------------------------------------------------------------------------------------------+\n",
      "|[clone_commando_gregor, im_artblocked_so_even_simple_sketches_are_a_struggle_atm_but_at_least_i_finished_this, lornart, spoilers, tbb_spoilers, the_bad_batch, the_bad_batch_fanart, the_bad_batch_spoilers]                            |\n",
      "|[billie_piper, david_tennant, doctor_who, dwedit, mine_dw, otp_better_with_two, rose_tyler, ten_x_rose, tenth_doctor]                                                                                                                   |\n",
      "|[2022, aftersun, bed, charlotte_wells, childhood, debut, family, father, francesca_corio, freedom, life, paul_mescal, quote, time]                                                                                                      |\n",
      "|[klik_shops, kneeling_shops_of_bulgaria, sofia_bulgaria_shops, tourism_bulgaria]                                                                                                                                                        |\n",
      "|[aew, aew_dynamite, kenny_omega]                                                                                                                                                                                                        |\n",
      "|[han_yoohyun, han_yuhyeon, hyh, hyh_dont_speak_to_him_dont_look_at_him_ever_again, s_classes_that_i_raised, sctir, shj, shj_so_anyway_im_going_to_keep_speaking_and_keep_looking_at_him_for_the_next_600_chapters, sung_hyunjae, tsctir]|\n",
      "|[mother_earth_garden, mother_earth_oasis]                                                                                                                                                                                               |\n",
      "|[ask_list, ask_me_maybe, ask_meme, music_asks, send_asks, send_me_a_number, song_asks]                                                                                                                                                  |\n",
      "|[artbyleibi97, but_not_really_a_spoiler_because_i_havent_spoiled_the_real_scene_xd, doofenshmirtz, heinz_doofenshmirtz, perry_the_platypus, perryshmirtz, phineas_and_ferb, pnf_spoiler, pnf_spoilers, spoiler]                         |\n",
      "|[bl_series, episode_4, gao_shi_de, special_edition, taiwan_bl, we_best_love_fighting_mr_2nd, zhou_shu_yi]                                                                                                                               |\n",
      "+----------------------------------------------------------------------------------------------------------------------------------------------------------------------------------------------------------------------------------------+\n",
      "only showing top 10 rows\n",
      "\n"
     ]
    }
   ],
   "execution_count": 16
  },
  {
   "cell_type": "code",
   "id": "30e87248-ca75-4b54-9d3e-bb7a2b4fbb4a",
   "metadata": {
    "ExecuteTime": {
     "end_time": "2024-10-17T21:04:33.399243Z",
     "start_time": "2024-10-17T21:03:39.246623Z"
    }
   },
   "source": [
    "# Calculate the length of df_unified\n",
    "n_baskets = df_unified.count()\n",
    "\n",
    "# Print the result\n",
    "print(f\"Number of rows in df_unified: {n_baskets}\")"
   ],
   "outputs": [
    {
     "name": "stderr",
     "output_type": "stream",
     "text": [
      "[Stage 11:=====================================================>  (19 + 1) / 20]\r"
     ]
    },
    {
     "name": "stdout",
     "output_type": "stream",
     "text": [
      "Number of rows in df_unified: 2332809\n"
     ]
    },
    {
     "name": "stderr",
     "output_type": "stream",
     "text": [
      "                                                                                \r"
     ]
    }
   ],
   "execution_count": 17
  },
  {
   "cell_type": "code",
   "id": "d9e34966-2ac9-4a75-8bb2-026fee5cf3e3",
   "metadata": {
    "ExecuteTime": {
     "end_time": "2024-10-17T21:04:33.536005Z",
     "start_time": "2024-10-17T21:04:33.532284Z"
    }
   },
   "source": [
    "# Repartition the dataset into more partitions\n",
    "df_unified = df_unified.repartition(500)"
   ],
   "outputs": [],
   "execution_count": 18
  },
  {
   "cell_type": "code",
   "id": "98bdddb3-2691-4969-aba4-938e8827a170",
   "metadata": {
    "ExecuteTime": {
     "end_time": "2024-10-17T21:04:33.582123Z",
     "start_time": "2024-10-17T21:04:33.549102Z"
    }
   },
   "source": [
    "# Persist with MEMORY_AND_DISK\n",
    "df_unified.persist(StorageLevel.MEMORY_AND_DISK)"
   ],
   "outputs": [
    {
     "data": {
      "text/plain": [
       "DataFrame[tag_arrays: array<string>]"
      ]
     },
     "execution_count": 19,
     "metadata": {},
     "output_type": "execute_result"
    }
   ],
   "execution_count": 19
  },
  {
   "metadata": {
    "ExecuteTime": {
     "end_time": "2024-10-17T21:04:33.624153Z",
     "start_time": "2024-10-17T21:04:33.621878Z"
    }
   },
   "cell_type": "code",
   "source": [
    "support = 250\n",
    "# Use the unified tags for frequent pattern mining\n",
    "min_support = support / n_baskets  # Adjust based on dataset size\n",
    "min_confidence = 0.5  # Adjust based on desired association rules\n",
    "\n",
    "print(f\"Min support threshold: {support}. As a percentage: {min_support}\")"
   ],
   "id": "d35f0508-698f-481c-b6cc-f45750880f5c",
   "outputs": [
    {
     "name": "stdout",
     "output_type": "stream",
     "text": [
      "Min support threshold: 250. As a percentage: 0.00010716693908502582\n"
     ]
    }
   ],
   "execution_count": 20
  },
  {
   "cell_type": "code",
   "id": "198fd794-79cb-4d1b-9b35-0b7fbf6886eb",
   "metadata": {
    "ExecuteTime": {
     "end_time": "2024-10-17T21:05:46.088364Z",
     "start_time": "2024-10-17T21:04:33.667102Z"
    }
   },
   "source": [
    "fp_growth = FPGrowth(\n",
    "    itemsCol=\"tag_arrays\", minSupport=min_support, minConfidence=min_confidence\n",
    ")\n",
    "model = fp_growth.fit(df_unified)"
   ],
   "outputs": [
    {
     "name": "stderr",
     "output_type": "stream",
     "text": [
      "24/10/18 00:05:31 WARN FPGrowth: Input data is not cached.                      \n",
      "                                                                                \r"
     ]
    }
   ],
   "execution_count": 21
  },
  {
   "cell_type": "code",
   "id": "6cb91f94-b443-40fb-a27a-b434a900efe3",
   "metadata": {
    "ExecuteTime": {
     "end_time": "2024-10-17T21:06:05.760779Z",
     "start_time": "2024-10-17T21:05:46.098107Z"
    }
   },
   "source": [
    "# Extract frequent itemsets\n",
    "frequent_itemsets = model.freqItemsets\n",
    "frequent_itemsets.show(truncate=False, n=10)"
   ],
   "outputs": [
    {
     "name": "stderr",
     "output_type": "stream",
     "text": [
      "[Stage 25:=====================================================>(491 + 9) / 500]\r"
     ]
    },
    {
     "name": "stdout",
     "output_type": "stream",
     "text": [
      "+----------------------------------------+----+\n",
      "|items                                   |freq|\n",
      "+----------------------------------------+----+\n",
      "|[colored_pencil]                        |254 |\n",
      "|[fatigue]                               |282 |\n",
      "|[biology]                               |579 |\n",
      "|[webtoon]                               |740 |\n",
      "|[webtoon, comic]                        |454 |\n",
      "|[webtoon, cottagecore]                  |274 |\n",
      "|[webtoon, cottagecore, comic]           |272 |\n",
      "|[webtoon, cottagecore, long_post]       |272 |\n",
      "|[webtoon, cottagecore, long_post, comic]|272 |\n",
      "|[webtoon, cottagecore, comics]          |274 |\n",
      "+----------------------------------------+----+\n",
      "only showing top 10 rows\n",
      "\n"
     ]
    },
    {
     "name": "stderr",
     "output_type": "stream",
     "text": [
      "                                                                                \r"
     ]
    }
   ],
   "execution_count": 22
  },
  {
   "cell_type": "code",
   "id": "efd140ae-8376-4c75-bcb7-ccd45b24f722",
   "metadata": {
    "ExecuteTime": {
     "end_time": "2024-10-17T21:07:34.241286Z",
     "start_time": "2024-10-17T21:06:07.316623Z"
    }
   },
   "source": [
    "# Generate association rules\n",
    "association_rules = model.associationRules\n",
    "association_rules.show(truncate=False)"
   ],
   "outputs": [
    {
     "name": "stderr",
     "output_type": "stream",
     "text": [
      "[Stage 30:=====================================================>(499 + 1) / 500]\r"
     ]
    },
    {
     "name": "stdout",
     "output_type": "stream",
     "text": [
      "+-------------------------------------------------------------------------------------------------------------------------------------------------------------------+----------------------------------------------------------------------+------------------+------------------+---------------------+\n",
      "|antecedent                                                                                                                                                         |consequent                                                            |confidence        |lift              |support              |\n",
      "+-------------------------------------------------------------------------------------------------------------------------------------------------------------------+----------------------------------------------------------------------+------------------+------------------+---------------------+\n",
      "|[hboedit, hbo_max, tuserpolly, hbo_the_last_of_us, tlouedit, joel_miller, pedro_pascal]                                                                            |[pedropascaledit]                                                     |1.0               |1165.8215892053972|2.1433387817005163E-4|\n",
      "|[hboedit, hbo_max, tuserpolly, hbo_the_last_of_us, tlouedit, joel_miller, pedro_pascal]                                                                            |[ppascaledit]                                                         |1.0               |1270.593137254902 |2.1433387817005163E-4|\n",
      "|[hboedit, hbo_max, tuserpolly, hbo_the_last_of_us, tlouedit, joel_miller, pedro_pascal]                                                                            |[tlou_spoilers]                                                       |1.0               |680.5160443407234 |2.1433387817005163E-4|\n",
      "|[hboedit, hbo_max, tuserpolly, hbo_the_last_of_us, tlouedit, joel_miller, pedro_pascal]                                                                            |[the_last_of_us]                                                      |1.0               |350.1139126519586 |2.1433387817005163E-4|\n",
      "|[hboedit, hbo_max, tuserpolly, hbo_the_last_of_us, tlouedit, joel_miller, pedro_pascal]                                                                            |[tvedit]                                                              |1.0               |168.31233766233765|2.1433387817005163E-4|\n",
      "|[hboedit, hbo_max, tuserpolly, hbo_the_last_of_us, tlouedit, joel_miller, pedro_pascal]                                                                            |[the_last_of_us_hbo]                                                  |1.0               |857.6503676470588 |2.1433387817005163E-4|\n",
      "|[hboedit, hbo_max, tuserpolly, hbo_the_last_of_us, tlouedit, joel_miller, pedro_pascal]                                                                            |[tusercora]                                                           |1.0               |1821.0843091334893|2.1433387817005163E-4|\n",
      "|[hboedit, hbo_max, tuserpolly, hbo_the_last_of_us, tlouedit, joel_miller, pedro_pascal]                                                                            |[thelastofusedit]                                                     |1.0               |2380.4173469387756|2.1433387817005163E-4|\n",
      "|[hboedit, hbo_max, tuserpolly, hbo_the_last_of_us, tlouedit, joel_miller, pedro_pascal]                                                                            |[joelmilleredit]                                                      |1.0               |2557.904605263158 |2.1433387817005163E-4|\n",
      "|[hboedit, hbo_max, tuserpolly, hbo_the_last_of_us, tlouedit, joel_miller, pedro_pascal]                                                                            |[userjen]                                                             |1.0               |2606.4905027932964|2.1433387817005163E-4|\n",
      "|[hboedit, hbo_max, tuserpolly, hbo_the_last_of_us, tlouedit, joel_miller, pedro_pascal]                                                                            |[useralyssas]                                                         |1.0               |3720.588516746411 |2.1433387817005163E-4|\n",
      "|[hboedit, hbo_max, tuserpolly, hbo_the_last_of_us, tlouedit, joel_miller, pedro_pascal]                                                                            |[i_am_so_deeply_unwell_also_yes_its_415am_where_i_am_i_love_to_suffer]|1.0               |4665.618          |2.1433387817005163E-4|\n",
      "|[hboedit, hbo_max, tuserpolly, hbo_the_last_of_us, tlouedit, joel_miller, pedro_pascal]                                                                            |[usernastya]                                                          |1.0               |3106.2703062583223|2.1433387817005163E-4|\n",
      "|[whimsigoth_room, whimsigoth_fashion, whimsy, witchy_things, whimsical, witchythings, witchcore, witchyvibes, whimsigoth, witch_aesthetic, witchy_aesthetic, witch]|[whimsigothcore]                                                      |0.9846743295019157|7433.841870326973 |1.1016761337940654E-4|\n",
      "|[whimsigoth_room, whimsigoth_fashion, whimsy, witchy_things, whimsical, witchythings, witchcore, witchyvibes, whimsigoth, witch_aesthetic, witchy_aesthetic, witch]|[whimsigothaesthetic]                                                 |1.0               |7699.039603960397 |1.1188228440476696E-4|\n",
      "|[whimsigoth_room, whimsigoth_fashion, whimsy, witchy_things, whimsical, witchythings, witchcore, witchyvibes, whimsigoth, witch_aesthetic, witchy_aesthetic, witch]|[witch_blog]                                                          |0.9846743295019157|6109.194515774027 |1.1016761337940654E-4|\n",
      "|[whimsigoth_room, whimsigoth_fashion, whimsy, witchy_things, whimsical, witchythings, witchcore, witchyvibes, whimsigoth, witch_aesthetic, witchy_aesthetic, witch]|[whimsigothic]                                                        |1.0               |5016.793548387097 |1.1188228440476696E-4|\n",
      "|[whimsigoth_room, whimsigoth_fashion, whimsy, witchy_things, whimsical, witchythings, witchcore, witchyvibes, whimsigoth, witch_aesthetic, witchy_aesthetic, witch]|[witchcraft]                                                          |1.0               |1612.1693158258465|1.1188228440476696E-4|\n",
      "|[whimsigoth_room, whimsigoth_fashion, whimsy, witchy_things, whimsical, witchythings, witchcore, witchyvibes, whimsigoth, witch_aesthetic, witchy_aesthetic, witch]|[witchy]                                                              |1.0               |3415.5329428989753|1.1188228440476696E-4|\n",
      "|[whimsigoth_room, whimsigoth_fashion, whimsy, witchy_things, whimsical, witchythings, witchcore, witchyvibes, whimsigoth, witch_aesthetic, witchy_aesthetic, witch]|[witches]                                                             |1.0               |2770.557007125891 |1.1188228440476696E-4|\n",
      "+-------------------------------------------------------------------------------------------------------------------------------------------------------------------+----------------------------------------------------------------------+------------------+------------------+---------------------+\n",
      "only showing top 20 rows\n",
      "\n"
     ]
    },
    {
     "name": "stderr",
     "output_type": "stream",
     "text": [
      "24/10/18 00:07:34 WARN Executor: Managed memory leak detected; size = 17493958 bytes, task 0.0 in stage 31.0 (TID 4068)\n",
      "                                                                                \r"
     ]
    }
   ],
   "execution_count": 23
  },
  {
   "cell_type": "code",
   "id": "2c1aa626-e9ff-4077-8661-7f3f937aebe2",
   "metadata": {
    "ExecuteTime": {
     "end_time": "2024-10-17T21:08:15.172989Z",
     "start_time": "2024-10-17T21:07:34.332652Z"
    }
   },
   "source": [
    "# Sort rules by confidence\n",
    "sorted_rules = association_rules.orderBy(col(\"confidence\").desc())\n",
    "sorted_rules.show(truncate=False, n=10)"
   ],
   "outputs": [
    {
     "name": "stderr",
     "output_type": "stream",
     "text": [
      "[Stage 36:=====================================================>(495 + 5) / 500]\r"
     ]
    },
    {
     "name": "stdout",
     "output_type": "stream",
     "text": [
      "+---------------------------------------------------------------------------------------------------------------------------------------------------------------------------------------------------+-----------------+----------+------------------+---------------------+\n",
      "|antecedent                                                                                                                                                                                         |consequent       |confidence|lift              |support              |\n",
      "+---------------------------------------------------------------------------------------------------------------------------------------------------------------------------------------------------+-----------------+----------+------------------+---------------------+\n",
      "|[miim, guldum, komikresim, guldumnet, keps, monte, 9gag, komik, reels, discover, kesfet, caps, instagram]                                                                                          |[explore]        |1.0       |2862.3423312883433|1.1016761337940654E-4|\n",
      "|[whimsigothcore, whimsigoth_fashion, whimsy, witchy_things, witchythings, witchyvibes, whimsigoth, whimsigothic, witchy_aesthetic, witchy, witch, witchcraft]                                      |[witch_blog]     |1.0       |6204.279255319149 |1.1016761337940654E-4|\n",
      "|[userjen, joelmilleredit, thelastofusedit, tuserpolly, tlouedit, pedropascaledit, the_last_of_us_hbo, tlou_spoilers, joel_miller, the_last_of_us, tvedit]                                          |[pedro_pascal]   |1.0       |479.6071134868421 |2.1433387817005163E-4|\n",
      "|[whimsigothcore, whimsigoth_fashion, whimsy, witchy_things, witchythings, witchyvibes, whimsigoth, whimsigothic, witchy_aesthetic, witchy, witch, witchcraft]                                      |[witches]        |1.0       |2770.557007125891 |1.1016761337940654E-4|\n",
      "|[i_am_so_deeply_unwell_also_yes_its_415am_where_i_am_i_love_to_suffer, useralyssas, usernastya, joelmilleredit, hbo_the_last_of_us, the_last_of_us_hbo, tlou_spoilers, joel_miller, the_last_of_us]|[hboedit]        |1.0       |2325.8315054835493|2.1433387817005163E-4|\n",
      "|[whimsigothcore, whimsigoth_fashion, whimsy, witchy_things, witchythings, witchyvibes, whimsigoth, whimsigothic, witchy_aesthetic, witchy, witch, witchcraft]                                      |[witch_aesthetic]|1.0       |4921.537974683544 |1.1016761337940654E-4|\n",
      "|[issue_56_got_me_so_inspired, they_are_crushing_it_over_there, surge_the_tenrec, idw_sonic, shadow_the_hedgehog]                                                                                   |[sonic]          |1.0       |472.3241546871836 |1.6160774414021893E-4|\n",
      "|[whimsigothcore, whimsigoth_fashion, whimsy, witchy_things, witchythings, witchyvibes, whimsigoth, whimsigothic, witchy_aesthetic, witchy, witch, witchcraft]                                      |[witchcore]      |1.0       |5745.834975369458 |1.1016761337940654E-4|\n",
      "|[i_am_so_deeply_unwell_also_yes_its_415am_where_i_am_i_love_to_suffer, useralyssas, thelastofusedit, hbo_the_last_of_us, the_last_of_us_hbo, tlou_spoilers, pedro_pascal, tvedit]                  |[joelmilleredit] |1.0       |2557.904605263158 |2.1433387817005163E-4|\n",
      "|[whimsigothcore, whimsigoth_fashion, whimsy, witchy_things, witchythings, witchyvibes, whimsigoth, whimsigothic, witchy_aesthetic, witchy, witch, witchcraft]                                      |[whimsical]      |1.0       |6391.257534246576 |1.1016761337940654E-4|\n",
      "+---------------------------------------------------------------------------------------------------------------------------------------------------------------------------------------------------+-----------------+----------+------------------+---------------------+\n",
      "only showing top 10 rows\n",
      "\n"
     ]
    },
    {
     "name": "stderr",
     "output_type": "stream",
     "text": [
      "                                                                                \r"
     ]
    }
   ],
   "execution_count": 24
  },
  {
   "cell_type": "code",
   "id": "b9993b86-6abc-4749-8f29-a1f069979a26",
   "metadata": {
    "ExecuteTime": {
     "end_time": "2024-10-17T21:08:55.552179Z",
     "start_time": "2024-10-17T21:08:15.254318Z"
    }
   },
   "source": [
    "# Filter rules by lift\n",
    "filtered_rules = sorted_rules.filter(col(\"lift\") >= 1.0)\n",
    "filtered_rules.show(truncate=False, n=10)"
   ],
   "outputs": [
    {
     "name": "stderr",
     "output_type": "stream",
     "text": [
      "[Stage 41:=====================================================>(494 + 6) / 500]\r"
     ]
    },
    {
     "name": "stdout",
     "output_type": "stream",
     "text": [
      "+---------------------------------------------------------------------------------------------------------------------------------------------------------------------------------------------------+-----------------+----------+------------------+---------------------+\n",
      "|antecedent                                                                                                                                                                                         |consequent       |confidence|lift              |support              |\n",
      "+---------------------------------------------------------------------------------------------------------------------------------------------------------------------------------------------------+-----------------+----------+------------------+---------------------+\n",
      "|[inspiring_quotes, prose, relationship_quotes, life_quotes, motivation, spilled_ink, poem, lit, words, quotes, poetry, aesthetic]                                                                  |[quoteoftheday]  |1.0       |2122.6651501364877|2.499133019462802E-4 |\n",
      "|[whimsigothcore, whimsigoth_fashion, whimsy, witchy_things, witchythings, witchyvibes, whimsigoth, whimsigothic, witchy_aesthetic, witchy, witch, witchcraft]                                      |[witch_blog]     |1.0       |6204.279255319149 |1.1016761337940654E-4|\n",
      "|[userjen, joelmilleredit, thelastofusedit, tuserpolly, tlouedit, pedropascaledit, the_last_of_us_hbo, tlou_spoilers, joel_miller, the_last_of_us, tvedit]                                          |[pedro_pascal]   |1.0       |479.6071134868421 |2.1433387817005163E-4|\n",
      "|[whimsigothcore, whimsigoth_fashion, whimsy, witchy_things, witchythings, witchyvibes, whimsigoth, whimsigothic, witchy_aesthetic, witchy, witch, witchcraft]                                      |[witches]        |1.0       |2770.557007125891 |1.1016761337940654E-4|\n",
      "|[i_am_so_deeply_unwell_also_yes_its_415am_where_i_am_i_love_to_suffer, useralyssas, usernastya, joelmilleredit, hbo_the_last_of_us, the_last_of_us_hbo, tlou_spoilers, joel_miller, the_last_of_us]|[hboedit]        |1.0       |2325.8315054835493|2.1433387817005163E-4|\n",
      "|[whimsigothcore, whimsigoth_fashion, whimsy, witchy_things, witchythings, witchyvibes, whimsigoth, whimsigothic, witchy_aesthetic, witchy, witch, witchcraft]                                      |[witch_aesthetic]|1.0       |4921.537974683544 |1.1016761337940654E-4|\n",
      "|[issue_56_got_me_so_inspired, they_are_crushing_it_over_there, surge_the_tenrec, idw_sonic, shadow_the_hedgehog]                                                                                   |[sonic]          |1.0       |472.3241546871836 |1.6160774414021893E-4|\n",
      "|[whimsigothcore, whimsigoth_fashion, whimsy, witchy_things, witchythings, witchyvibes, whimsigoth, whimsigothic, witchy_aesthetic, witchy, witch, witchcraft]                                      |[witchcore]      |1.0       |5745.834975369458 |1.1016761337940654E-4|\n",
      "|[i_am_so_deeply_unwell_also_yes_its_415am_where_i_am_i_love_to_suffer, useralyssas, thelastofusedit, hbo_the_last_of_us, the_last_of_us_hbo, tlou_spoilers, pedro_pascal, tvedit]                  |[joelmilleredit] |1.0       |2557.904605263158 |2.1433387817005163E-4|\n",
      "|[whimsigothcore, whimsigoth_fashion, whimsy, witchy_things, witchythings, witchyvibes, whimsigoth, whimsigothic, witchy_aesthetic, witchy, witch, witchcraft]                                      |[whimsical]      |1.0       |6391.257534246576 |1.1016761337940654E-4|\n",
      "+---------------------------------------------------------------------------------------------------------------------------------------------------------------------------------------------------+-----------------+----------+------------------+---------------------+\n",
      "only showing top 10 rows\n",
      "\n"
     ]
    },
    {
     "name": "stderr",
     "output_type": "stream",
     "text": [
      "                                                                                \r"
     ]
    }
   ],
   "execution_count": 25
  },
  {
   "metadata": {
    "ExecuteTime": {
     "end_time": "2024-10-17T21:09:35.336060Z",
     "start_time": "2024-10-17T21:08:55.638423Z"
    }
   },
   "cell_type": "code",
   "source": [
    "# Count the number of association rules with lift >= 1.0\n",
    "n_rules = filtered_rules.count()\n",
    "n_rules"
   ],
   "id": "c5a173477ad10008",
   "outputs": [
    {
     "name": "stderr",
     "output_type": "stream",
     "text": [
      "                                                                                \r"
     ]
    },
    {
     "data": {
      "text/plain": [
       "42458419"
      ]
     },
     "execution_count": 26,
     "metadata": {},
     "output_type": "execute_result"
    }
   ],
   "execution_count": 26
  },
  {
   "metadata": {
    "ExecuteTime": {
     "end_time": "2024-10-17T21:09:35.412975Z",
     "start_time": "2024-10-17T21:09:35.397922Z"
    }
   },
   "cell_type": "code",
   "source": [
    "# Calculate the actual support (frequency) of the association rules\n",
    "filtered_rules = filtered_rules.withColumn(\n",
    "    \"support_count\",\n",
    "    col(\"support\") * n_baskets,\n",
    ")"
   ],
   "id": "119e26790dc6d9b",
   "outputs": [],
   "execution_count": 27
  },
  {
   "metadata": {
    "ExecuteTime": {
     "end_time": "2024-10-17T21:09:35.423839Z",
     "start_time": "2024-10-17T21:09:35.420892Z"
    }
   },
   "cell_type": "code",
   "source": [
    "# show the schema\n",
    "filtered_rules.printSchema()"
   ],
   "id": "77eafdd06e571cdc",
   "outputs": [
    {
     "name": "stdout",
     "output_type": "stream",
     "text": [
      "root\n",
      " |-- antecedent: array (nullable = false)\n",
      " |    |-- element: string (containsNull = true)\n",
      " |-- consequent: array (nullable = false)\n",
      " |    |-- element: string (containsNull = true)\n",
      " |-- confidence: double (nullable = false)\n",
      " |-- lift: double (nullable = true)\n",
      " |-- support: double (nullable = false)\n",
      " |-- support_count: double (nullable = false)\n",
      "\n"
     ]
    }
   ],
   "execution_count": 28
  },
  {
   "metadata": {
    "ExecuteTime": {
     "end_time": "2024-10-17T21:09:35.495981Z",
     "start_time": "2024-10-17T21:09:35.485818Z"
    }
   },
   "cell_type": "code",
   "source": [
    "# calculate the antecedent and consequent sizes\n",
    "filtered_rules = filtered_rules.withColumn(\n",
    "    \"antecedent_size\", size(col(\"antecedent\"))\n",
    ").withColumn(\"consequent_size\", size(col(\"consequent\")))"
   ],
   "id": "cf3421e1db77afe1",
   "outputs": [],
   "execution_count": 29
  },
  {
   "metadata": {
    "ExecuteTime": {
     "end_time": "2024-10-17T21:10:14.830895Z",
     "start_time": "2024-10-17T21:09:35.504424Z"
    }
   },
   "cell_type": "code",
   "source": [
    "# Group by the antecedent size and count the number of rules\n",
    "filtered_rules.groupBy(\"antecedent_size\").count().show()"
   ],
   "id": "533dbf87927adff3",
   "outputs": [
    {
     "name": "stderr",
     "output_type": "stream",
     "text": [
      "[Stage 57:=====================================================>(495 + 5) / 500]\r"
     ]
    },
    {
     "name": "stdout",
     "output_type": "stream",
     "text": [
      "+---------------+-------+\n",
      "|antecedent_size|  count|\n",
      "+---------------+-------+\n",
      "|             12|3730727|\n",
      "|              1|   5925|\n",
      "|              6|2543144|\n",
      "|              3| 143147|\n",
      "|              2|  38255|\n",
      "|             18|   1178|\n",
      "|              4| 453822|\n",
      "|              8|6345510|\n",
      "|             13|1953756|\n",
      "|             11|5754180|\n",
      "|             17|  10944|\n",
      "|              7|4434362|\n",
      "|             14| 813975|\n",
      "|              9|7471980|\n",
      "|             10|7239068|\n",
      "|             16|  63954|\n",
      "|              5|1190864|\n",
      "|             15| 263568|\n",
      "|             19|     60|\n",
      "+---------------+-------+\n",
      "\n"
     ]
    },
    {
     "name": "stderr",
     "output_type": "stream",
     "text": [
      "                                                                                \r"
     ]
    }
   ],
   "execution_count": 30
  },
  {
   "metadata": {
    "ExecuteTime": {
     "end_time": "2024-10-17T21:10:14.917006Z",
     "start_time": "2024-10-17T21:10:14.909599Z"
    }
   },
   "cell_type": "code",
   "source": [
    "# Keep only rules with at most 4 antecedents\n",
    "filtered_rules = filtered_rules.filter(col(\"antecedent_size\") <= 4)"
   ],
   "id": "6328370cf7dd14c8",
   "outputs": [],
   "execution_count": 31
  },
  {
   "metadata": {
    "ExecuteTime": {
     "end_time": "2024-10-17T21:10:54.740823Z",
     "start_time": "2024-10-17T21:10:14.948019Z"
    }
   },
   "cell_type": "code",
   "source": [
    "# Count the number of rules after filtering\n",
    "filtered_rules.count()"
   ],
   "id": "1ca386c3dc950e60",
   "outputs": [
    {
     "name": "stderr",
     "output_type": "stream",
     "text": [
      "                                                                                \r"
     ]
    },
    {
     "data": {
      "text/plain": [
       "641149"
      ]
     },
     "execution_count": 32,
     "metadata": {},
     "output_type": "execute_result"
    }
   ],
   "execution_count": 32
  },
  {
   "metadata": {
    "ExecuteTime": {
     "end_time": "2024-10-17T21:10:54.821651Z",
     "start_time": "2024-10-17T21:10:54.800518Z"
    }
   },
   "cell_type": "code",
   "source": [
    "# Sort the antecedents and consequents arrays alphabetically for better readability\n",
    "filtered_rules = filtered_rules.withColumn(\n",
    "    \"antecedent\", udf(sorted, ArrayType(StringType()))(col(\"antecedent\"))\n",
    ").withColumn(\"consequent\", udf(sorted, ArrayType(StringType()))(col(\"consequent\")))"
   ],
   "id": "2a9a1ad37efff3f2",
   "outputs": [],
   "execution_count": 33
  },
  {
   "metadata": {
    "ExecuteTime": {
     "end_time": "2024-10-17T21:12:13.594482Z",
     "start_time": "2024-10-17T21:10:54.837639Z"
    }
   },
   "cell_type": "code",
   "source": [
    "# Show the updated DataFrame\n",
    "filtered_rules.show(truncate=False, n=10)"
   ],
   "id": "af399525b6dc8dee",
   "outputs": [
    {
     "name": "stderr",
     "output_type": "stream",
     "text": [
      "[Stage 84:=====================================================>(499 + 1) / 500]\r"
     ]
    },
    {
     "name": "stdout",
     "output_type": "stream",
     "text": [
      "+---------------------------------+-----------+----------+------------------+---------------------+-------------+---------------+---------------+\n",
      "|antecedent                       |consequent |confidence|lift              |support              |support_count|antecedent_size|consequent_size|\n",
      "+---------------------------------+-----------+----------+------------------+---------------------+-------------+---------------+---------------+\n",
      "|[keps, kesfet, komikresim, reels]|[guldumnet]|1.0       |9077.077821011673 |1.1016761337940654E-4|257.0        |4              |1              |\n",
      "|[keps, kesfet, komikresim, reels]|[komik]    |1.0       |8803.052830188679 |1.1016761337940654E-4|257.0        |4              |1              |\n",
      "|[keps, kesfet, komikresim, reels]|[monte]    |1.0       |9041.89534883721  |1.1016761337940654E-4|257.0        |4              |1              |\n",
      "|[keps, kesfet, komikresim, reels]|[komikli]  |1.0       |8937.965517241379 |1.1016761337940654E-4|257.0        |4              |1              |\n",
      "|[keps, kesfet, komikresim, reels]|[9gag]     |1.0       |9006.984555984556 |1.1016761337940654E-4|257.0        |4              |1              |\n",
      "|[keps, kesfet, komikresim, reels]|[karikatur]|1.0       |8903.851145038168 |1.1016761337940654E-4|257.0        |4              |1              |\n",
      "|[keps, kesfet, komikresim, reels]|[explore]  |1.0       |2862.3423312883433|1.1016761337940654E-4|257.0        |4              |1              |\n",
      "|[keps, kesfet, komikresim, reels]|[meme]     |1.0       |167.10666189111748|1.1016761337940654E-4|257.0        |4              |1              |\n",
      "|[keps, kesfet, komikresim, reels]|[caps]     |1.0       |3098.0199203187253|1.1016761337940654E-4|257.0        |4              |1              |\n",
      "|[keps, kesfet, komikresim, reels]|[instagram]|1.0       |556.756324582339  |1.1016761337940654E-4|257.0        |4              |1              |\n",
      "+---------------------------------+-----------+----------+------------------+---------------------+-------------+---------------+---------------+\n",
      "only showing top 10 rows\n",
      "\n"
     ]
    },
    {
     "name": "stderr",
     "output_type": "stream",
     "text": [
      "                                                                                \r"
     ]
    }
   ],
   "execution_count": 34
  },
  {
   "cell_type": "code",
   "id": "4e7b6ebf-5e58-4e39-bfe6-c4a3a55831a7",
   "metadata": {
    "ExecuteTime": {
     "end_time": "2024-10-17T21:13:41.048062Z",
     "start_time": "2024-10-17T21:12:13.678329Z"
    }
   },
   "source": [
    "# Save the association rules to a CSV file\n",
    "output_path = \"../artifacts/models/association_rules_spark.csv\"\n",
    "filtered_rules.toPandas().to_csv(output_path, index=False)"
   ],
   "outputs": [
    {
     "name": "stderr",
     "output_type": "stream",
     "text": [
      "                                                                                \r"
     ]
    }
   ],
   "execution_count": 35
  },
  {
   "cell_type": "code",
   "id": "c8c8785d-e602-4d01-903a-c31d778958f0",
   "metadata": {
    "ExecuteTime": {
     "end_time": "2024-10-17T21:13:44.879752Z",
     "start_time": "2024-10-17T21:13:41.057992Z"
    }
   },
   "source": [
    "# Stop the Spark session after transformation\n",
    "spark.stop()"
   ],
   "outputs": [],
   "execution_count": 36
  }
 ],
 "metadata": {
  "kernelspec": {
   "display_name": "Python 3 (ipykernel)",
   "language": "python",
   "name": "python3"
  },
  "language_info": {
   "codemirror_mode": {
    "name": "ipython",
    "version": 3
   },
   "file_extension": ".py",
   "mimetype": "text/x-python",
   "name": "python",
   "nbconvert_exporter": "python",
   "pygments_lexer": "ipython3",
   "version": "3.11.9"
  }
 },
 "nbformat": 4,
 "nbformat_minor": 5
}
