{
 "cells": [
  {
   "cell_type": "code",
   "execution_count": 1,
   "id": "2e99a0cb-d783-4662-92c6-c1ec823b15d3",
   "metadata": {},
   "outputs": [],
   "source": [
    "import requests\n",
    "import pandas as pd\n",
    "from time import time\n",
    "from tqdm import tqdm"
   ]
  },
  {
   "cell_type": "code",
   "execution_count": 2,
   "id": "3123e215-4677-4116-867e-427d2f57b4fe",
   "metadata": {},
   "outputs": [],
   "source": [
    "def get_recommendations(tags, num_tags):\n",
    "    url = \"http://0.0.0.0:8000/recommend\"\n",
    "\n",
    "    headers = {\"accept\": \"application/json\", \"Content-Type\": \"application/json\"}\n",
    "    payload = {\"tags\": tags, \"num_tags\": num_tags}\n",
    "\n",
    "    response = requests.post(url, json=payload, headers=headers)\n",
    "\n",
    "    if response.status_code == 200:\n",
    "        return response.json()\n",
    "    else:\n",
    "        print(f\"Failed to get recommendations: {response.status_code}\")\n",
    "        return None"
   ]
  },
  {
   "cell_type": "code",
   "execution_count": 3,
   "id": "ebd5d363-5964-40d0-a381-9049a01aeaac",
   "metadata": {},
   "outputs": [],
   "source": [
    "df = pd.read_parquet(\"../data/processed/test.parquet\", columns=[\"tags\"])"
   ]
  },
  {
   "cell_type": "code",
   "execution_count": 4,
   "id": "b5341f45-27fc-44e8-8c87-9e8d95775d6c",
   "metadata": {},
   "outputs": [
    {
     "name": "stdout",
     "output_type": "stream",
     "text": [
      "5\n"
     ]
    },
    {
     "name": "stderr",
     "output_type": "stream",
     "text": [
      "100%|████████████████████████████████████████████████| 2500/2500 [00:06<00:00, 380.71it/s]\n"
     ]
    },
    {
     "name": "stdout",
     "output_type": "stream",
     "text": [
      "10\n"
     ]
    },
    {
     "name": "stderr",
     "output_type": "stream",
     "text": [
      "100%|████████████████████████████████████████████████| 2500/2500 [00:06<00:00, 379.54it/s]\n"
     ]
    },
    {
     "name": "stdout",
     "output_type": "stream",
     "text": [
      "15\n"
     ]
    },
    {
     "name": "stderr",
     "output_type": "stream",
     "text": [
      "100%|████████████████████████████████████████████████| 2500/2500 [00:05<00:00, 420.52it/s]\n"
     ]
    },
    {
     "name": "stdout",
     "output_type": "stream",
     "text": [
      "20\n"
     ]
    },
    {
     "name": "stderr",
     "output_type": "stream",
     "text": [
      "100%|████████████████████████████████████████████████| 2500/2500 [00:07<00:00, 332.89it/s]\n"
     ]
    },
    {
     "name": "stdout",
     "output_type": "stream",
     "text": [
      "25\n"
     ]
    },
    {
     "name": "stderr",
     "output_type": "stream",
     "text": [
      "100%|████████████████████████████████████████████████| 2500/2500 [00:08<00:00, 292.98it/s]\n"
     ]
    },
    {
     "name": "stdout",
     "output_type": "stream",
     "text": [
      "30\n"
     ]
    },
    {
     "name": "stderr",
     "output_type": "stream",
     "text": [
      "100%|████████████████████████████████████████████████| 2500/2500 [00:06<00:00, 364.24it/s]\n"
     ]
    },
    {
     "data": {
      "text/html": [
       "<div>\n",
       "<style scoped>\n",
       "    .dataframe tbody tr th:only-of-type {\n",
       "        vertical-align: middle;\n",
       "    }\n",
       "\n",
       "    .dataframe tbody tr th {\n",
       "        vertical-align: top;\n",
       "    }\n",
       "\n",
       "    .dataframe thead th {\n",
       "        text-align: right;\n",
       "    }\n",
       "</style>\n",
       "<table border=\"1\" class=\"dataframe\">\n",
       "  <thead>\n",
       "    <tr style=\"text-align: right;\">\n",
       "      <th></th>\n",
       "      <th>tags</th>\n",
       "      <th>len_tags</th>\n",
       "      <th>res</th>\n",
       "      <th>time_ms</th>\n",
       "      <th>topn</th>\n",
       "    </tr>\n",
       "  </thead>\n",
       "  <tbody>\n",
       "    <tr>\n",
       "      <th>0</th>\n",
       "      <td>[love, amor, couple, pareja, goals, familia, f...</td>\n",
       "      <td>23</td>\n",
       "      <td>{'input_tags': 'love,amor,couple,pareja,goals,...</td>\n",
       "      <td>15.222073</td>\n",
       "      <td>5</td>\n",
       "    </tr>\n",
       "    <tr>\n",
       "      <th>1</th>\n",
       "      <td>[gothicart, metalart, blackmetalart, watercolo...</td>\n",
       "      <td>7</td>\n",
       "      <td>{'input_tags': 'gothicart,metalart,blackmetala...</td>\n",
       "      <td>2.533197</td>\n",
       "      <td>5</td>\n",
       "    </tr>\n",
       "    <tr>\n",
       "      <th>2</th>\n",
       "      <td>[same]</td>\n",
       "      <td>1</td>\n",
       "      <td>{'input_tags': 'same', 'tags': [{'tag': 'horns...</td>\n",
       "      <td>2.286196</td>\n",
       "      <td>5</td>\n",
       "    </tr>\n",
       "    <tr>\n",
       "      <th>3</th>\n",
       "      <td>[guillermo del toro, pinocchio, the shape of w...</td>\n",
       "      <td>5</td>\n",
       "      <td>{'input_tags': 'guillermo del toro,pinocchio,t...</td>\n",
       "      <td>2.366781</td>\n",
       "      <td>5</td>\n",
       "    </tr>\n",
       "    <tr>\n",
       "      <th>4</th>\n",
       "      <td>[ancientforged, ( ic. ), ;alice, ( ic; alice )...</td>\n",
       "      <td>7</td>\n",
       "      <td>{'input_tags': 'ancientforged,( ic. ),;alice,(...</td>\n",
       "      <td>4.144907</td>\n",
       "      <td>5</td>\n",
       "    </tr>\n",
       "    <tr>\n",
       "      <th>...</th>\n",
       "      <td>...</td>\n",
       "      <td>...</td>\n",
       "      <td>...</td>\n",
       "      <td>...</td>\n",
       "      <td>...</td>\n",
       "    </tr>\n",
       "    <tr>\n",
       "      <th>14995</th>\n",
       "      <td>[stardom, momo watanabe, saya kamitani, Momo i...</td>\n",
       "      <td>4</td>\n",
       "      <td>{'input_tags': 'stardom,momo watanabe,saya kam...</td>\n",
       "      <td>2.055883</td>\n",
       "      <td>30</td>\n",
       "    </tr>\n",
       "    <tr>\n",
       "      <th>14996</th>\n",
       "      <td>[blue lock]</td>\n",
       "      <td>1</td>\n",
       "      <td>{'input_tags': 'blue lock', 'tags': [{'tag': '...</td>\n",
       "      <td>1.828909</td>\n",
       "      <td>30</td>\n",
       "    </tr>\n",
       "    <tr>\n",
       "      <th>14997</th>\n",
       "      <td>[noodle soup, beef soup, food]</td>\n",
       "      <td>3</td>\n",
       "      <td>{'input_tags': 'noodle soup,beef soup,food', '...</td>\n",
       "      <td>1.911640</td>\n",
       "      <td>30</td>\n",
       "    </tr>\n",
       "    <tr>\n",
       "      <th>14998</th>\n",
       "      <td>[helluva boss, helluva boss fanart, helluva bo...</td>\n",
       "      <td>18</td>\n",
       "      <td>{'input_tags': 'helluva boss,helluva boss fana...</td>\n",
       "      <td>2.478123</td>\n",
       "      <td>30</td>\n",
       "    </tr>\n",
       "    <tr>\n",
       "      <th>14999</th>\n",
       "      <td>[mutuals &lt;333333333]</td>\n",
       "      <td>1</td>\n",
       "      <td>{'input_tags': 'mutuals &lt;333333333', 'tags': [...</td>\n",
       "      <td>2.944946</td>\n",
       "      <td>30</td>\n",
       "    </tr>\n",
       "  </tbody>\n",
       "</table>\n",
       "<p>15000 rows × 5 columns</p>\n",
       "</div>"
      ],
      "text/plain": [
       "                                                    tags  len_tags  \\\n",
       "0      [love, amor, couple, pareja, goals, familia, f...        23   \n",
       "1      [gothicart, metalart, blackmetalart, watercolo...         7   \n",
       "2                                                 [same]         1   \n",
       "3      [guillermo del toro, pinocchio, the shape of w...         5   \n",
       "4      [ancientforged, ( ic. ), ;alice, ( ic; alice )...         7   \n",
       "...                                                  ...       ...   \n",
       "14995  [stardom, momo watanabe, saya kamitani, Momo i...         4   \n",
       "14996                                        [blue lock]         1   \n",
       "14997                     [noodle soup, beef soup, food]         3   \n",
       "14998  [helluva boss, helluva boss fanart, helluva bo...        18   \n",
       "14999                               [mutuals <333333333]         1   \n",
       "\n",
       "                                                     res    time_ms  topn  \n",
       "0      {'input_tags': 'love,amor,couple,pareja,goals,...  15.222073     5  \n",
       "1      {'input_tags': 'gothicart,metalart,blackmetala...   2.533197     5  \n",
       "2      {'input_tags': 'same', 'tags': [{'tag': 'horns...   2.286196     5  \n",
       "3      {'input_tags': 'guillermo del toro,pinocchio,t...   2.366781     5  \n",
       "4      {'input_tags': 'ancientforged,( ic. ),;alice,(...   4.144907     5  \n",
       "...                                                  ...        ...   ...  \n",
       "14995  {'input_tags': 'stardom,momo watanabe,saya kam...   2.055883    30  \n",
       "14996  {'input_tags': 'blue lock', 'tags': [{'tag': '...   1.828909    30  \n",
       "14997  {'input_tags': 'noodle soup,beef soup,food', '...   1.911640    30  \n",
       "14998  {'input_tags': 'helluva boss,helluva boss fana...   2.478123    30  \n",
       "14999  {'input_tags': 'mutuals <333333333', 'tags': [...   2.944946    30  \n",
       "\n",
       "[15000 rows x 5 columns]"
      ]
     },
     "execution_count": 4,
     "metadata": {},
     "output_type": "execute_result"
    }
   ],
   "source": [
    "results = list()\n",
    "\n",
    "for topn in range(5, 31, 5):\n",
    "    print(topn)\n",
    "\n",
    "    for arr in tqdm(df[\"tags\"].sample(2500)):\n",
    "        tags = \",\".join(arr)\n",
    "        s = time()\n",
    "        res = get_recommendations(tags, topn)\n",
    "        e = time()\n",
    "        # Convert time to milliseconds\n",
    "        elapsed_time_ms = (e - s) * 1000\n",
    "        results.append(\n",
    "            {\n",
    "                \"tags\": arr,\n",
    "                \"len_tags\": len(arr),\n",
    "                \"res\": res,\n",
    "                \"time_ms\": elapsed_time_ms,\n",
    "                \"topn\": topn,\n",
    "            }\n",
    "        )\n",
    "\n",
    "all_results = pd.DataFrame(results)\n",
    "all_results"
   ]
  },
  {
   "cell_type": "code",
   "execution_count": 5,
   "id": "56096338-e91b-4655-958f-da98e2640166",
   "metadata": {},
   "outputs": [
    {
     "data": {
      "text/html": [
       "<div>\n",
       "<style scoped>\n",
       "    .dataframe tbody tr th:only-of-type {\n",
       "        vertical-align: middle;\n",
       "    }\n",
       "\n",
       "    .dataframe tbody tr th {\n",
       "        vertical-align: top;\n",
       "    }\n",
       "\n",
       "    .dataframe thead th {\n",
       "        text-align: right;\n",
       "    }\n",
       "</style>\n",
       "<table border=\"1\" class=\"dataframe\">\n",
       "  <thead>\n",
       "    <tr style=\"text-align: right;\">\n",
       "      <th></th>\n",
       "      <th>len_tags</th>\n",
       "      <th>time_ms</th>\n",
       "      <th>topn</th>\n",
       "    </tr>\n",
       "  </thead>\n",
       "  <tbody>\n",
       "    <tr>\n",
       "      <th>count</th>\n",
       "      <td>15000.000000</td>\n",
       "      <td>15000.000000</td>\n",
       "      <td>15000.00000</td>\n",
       "    </tr>\n",
       "    <tr>\n",
       "      <th>mean</th>\n",
       "      <td>3.184333</td>\n",
       "      <td>2.771101</td>\n",
       "      <td>17.50000</td>\n",
       "    </tr>\n",
       "    <tr>\n",
       "      <th>std</th>\n",
       "      <td>3.685457</td>\n",
       "      <td>1.938353</td>\n",
       "      <td>8.53941</td>\n",
       "    </tr>\n",
       "    <tr>\n",
       "      <th>min</th>\n",
       "      <td>1.000000</td>\n",
       "      <td>1.317263</td>\n",
       "      <td>5.00000</td>\n",
       "    </tr>\n",
       "    <tr>\n",
       "      <th>50%</th>\n",
       "      <td>2.000000</td>\n",
       "      <td>2.524853</td>\n",
       "      <td>17.50000</td>\n",
       "    </tr>\n",
       "    <tr>\n",
       "      <th>75%</th>\n",
       "      <td>4.000000</td>\n",
       "      <td>3.152132</td>\n",
       "      <td>25.00000</td>\n",
       "    </tr>\n",
       "    <tr>\n",
       "      <th>90%</th>\n",
       "      <td>7.000000</td>\n",
       "      <td>3.881335</td>\n",
       "      <td>30.00000</td>\n",
       "    </tr>\n",
       "    <tr>\n",
       "      <th>95%</th>\n",
       "      <td>10.000000</td>\n",
       "      <td>4.484904</td>\n",
       "      <td>30.00000</td>\n",
       "    </tr>\n",
       "    <tr>\n",
       "      <th>99%</th>\n",
       "      <td>20.000000</td>\n",
       "      <td>6.987123</td>\n",
       "      <td>30.00000</td>\n",
       "    </tr>\n",
       "    <tr>\n",
       "      <th>max</th>\n",
       "      <td>30.000000</td>\n",
       "      <td>103.262901</td>\n",
       "      <td>30.00000</td>\n",
       "    </tr>\n",
       "  </tbody>\n",
       "</table>\n",
       "</div>"
      ],
      "text/plain": [
       "           len_tags       time_ms         topn\n",
       "count  15000.000000  15000.000000  15000.00000\n",
       "mean       3.184333      2.771101     17.50000\n",
       "std        3.685457      1.938353      8.53941\n",
       "min        1.000000      1.317263      5.00000\n",
       "50%        2.000000      2.524853     17.50000\n",
       "75%        4.000000      3.152132     25.00000\n",
       "90%        7.000000      3.881335     30.00000\n",
       "95%       10.000000      4.484904     30.00000\n",
       "99%       20.000000      6.987123     30.00000\n",
       "max       30.000000    103.262901     30.00000"
      ]
     },
     "execution_count": 5,
     "metadata": {},
     "output_type": "execute_result"
    }
   ],
   "source": [
    "all_results.describe(percentiles=[0.5, 0.75, 0.9, 0.95, 0.99])"
   ]
  },
  {
   "cell_type": "code",
   "execution_count": 6,
   "id": "07a92e4e-e907-4d0f-a2ae-732300c94a77",
   "metadata": {},
   "outputs": [
    {
     "data": {
      "text/html": [
       "<div>\n",
       "<style scoped>\n",
       "    .dataframe tbody tr th:only-of-type {\n",
       "        vertical-align: middle;\n",
       "    }\n",
       "\n",
       "    .dataframe tbody tr th {\n",
       "        vertical-align: top;\n",
       "    }\n",
       "\n",
       "    .dataframe thead tr th {\n",
       "        text-align: left;\n",
       "    }\n",
       "\n",
       "    .dataframe thead tr:last-of-type th {\n",
       "        text-align: right;\n",
       "    }\n",
       "</style>\n",
       "<table border=\"1\" class=\"dataframe\">\n",
       "  <thead>\n",
       "    <tr>\n",
       "      <th></th>\n",
       "      <th colspan=\"8\" halign=\"left\">len_tags</th>\n",
       "      <th colspan=\"8\" halign=\"left\">time_ms</th>\n",
       "    </tr>\n",
       "    <tr>\n",
       "      <th></th>\n",
       "      <th>count</th>\n",
       "      <th>mean</th>\n",
       "      <th>std</th>\n",
       "      <th>min</th>\n",
       "      <th>25%</th>\n",
       "      <th>50%</th>\n",
       "      <th>75%</th>\n",
       "      <th>max</th>\n",
       "      <th>count</th>\n",
       "      <th>mean</th>\n",
       "      <th>std</th>\n",
       "      <th>min</th>\n",
       "      <th>25%</th>\n",
       "      <th>50%</th>\n",
       "      <th>75%</th>\n",
       "      <th>max</th>\n",
       "    </tr>\n",
       "    <tr>\n",
       "      <th>topn</th>\n",
       "      <th></th>\n",
       "      <th></th>\n",
       "      <th></th>\n",
       "      <th></th>\n",
       "      <th></th>\n",
       "      <th></th>\n",
       "      <th></th>\n",
       "      <th></th>\n",
       "      <th></th>\n",
       "      <th></th>\n",
       "      <th></th>\n",
       "      <th></th>\n",
       "      <th></th>\n",
       "      <th></th>\n",
       "      <th></th>\n",
       "      <th></th>\n",
       "    </tr>\n",
       "  </thead>\n",
       "  <tbody>\n",
       "    <tr>\n",
       "      <th>5</th>\n",
       "      <td>2500.0</td>\n",
       "      <td>3.1388</td>\n",
       "      <td>3.620273</td>\n",
       "      <td>1.0</td>\n",
       "      <td>1.0</td>\n",
       "      <td>2.0</td>\n",
       "      <td>4.0</td>\n",
       "      <td>30.0</td>\n",
       "      <td>2500.0</td>\n",
       "      <td>2.593017</td>\n",
       "      <td>1.167954</td>\n",
       "      <td>1.317263</td>\n",
       "      <td>1.849890</td>\n",
       "      <td>2.323985</td>\n",
       "      <td>2.995968</td>\n",
       "      <td>18.990040</td>\n",
       "    </tr>\n",
       "    <tr>\n",
       "      <th>10</th>\n",
       "      <td>2500.0</td>\n",
       "      <td>3.1944</td>\n",
       "      <td>3.671022</td>\n",
       "      <td>1.0</td>\n",
       "      <td>1.0</td>\n",
       "      <td>2.0</td>\n",
       "      <td>4.0</td>\n",
       "      <td>30.0</td>\n",
       "      <td>2500.0</td>\n",
       "      <td>2.608258</td>\n",
       "      <td>1.323071</td>\n",
       "      <td>1.456976</td>\n",
       "      <td>1.926720</td>\n",
       "      <td>2.314568</td>\n",
       "      <td>2.926111</td>\n",
       "      <td>29.986143</td>\n",
       "    </tr>\n",
       "    <tr>\n",
       "      <th>15</th>\n",
       "      <td>2500.0</td>\n",
       "      <td>3.2092</td>\n",
       "      <td>3.789879</td>\n",
       "      <td>1.0</td>\n",
       "      <td>1.0</td>\n",
       "      <td>2.0</td>\n",
       "      <td>4.0</td>\n",
       "      <td>30.0</td>\n",
       "      <td>2500.0</td>\n",
       "      <td>2.355318</td>\n",
       "      <td>0.907514</td>\n",
       "      <td>1.389980</td>\n",
       "      <td>1.733780</td>\n",
       "      <td>2.130151</td>\n",
       "      <td>2.764165</td>\n",
       "      <td>19.011021</td>\n",
       "    </tr>\n",
       "    <tr>\n",
       "      <th>20</th>\n",
       "      <td>2500.0</td>\n",
       "      <td>3.2664</td>\n",
       "      <td>3.919589</td>\n",
       "      <td>1.0</td>\n",
       "      <td>1.0</td>\n",
       "      <td>2.0</td>\n",
       "      <td>4.0</td>\n",
       "      <td>30.0</td>\n",
       "      <td>2500.0</td>\n",
       "      <td>2.973401</td>\n",
       "      <td>1.119555</td>\n",
       "      <td>1.493931</td>\n",
       "      <td>2.240419</td>\n",
       "      <td>2.852440</td>\n",
       "      <td>3.295898</td>\n",
       "      <td>18.599272</td>\n",
       "    </tr>\n",
       "    <tr>\n",
       "      <th>25</th>\n",
       "      <td>2500.0</td>\n",
       "      <td>3.1792</td>\n",
       "      <td>3.553271</td>\n",
       "      <td>1.0</td>\n",
       "      <td>1.0</td>\n",
       "      <td>2.0</td>\n",
       "      <td>4.0</td>\n",
       "      <td>30.0</td>\n",
       "      <td>2500.0</td>\n",
       "      <td>3.374438</td>\n",
       "      <td>2.579183</td>\n",
       "      <td>1.497030</td>\n",
       "      <td>2.565384</td>\n",
       "      <td>3.103971</td>\n",
       "      <td>3.635168</td>\n",
       "      <td>63.155890</td>\n",
       "    </tr>\n",
       "    <tr>\n",
       "      <th>30</th>\n",
       "      <td>2500.0</td>\n",
       "      <td>3.1180</td>\n",
       "      <td>3.545970</td>\n",
       "      <td>1.0</td>\n",
       "      <td>1.0</td>\n",
       "      <td>2.0</td>\n",
       "      <td>4.0</td>\n",
       "      <td>30.0</td>\n",
       "      <td>2500.0</td>\n",
       "      <td>2.722172</td>\n",
       "      <td>3.173055</td>\n",
       "      <td>1.423120</td>\n",
       "      <td>1.891851</td>\n",
       "      <td>2.251983</td>\n",
       "      <td>3.060162</td>\n",
       "      <td>103.262901</td>\n",
       "    </tr>\n",
       "  </tbody>\n",
       "</table>\n",
       "</div>"
      ],
      "text/plain": [
       "     len_tags                                             time_ms            \\\n",
       "        count    mean       std  min  25%  50%  75%   max   count      mean   \n",
       "topn                                                                          \n",
       "5      2500.0  3.1388  3.620273  1.0  1.0  2.0  4.0  30.0  2500.0  2.593017   \n",
       "10     2500.0  3.1944  3.671022  1.0  1.0  2.0  4.0  30.0  2500.0  2.608258   \n",
       "15     2500.0  3.2092  3.789879  1.0  1.0  2.0  4.0  30.0  2500.0  2.355318   \n",
       "20     2500.0  3.2664  3.919589  1.0  1.0  2.0  4.0  30.0  2500.0  2.973401   \n",
       "25     2500.0  3.1792  3.553271  1.0  1.0  2.0  4.0  30.0  2500.0  3.374438   \n",
       "30     2500.0  3.1180  3.545970  1.0  1.0  2.0  4.0  30.0  2500.0  2.722172   \n",
       "\n",
       "                                                                    \n",
       "           std       min       25%       50%       75%         max  \n",
       "topn                                                                \n",
       "5     1.167954  1.317263  1.849890  2.323985  2.995968   18.990040  \n",
       "10    1.323071  1.456976  1.926720  2.314568  2.926111   29.986143  \n",
       "15    0.907514  1.389980  1.733780  2.130151  2.764165   19.011021  \n",
       "20    1.119555  1.493931  2.240419  2.852440  3.295898   18.599272  \n",
       "25    2.579183  1.497030  2.565384  3.103971  3.635168   63.155890  \n",
       "30    3.173055  1.423120  1.891851  2.251983  3.060162  103.262901  "
      ]
     },
     "execution_count": 6,
     "metadata": {},
     "output_type": "execute_result"
    }
   ],
   "source": [
    "all_results.groupby(\"topn\").describe()"
   ]
  },
  {
   "cell_type": "code",
   "execution_count": 7,
   "id": "b51a80ae-7cf4-444c-af9b-95498e469cbe",
   "metadata": {},
   "outputs": [
    {
     "data": {
      "text/html": [
       "<div>\n",
       "<style scoped>\n",
       "    .dataframe tbody tr th:only-of-type {\n",
       "        vertical-align: middle;\n",
       "    }\n",
       "\n",
       "    .dataframe tbody tr th {\n",
       "        vertical-align: top;\n",
       "    }\n",
       "\n",
       "    .dataframe thead th {\n",
       "        text-align: right;\n",
       "    }\n",
       "</style>\n",
       "<table border=\"1\" class=\"dataframe\">\n",
       "  <thead>\n",
       "    <tr style=\"text-align: right;\">\n",
       "      <th></th>\n",
       "      <th>len_tags</th>\n",
       "      <th>time_ms</th>\n",
       "    </tr>\n",
       "  </thead>\n",
       "  <tbody>\n",
       "    <tr>\n",
       "      <th>len_tags</th>\n",
       "      <td>1.000000</td>\n",
       "      <td>0.063644</td>\n",
       "    </tr>\n",
       "    <tr>\n",
       "      <th>time_ms</th>\n",
       "      <td>0.063644</td>\n",
       "      <td>1.000000</td>\n",
       "    </tr>\n",
       "  </tbody>\n",
       "</table>\n",
       "</div>"
      ],
      "text/plain": [
       "          len_tags   time_ms\n",
       "len_tags  1.000000  0.063644\n",
       "time_ms   0.063644  1.000000"
      ]
     },
     "execution_count": 7,
     "metadata": {},
     "output_type": "execute_result"
    }
   ],
   "source": [
    "# Correlation between len_tags and time_ms\n",
    "correlation = all_results[[\"len_tags\", \"time_ms\"]].corr()\n",
    "correlation"
   ]
  },
  {
   "cell_type": "code",
   "execution_count": 8,
   "id": "705f82d1-1dfd-4e32-aa17-17100d0ef4f9",
   "metadata": {},
   "outputs": [
    {
     "data": {
      "text/html": [
       "<div>\n",
       "<style scoped>\n",
       "    .dataframe tbody tr th:only-of-type {\n",
       "        vertical-align: middle;\n",
       "    }\n",
       "\n",
       "    .dataframe tbody tr th {\n",
       "        vertical-align: top;\n",
       "    }\n",
       "\n",
       "    .dataframe thead th {\n",
       "        text-align: right;\n",
       "    }\n",
       "</style>\n",
       "<table border=\"1\" class=\"dataframe\">\n",
       "  <thead>\n",
       "    <tr style=\"text-align: right;\">\n",
       "      <th></th>\n",
       "      <th>topn</th>\n",
       "      <th>time_ms</th>\n",
       "    </tr>\n",
       "  </thead>\n",
       "  <tbody>\n",
       "    <tr>\n",
       "      <th>topn</th>\n",
       "      <td>1.000000</td>\n",
       "      <td>0.089681</td>\n",
       "    </tr>\n",
       "    <tr>\n",
       "      <th>time_ms</th>\n",
       "      <td>0.089681</td>\n",
       "      <td>1.000000</td>\n",
       "    </tr>\n",
       "  </tbody>\n",
       "</table>\n",
       "</div>"
      ],
      "text/plain": [
       "             topn   time_ms\n",
       "topn     1.000000  0.089681\n",
       "time_ms  0.089681  1.000000"
      ]
     },
     "execution_count": 8,
     "metadata": {},
     "output_type": "execute_result"
    }
   ],
   "source": [
    "# Correlation between topn and time_ms\n",
    "correlation = all_results[[\"topn\", \"time_ms\"]].corr()\n",
    "correlation"
   ]
  },
  {
   "cell_type": "code",
   "execution_count": 9,
   "id": "419ec99c-0157-449c-b2c4-75336f19cb2f",
   "metadata": {},
   "outputs": [
    {
     "data": {
      "text/plain": [
       "<Axes: ylabel='Frequency'>"
      ]
     },
     "execution_count": 9,
     "metadata": {},
     "output_type": "execute_result"
    },
    {
     "data": {
      "image/png": "[encoded data removed]",
      "text/plain": [
       "<Figure size 640x480 with 1 Axes>"
      ]
     },
     "metadata": {},
     "output_type": "display_data"
    }
   ],
   "source": [
    "all_results.time_ms.plot(kind=\"hist\", bins=range(200))"
   ]
  },
  {
   "cell_type": "code",
   "execution_count": 10,
   "id": "400f4c35-09ca-4382-9f6b-113e21032d90",
   "metadata": {},
   "outputs": [
    {
     "data": {
      "text/plain": [
       "<Axes: ylabel='Frequency'>"
      ]
     },
     "execution_count": 10,
     "metadata": {},
     "output_type": "execute_result"
    },
    {
     "data": {
      "image/png": "[encoded data removed]",
      "text/plain": [
       "<Figure size 640x480 with 1 Axes>"
      ]
     },
     "metadata": {},
     "output_type": "display_data"
    }
   ],
   "source": [
    "all_results.time_ms.plot(kind=\"hist\", bins=range(20))"
   ]
  },
  {
   "cell_type": "code",
   "execution_count": 11,
   "id": "b5d5efee-26e1-42fc-981b-3af26a029379",
   "metadata": {},
   "outputs": [
    {
     "data": {
      "text/plain": [
       "topn\n",
       "5     2.593017\n",
       "10    2.608258\n",
       "15    2.355318\n",
       "20    2.973401\n",
       "25    3.374438\n",
       "30    2.722172\n",
       "Name: time_ms, dtype: float64"
      ]
     },
     "execution_count": 11,
     "metadata": {},
     "output_type": "execute_result"
    }
   ],
   "source": [
    "# Grouping by topn to calculate average time\n",
    "average_time_by_topn = all_results.groupby(\"topn\")[\"time_ms\"].mean()\n",
    "average_time_by_topn"
   ]
  },
  {
   "cell_type": "code",
   "execution_count": 12,
   "id": "3da29744-cb9d-4877-8d48-016f17ea77d1",
   "metadata": {},
   "outputs": [
    {
     "data": {
      "text/plain": [
       "<Axes: title={'center': 'Average time (ms) per topn'}, xlabel='topn'>"
      ]
     },
     "execution_count": 12,
     "metadata": {},
     "output_type": "execute_result"
    },
    {
     "data": {
      "image/png": "[encoded data removed]",
      "text/plain": [
       "<Figure size 640x480 with 1 Axes>"
      ]
     },
     "metadata": {},
     "output_type": "display_data"
    }
   ],
   "source": [
    "average_time_by_topn.plot(kind=\"bar\", title=\"Average time (ms) per topn\")"
   ]
  },
  {
   "cell_type": "code",
   "execution_count": 13,
   "id": "46a1a7ce-a62b-4663-9919-0f5c69ba8c2b",
   "metadata": {},
   "outputs": [
    {
     "data": {
      "text/plain": [
       "count    15000.000000\n",
       "mean         2.771101\n",
       "std          1.938353\n",
       "min          1.317263\n",
       "50%          2.524853\n",
       "75%          3.152132\n",
       "90%          3.881335\n",
       "95%          4.484904\n",
       "99%          6.987123\n",
       "max        103.262901\n",
       "Name: time_ms, dtype: float64"
      ]
     },
     "execution_count": 13,
     "metadata": {},
     "output_type": "execute_result"
    }
   ],
   "source": [
    "all_results[\"time_ms\"].describe(percentiles=[0.5, 0.75, 0.9, 0.95, 0.99])"
   ]
  }
 ],
 "metadata": {
  "kernelspec": {
   "display_name": "Python 3 (ipykernel)",
   "language": "python",
   "name": "python3"
  },
  "language_info": {
   "codemirror_mode": {
    "name": "ipython",
    "version": 3
   },
   "file_extension": ".py",
   "mimetype": "text/x-python",
   "name": "python",
   "nbconvert_exporter": "python",
   "pygments_lexer": "ipython3",
   "version": "3.11.9"
  }
 },
 "nbformat": 4,
 "nbformat_minor": 5
}
