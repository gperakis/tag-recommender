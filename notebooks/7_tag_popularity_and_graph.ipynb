{
 "cells": [
  {
   "cell_type": "code",
   "execution_count": 1,
   "id": "72100ccf-5165-4e98-a41d-46e47fea7004",
   "metadata": {
    "ExecuteTime": {
     "end_time": "2024-10-24T19:57:16.384911Z",
     "start_time": "2024-10-24T19:57:15.748677Z"
    }
   },
   "outputs": [],
   "source": [
    "import igraph as ig\n",
    "import pandas as pd\n",
    "import itertools\n",
    "from collections import Counter"
   ]
  },
  {
   "cell_type": "markdown",
   "id": "ed54a557-fe21-48ff-9cb7-b0bb28150507",
   "metadata": {},
   "source": [
    "# Graph-Based Approach to Popularity and Recommendations\n",
    "\n",
    "\n",
    "Aside from using `HashTag Count` to measure hashtag popularity, we can apply methods from `Graph Theory`.\n",
    "\n",
    "In this approach we will create an **(undirected) Graph where:**\n",
    "\n",
    "- The hashtags are nodes\n",
    "- The edges (with weights) represent how often two hashtags appear together in all posts (and reblogs)\n",
    "  \n",
    "We can then use `centrality measures` (metrics that show how important a node is in a graph) to evaluate hashtag popularity. \n",
    "\n",
    "These centrality measures can also help us group similar hashtags based on their connections."
   ]
  },
  {
   "cell_type": "code",
   "execution_count": 2,
   "id": "af21b06d-43d5-4cdf-abd5-3e8d9b8417d0",
   "metadata": {
    "ExecuteTime": {
     "end_time": "2024-10-24T19:57:16.389947Z",
     "start_time": "2024-10-24T19:57:16.387724Z"
    }
   },
   "outputs": [],
   "source": [
    "# utility functions\n",
    "def create_hashtag_pairs(hashtags):\n",
    "    tag_pairs = []\n",
    "    for tag_list in hashtags:\n",
    "        if len(tag_list) > 1:  # Only consider rows that have more than 1 hashtag\n",
    "            tag_pairs.extend(itertools.combinations(tag_list, 2))\n",
    "    return tag_pairs\n",
    "\n",
    "\n",
    "def count_hashtag_occurrences(hashtags):\n",
    "    all_hashtags = [tag for sublist in hashtags for tag in sublist]\n",
    "    return Counter(all_hashtags)\n",
    "\n",
    "\n",
    "def split_tags(tags_str):\n",
    "    if tags_str:\n",
    "        return [tag.strip().lower() for tag in tags_str.split(\",\") if tag.strip()]\n",
    "\n",
    "    return []"
   ]
  },
  {
   "cell_type": "markdown",
   "id": "a07e58a0-8cc7-4b5f-be8e-9389452396b3",
   "metadata": {},
   "source": [
    "### Prepare Dataset"
   ]
  },
  {
   "cell_type": "code",
   "execution_count": 3,
   "id": "a2d73547-4bbc-437c-a5cc-93c0fdff9416",
   "metadata": {
    "ExecuteTime": {
     "end_time": "2024-10-24T19:57:28.618477Z",
     "start_time": "2024-10-24T19:57:16.463767Z"
    }
   },
   "outputs": [
    {
     "data": {
      "text/plain": [
       "0          [sadie sink, sadiesinkedit, femaledaily, daily...\n",
       "1                                                         []\n",
       "2                                                         []\n",
       "3          [alchemy of souls, alchemy of souls: light and...\n",
       "4          [manila mikey, manjiro sano, tokyo manji gang,...\n",
       "                                 ...                        \n",
       "3529079                                              [mp100]\n",
       "3529080    [the way his expression changes😂, doctor who, ...\n",
       "3529081    [we did a thing, harringrove, teacher!steve, k...\n",
       "3529082         [what the hell am i gonna do when it’s done]\n",
       "3529083              [other people’s art, quilting, turtles]\n",
       "Length: 3529084, dtype: object"
      ]
     },
     "execution_count": 3,
     "metadata": {},
     "output_type": "execute_result"
    }
   ],
   "source": [
    "df = pd.read_csv(\"../data/full_dataset.csv\", usecols=[\"root_tags\", \"tags\"])\n",
    "df[\"root_tags\"] = df[\"root_tags\"].fillna(\"\")\n",
    "df[\"tags\"] = df[\"tags\"].fillna(\"\")\n",
    "\n",
    "# Concatenating both root_tags and reblogged tags to get all co-occurrences as edges between a graph.\n",
    "tags_series = (\n",
    "    pd.concat([df[\"root_tags\"], df[\"tags\"]]).apply(split_tags).reset_index(drop=True)\n",
    ")\n",
    "tags_series"
   ]
  },
  {
   "cell_type": "code",
   "execution_count": 4,
   "id": "52e5c9e8-325d-4689-945a-d32cede0ec9f",
   "metadata": {
    "ExecuteTime": {
     "end_time": "2024-10-24T19:57:35.052573Z",
     "start_time": "2024-10-24T19:57:28.643242Z"
    }
   },
   "outputs": [],
   "source": [
    "pairs = create_hashtag_pairs(tags_series)\n",
    "hashtag_counts = count_hashtag_occurrences(tags_series)"
   ]
  },
  {
   "cell_type": "code",
   "execution_count": 5,
   "id": "56a6f766-262d-4349-9066-c54fd0f625ce",
   "metadata": {
    "ExecuteTime": {
     "end_time": "2024-10-24T19:57:35.625552Z",
     "start_time": "2024-10-24T19:57:35.622882Z"
    }
   },
   "outputs": [
    {
     "data": {
      "text/plain": [
       "(70876200, 2282228)"
      ]
     },
     "execution_count": 5,
     "metadata": {},
     "output_type": "execute_result"
    }
   ],
   "source": [
    "len(pairs), len(hashtag_counts)"
   ]
  },
  {
   "cell_type": "code",
   "execution_count": 6,
   "id": "3de7d2ad-a40a-4e7d-ae01-52c80e217229",
   "metadata": {
    "ExecuteTime": {
     "end_time": "2024-10-24T19:57:57.947763Z",
     "start_time": "2024-10-24T19:57:36.999719Z"
    }
   },
   "outputs": [
    {
     "data": {
      "text/plain": [
       "22763178"
      ]
     },
     "execution_count": 6,
     "metadata": {},
     "output_type": "execute_result"
    }
   ],
   "source": [
    "# Count the pairs of the tags\n",
    "pair_counts = Counter(pairs)\n",
    "len(pair_counts)"
   ]
  },
  {
   "cell_type": "code",
   "execution_count": 7,
   "id": "bc41b900-6167-4fbd-b0fb-22bec724ae70",
   "metadata": {
    "ExecuteTime": {
     "end_time": "2024-10-24T19:58:19.774749Z",
     "start_time": "2024-10-24T19:58:17.315582Z"
    }
   },
   "outputs": [
    {
     "data": {
      "text/html": [
       "<div>\n",
       "<style scoped>\n",
       "    .dataframe tbody tr th:only-of-type {\n",
       "        vertical-align: middle;\n",
       "    }\n",
       "\n",
       "    .dataframe tbody tr th {\n",
       "        vertical-align: top;\n",
       "    }\n",
       "\n",
       "    .dataframe thead th {\n",
       "        text-align: right;\n",
       "    }\n",
       "</style>\n",
       "<table border=\"1\" class=\"dataframe\">\n",
       "  <thead>\n",
       "    <tr style=\"text-align: right;\">\n",
       "      <th></th>\n",
       "      <th>edge_weight</th>\n",
       "      <th>count</th>\n",
       "      <th>count_prc</th>\n",
       "      <th>count_prc_cumulative</th>\n",
       "    </tr>\n",
       "  </thead>\n",
       "  <tbody>\n",
       "    <tr>\n",
       "      <th>0</th>\n",
       "      <td>1</td>\n",
       "      <td>15732948</td>\n",
       "      <td>0.691158</td>\n",
       "      <td>0.691158</td>\n",
       "    </tr>\n",
       "    <tr>\n",
       "      <th>1</th>\n",
       "      <td>2</td>\n",
       "      <td>2850155</td>\n",
       "      <td>0.125209</td>\n",
       "      <td>0.816367</td>\n",
       "    </tr>\n",
       "    <tr>\n",
       "      <th>2</th>\n",
       "      <td>3</td>\n",
       "      <td>1204781</td>\n",
       "      <td>0.052927</td>\n",
       "      <td>0.869294</td>\n",
       "    </tr>\n",
       "    <tr>\n",
       "      <th>3</th>\n",
       "      <td>4</td>\n",
       "      <td>683513</td>\n",
       "      <td>0.030027</td>\n",
       "      <td>0.899321</td>\n",
       "    </tr>\n",
       "    <tr>\n",
       "      <th>4</th>\n",
       "      <td>5</td>\n",
       "      <td>433080</td>\n",
       "      <td>0.019025</td>\n",
       "      <td>0.918346</td>\n",
       "    </tr>\n",
       "    <tr>\n",
       "      <th>5</th>\n",
       "      <td>6</td>\n",
       "      <td>304810</td>\n",
       "      <td>0.013390</td>\n",
       "      <td>0.931737</td>\n",
       "    </tr>\n",
       "    <tr>\n",
       "      <th>6</th>\n",
       "      <td>7</td>\n",
       "      <td>219931</td>\n",
       "      <td>0.009662</td>\n",
       "      <td>0.941398</td>\n",
       "    </tr>\n",
       "    <tr>\n",
       "      <th>7</th>\n",
       "      <td>8</td>\n",
       "      <td>170690</td>\n",
       "      <td>0.007499</td>\n",
       "      <td>0.948897</td>\n",
       "    </tr>\n",
       "    <tr>\n",
       "      <th>8</th>\n",
       "      <td>9</td>\n",
       "      <td>132737</td>\n",
       "      <td>0.005831</td>\n",
       "      <td>0.954728</td>\n",
       "    </tr>\n",
       "    <tr>\n",
       "      <th>9</th>\n",
       "      <td>10</td>\n",
       "      <td>110694</td>\n",
       "      <td>0.004863</td>\n",
       "      <td>0.959591</td>\n",
       "    </tr>\n",
       "    <tr>\n",
       "      <th>10</th>\n",
       "      <td>11</td>\n",
       "      <td>90237</td>\n",
       "      <td>0.003964</td>\n",
       "      <td>0.963555</td>\n",
       "    </tr>\n",
       "    <tr>\n",
       "      <th>11</th>\n",
       "      <td>12</td>\n",
       "      <td>74374</td>\n",
       "      <td>0.003267</td>\n",
       "      <td>0.966822</td>\n",
       "    </tr>\n",
       "    <tr>\n",
       "      <th>12</th>\n",
       "      <td>13</td>\n",
       "      <td>65714</td>\n",
       "      <td>0.002887</td>\n",
       "      <td>0.969709</td>\n",
       "    </tr>\n",
       "    <tr>\n",
       "      <th>13</th>\n",
       "      <td>14</td>\n",
       "      <td>56490</td>\n",
       "      <td>0.002482</td>\n",
       "      <td>0.972191</td>\n",
       "    </tr>\n",
       "    <tr>\n",
       "      <th>14</th>\n",
       "      <td>15</td>\n",
       "      <td>46527</td>\n",
       "      <td>0.002044</td>\n",
       "      <td>0.974235</td>\n",
       "    </tr>\n",
       "  </tbody>\n",
       "</table>\n",
       "</div>"
      ],
      "text/plain": [
       "    edge_weight     count  count_prc  count_prc_cumulative\n",
       "0             1  15732948   0.691158              0.691158\n",
       "1             2   2850155   0.125209              0.816367\n",
       "2             3   1204781   0.052927              0.869294\n",
       "3             4    683513   0.030027              0.899321\n",
       "4             5    433080   0.019025              0.918346\n",
       "5             6    304810   0.013390              0.931737\n",
       "6             7    219931   0.009662              0.941398\n",
       "7             8    170690   0.007499              0.948897\n",
       "8             9    132737   0.005831              0.954728\n",
       "9            10    110694   0.004863              0.959591\n",
       "10           11     90237   0.003964              0.963555\n",
       "11           12     74374   0.003267              0.966822\n",
       "12           13     65714   0.002887              0.969709\n",
       "13           14     56490   0.002482              0.972191\n",
       "14           15     46527   0.002044              0.974235"
      ]
     },
     "execution_count": 7,
     "metadata": {},
     "output_type": "execute_result"
    }
   ],
   "source": [
    "# Count the proportion of edge weights\n",
    "edges_distribution = (\n",
    "    pd.Series(pair_counts.values()).value_counts(normalize=False).reset_index()\n",
    ")\n",
    "edges_distribution.columns = [\"edge_weight\", \"count\"]\n",
    "edges_distribution[\"count_prc\"] = (\n",
    "    edges_distribution[\"count\"] / edges_distribution[\"count\"].sum()\n",
    ")\n",
    "edges_distribution[\"count_prc_cumulative\"] = edges_distribution[\"count_prc\"].cumsum()\n",
    "edges_distribution.head(15)\n",
    "\n",
    "# So over 95 % of the connections are co-occurrences of tags with size up to 8."
   ]
  },
  {
   "cell_type": "code",
   "execution_count": 8,
   "id": "bd2bfc13-a734-4c2d-ad3a-b23f38c30af1",
   "metadata": {
    "ExecuteTime": {
     "end_time": "2024-10-24T19:58:38.854484Z",
     "start_time": "2024-10-24T19:58:38.301161Z"
    }
   },
   "outputs": [
    {
     "data": {
      "text/plain": [
       "426222"
      ]
     },
     "execution_count": 8,
     "metadata": {},
     "output_type": "execute_result"
    }
   ],
   "source": [
    "# So we want to keep a smaller graph that has stronger signals.\n",
    "min_threshold = 20\n",
    "filtered_pair_counts = {i: j for i, j in pair_counts.items() if j > min_threshold}\n",
    "len(filtered_pair_counts)"
   ]
  },
  {
   "cell_type": "code",
   "execution_count": 9,
   "id": "4342a035-ef4b-4f42-b813-304bde62b67e",
   "metadata": {
    "ExecuteTime": {
     "end_time": "2024-10-24T19:58:39.101612Z",
     "start_time": "2024-10-24T19:58:38.891486Z"
    }
   },
   "outputs": [],
   "source": [
    "# Build the graph in igraph\n",
    "G = ig.Graph()\n",
    "\n",
    "# Add vertices (hashtags)\n",
    "G.add_vertices(list(set([tag for pair in filtered_pair_counts.keys() for tag in pair])))\n",
    "\n",
    "# Add edges (co-occurrences between hashtags)\n",
    "edges = [(pair[0], pair[1]) for pair in filtered_pair_counts.keys()]\n",
    "G.add_edges(edges)\n",
    "\n",
    "# We also we add weights being the total count of the co-occurrences\n",
    "G.es[\"weight\"] = [count for count in filtered_pair_counts.values()]\n",
    "\n",
    "# Now we will add the number of appearances as a node attribute\n",
    "G.vs[\"tag_count\"] = [hashtag_counts.get(node[\"name\"], 0) for node in G.vs]"
   ]
  },
  {
   "cell_type": "markdown",
   "id": "10d7bdbe-0add-4d86-afcb-dc3d569a3433",
   "metadata": {},
   "source": [
    "## Centrality Measures\n",
    "\n",
    "- `Degree Centrality (basic popularity)`: Measures the number of direct connections a node (hashtag) has, representing its basic popularity.\n",
    "- `Weighted Degree Centrality`: Shows the strength of connections by considering the weights (# of co-occurrences) of the edges, not just the number of connections.\n",
    "- `Betweenness Centrality`: Shows how often a node (hashtag) appears on the shortest paths between other nodes, indicating its role in connecting different groups.\n",
    "- `Eigenvector Centrality`: Measures a node's influence based on the importance of its neighbors, giving more weight to nodes connected to other influential nodes.\n",
    "- `Closeness Centrality`: Represents how close a node is to all other nodes in the graph, based on the shortest paths, showing how easily a node can reach others."
   ]
  },
  {
   "cell_type": "code",
   "execution_count": 10,
   "id": "8b19ac20-db2c-44df-b219-54d28bb34c6b",
   "metadata": {
    "ExecuteTime": {
     "end_time": "2024-10-24T20:02:40.233443Z",
     "start_time": "2024-10-24T19:58:39.104499Z"
    }
   },
   "outputs": [],
   "source": [
    "# Degree centrality (basic popularity)\n",
    "degrees = G.degree()\n",
    "# Weighted degree centrality\n",
    "weighted_degrees = G.strength(weights=G.es[\"weight\"])\n",
    "# Betweenness centrality\n",
    "betweenness = G.betweenness()\n",
    "# Eigenvector centrality\n",
    "eigenvector_centrality = G.eigenvector_centrality()\n",
    "# Closeness centrality\n",
    "closeness = G.closeness()"
   ]
  },
  {
   "cell_type": "code",
   "execution_count": 11,
   "id": "ca67b5d4-2cbf-4ec7-9c19-e901a94a50b6",
   "metadata": {
    "ExecuteTime": {
     "end_time": "2024-10-24T20:03:01.047404Z",
     "start_time": "2024-10-24T20:03:00.938315Z"
    }
   },
   "outputs": [
    {
     "data": {
      "text/html": [
       "<div>\n",
       "<style scoped>\n",
       "    .dataframe tbody tr th:only-of-type {\n",
       "        vertical-align: middle;\n",
       "    }\n",
       "\n",
       "    .dataframe tbody tr th {\n",
       "        vertical-align: top;\n",
       "    }\n",
       "\n",
       "    .dataframe thead th {\n",
       "        text-align: right;\n",
       "    }\n",
       "</style>\n",
       "<table border=\"1\" class=\"dataframe\">\n",
       "  <thead>\n",
       "    <tr style=\"text-align: right;\">\n",
       "      <th></th>\n",
       "      <th>tag</th>\n",
       "      <th>tag_count</th>\n",
       "      <th>node_degree</th>\n",
       "      <th>weighted_degree</th>\n",
       "      <th>betweenness</th>\n",
       "      <th>eigenvector</th>\n",
       "      <th>closeness</th>\n",
       "    </tr>\n",
       "  </thead>\n",
       "  <tbody>\n",
       "    <tr>\n",
       "      <th>0</th>\n",
       "      <td>this post got away from me a little</td>\n",
       "      <td>28</td>\n",
       "      <td>1</td>\n",
       "      <td>28.0</td>\n",
       "      <td>0.000000</td>\n",
       "      <td>0.000497</td>\n",
       "      <td>0.263673</td>\n",
       "    </tr>\n",
       "    <tr>\n",
       "      <th>1</th>\n",
       "      <td>furry dog</td>\n",
       "      <td>25</td>\n",
       "      <td>29</td>\n",
       "      <td>685.0</td>\n",
       "      <td>0.097044</td>\n",
       "      <td>0.000723</td>\n",
       "      <td>0.256141</td>\n",
       "    </tr>\n",
       "    <tr>\n",
       "      <th>2</th>\n",
       "      <td>cfsbf</td>\n",
       "      <td>81</td>\n",
       "      <td>4</td>\n",
       "      <td>144.0</td>\n",
       "      <td>0.000000</td>\n",
       "      <td>0.000000</td>\n",
       "      <td>0.545455</td>\n",
       "    </tr>\n",
       "    <tr>\n",
       "      <th>3</th>\n",
       "      <td>fut-175</td>\n",
       "      <td>26</td>\n",
       "      <td>29</td>\n",
       "      <td>754.0</td>\n",
       "      <td>0.000000</td>\n",
       "      <td>0.000000</td>\n",
       "      <td>0.362253</td>\n",
       "    </tr>\n",
       "    <tr>\n",
       "      <th>4</th>\n",
       "      <td>fluff</td>\n",
       "      <td>1416</td>\n",
       "      <td>50</td>\n",
       "      <td>2004.0</td>\n",
       "      <td>258607.008562</td>\n",
       "      <td>0.010338</td>\n",
       "      <td>0.325750</td>\n",
       "    </tr>\n",
       "    <tr>\n",
       "      <th>...</th>\n",
       "      <td>...</td>\n",
       "      <td>...</td>\n",
       "      <td>...</td>\n",
       "      <td>...</td>\n",
       "      <td>...</td>\n",
       "      <td>...</td>\n",
       "      <td>...</td>\n",
       "    </tr>\n",
       "    <tr>\n",
       "      <th>47429</th>\n",
       "      <td>footfetish</td>\n",
       "      <td>87</td>\n",
       "      <td>7</td>\n",
       "      <td>305.0</td>\n",
       "      <td>1.200000</td>\n",
       "      <td>0.000018</td>\n",
       "      <td>0.223097</td>\n",
       "    </tr>\n",
       "    <tr>\n",
       "      <th>47430</th>\n",
       "      <td>omnivore</td>\n",
       "      <td>60</td>\n",
       "      <td>8</td>\n",
       "      <td>289.0</td>\n",
       "      <td>0.000000</td>\n",
       "      <td>0.000308</td>\n",
       "      <td>0.258613</td>\n",
       "    </tr>\n",
       "    <tr>\n",
       "      <th>47431</th>\n",
       "      <td>emricasan</td>\n",
       "      <td>40</td>\n",
       "      <td>29</td>\n",
       "      <td>1160.0</td>\n",
       "      <td>0.000000</td>\n",
       "      <td>0.000000</td>\n",
       "      <td>1.000000</td>\n",
       "    </tr>\n",
       "    <tr>\n",
       "      <th>47432</th>\n",
       "      <td>griffith</td>\n",
       "      <td>116</td>\n",
       "      <td>3</td>\n",
       "      <td>130.0</td>\n",
       "      <td>0.000000</td>\n",
       "      <td>0.000041</td>\n",
       "      <td>0.242887</td>\n",
       "    </tr>\n",
       "    <tr>\n",
       "      <th>47433</th>\n",
       "      <td>webbrand</td>\n",
       "      <td>25</td>\n",
       "      <td>28</td>\n",
       "      <td>700.0</td>\n",
       "      <td>0.000000</td>\n",
       "      <td>0.003990</td>\n",
       "      <td>0.317463</td>\n",
       "    </tr>\n",
       "  </tbody>\n",
       "</table>\n",
       "<p>47434 rows × 7 columns</p>\n",
       "</div>"
      ],
      "text/plain": [
       "                                       tag  tag_count  node_degree  \\\n",
       "0      this post got away from me a little         28            1   \n",
       "1                                furry dog         25           29   \n",
       "2                                    cfsbf         81            4   \n",
       "3                                  fut-175         26           29   \n",
       "4                                    fluff       1416           50   \n",
       "...                                    ...        ...          ...   \n",
       "47429                           footfetish         87            7   \n",
       "47430                             omnivore         60            8   \n",
       "47431                            emricasan         40           29   \n",
       "47432                             griffith        116            3   \n",
       "47433                             webbrand         25           28   \n",
       "\n",
       "       weighted_degree    betweenness  eigenvector  closeness  \n",
       "0                 28.0       0.000000     0.000497   0.263673  \n",
       "1                685.0       0.097044     0.000723   0.256141  \n",
       "2                144.0       0.000000     0.000000   0.545455  \n",
       "3                754.0       0.000000     0.000000   0.362253  \n",
       "4               2004.0  258607.008562     0.010338   0.325750  \n",
       "...                ...            ...          ...        ...  \n",
       "47429            305.0       1.200000     0.000018   0.223097  \n",
       "47430            289.0       0.000000     0.000308   0.258613  \n",
       "47431           1160.0       0.000000     0.000000   1.000000  \n",
       "47432            130.0       0.000000     0.000041   0.242887  \n",
       "47433            700.0       0.000000     0.003990   0.317463  \n",
       "\n",
       "[47434 rows x 7 columns]"
      ]
     },
     "execution_count": 11,
     "metadata": {},
     "output_type": "execute_result"
    }
   ],
   "source": [
    "centralities = []\n",
    "for i in zip(\n",
    "    degrees, weighted_degrees, betweenness, eigenvector_centrality, closeness, G.vs\n",
    "):\n",
    "    centralities.append(\n",
    "        {\n",
    "            \"tag\": i[5][\"name\"],\n",
    "            \"tag_count\": i[5][\"tag_count\"],\n",
    "            \"node_degree\": i[0],\n",
    "            \"weighted_degree\": i[1],\n",
    "            \"betweenness\": i[2],\n",
    "            \"eigenvector\": i[3],\n",
    "            \"closeness\": i[4],\n",
    "        }\n",
    "    )\n",
    "\n",
    "centralities = pd.DataFrame(centralities)\n",
    "centralities"
   ]
  },
  {
   "cell_type": "code",
   "execution_count": 12,
   "id": "5151a6d1-2866-4e51-b8ff-f17fe5e4e02e",
   "metadata": {
    "ExecuteTime": {
     "end_time": "2024-10-24T20:03:21.099246Z",
     "start_time": "2024-10-24T20:03:21.053247Z"
    }
   },
   "outputs": [
    {
     "data": {
      "text/html": [
       "<div>\n",
       "<style scoped>\n",
       "    .dataframe tbody tr th:only-of-type {\n",
       "        vertical-align: middle;\n",
       "    }\n",
       "\n",
       "    .dataframe tbody tr th {\n",
       "        vertical-align: top;\n",
       "    }\n",
       "\n",
       "    .dataframe thead th {\n",
       "        text-align: right;\n",
       "    }\n",
       "</style>\n",
       "<table border=\"1\" class=\"dataframe\">\n",
       "  <thead>\n",
       "    <tr style=\"text-align: right;\">\n",
       "      <th></th>\n",
       "      <th>tag</th>\n",
       "      <th>tag_count</th>\n",
       "      <th>node_degree</th>\n",
       "      <th>weighted_degree</th>\n",
       "      <th>betweenness</th>\n",
       "      <th>eigenvector</th>\n",
       "      <th>closeness</th>\n",
       "    </tr>\n",
       "  </thead>\n",
       "  <tbody>\n",
       "    <tr>\n",
       "      <th>14949</th>\n",
       "      <td>art</td>\n",
       "      <td>110696</td>\n",
       "      <td>4754</td>\n",
       "      <td>415943.0</td>\n",
       "      <td>1.493694e+08</td>\n",
       "      <td>0.460062</td>\n",
       "      <td>0.453987</td>\n",
       "    </tr>\n",
       "    <tr>\n",
       "      <th>5890</th>\n",
       "      <td>my art</td>\n",
       "      <td>77000</td>\n",
       "      <td>4597</td>\n",
       "      <td>355117.0</td>\n",
       "      <td>1.447908e+08</td>\n",
       "      <td>0.360377</td>\n",
       "      <td>0.443059</td>\n",
       "    </tr>\n",
       "    <tr>\n",
       "      <th>12985</th>\n",
       "      <td>fanart</td>\n",
       "      <td>53664</td>\n",
       "      <td>2998</td>\n",
       "      <td>242434.0</td>\n",
       "      <td>6.859590e+07</td>\n",
       "      <td>0.304874</td>\n",
       "      <td>0.428706</td>\n",
       "    </tr>\n",
       "    <tr>\n",
       "      <th>10338</th>\n",
       "      <td>*</td>\n",
       "      <td>32919</td>\n",
       "      <td>2963</td>\n",
       "      <td>304843.0</td>\n",
       "      <td>5.620573e+07</td>\n",
       "      <td>1.000000</td>\n",
       "      <td>0.408954</td>\n",
       "    </tr>\n",
       "    <tr>\n",
       "      <th>20309</th>\n",
       "      <td>mine</td>\n",
       "      <td>32794</td>\n",
       "      <td>2410</td>\n",
       "      <td>156353.0</td>\n",
       "      <td>9.085915e+07</td>\n",
       "      <td>0.741296</td>\n",
       "      <td>0.437400</td>\n",
       "    </tr>\n",
       "    <tr>\n",
       "      <th>...</th>\n",
       "      <td>...</td>\n",
       "      <td>...</td>\n",
       "      <td>...</td>\n",
       "      <td>...</td>\n",
       "      <td>...</td>\n",
       "      <td>...</td>\n",
       "      <td>...</td>\n",
       "    </tr>\n",
       "    <tr>\n",
       "      <th>45035</th>\n",
       "      <td>handphone</td>\n",
       "      <td>12</td>\n",
       "      <td>1</td>\n",
       "      <td>24.0</td>\n",
       "      <td>0.000000e+00</td>\n",
       "      <td>0.000011</td>\n",
       "      <td>0.227909</td>\n",
       "    </tr>\n",
       "    <tr>\n",
       "      <th>42267</th>\n",
       "      <td>tebal</td>\n",
       "      <td>12</td>\n",
       "      <td>1</td>\n",
       "      <td>24.0</td>\n",
       "      <td>0.000000e+00</td>\n",
       "      <td>0.000016</td>\n",
       "      <td>0.228275</td>\n",
       "    </tr>\n",
       "    <tr>\n",
       "      <th>13722</th>\n",
       "      <td>nocontext.sag</td>\n",
       "      <td>12</td>\n",
       "      <td>1</td>\n",
       "      <td>24.0</td>\n",
       "      <td>0.000000e+00</td>\n",
       "      <td>0.000009</td>\n",
       "      <td>0.227981</td>\n",
       "    </tr>\n",
       "    <tr>\n",
       "      <th>36635</th>\n",
       "      <td>เบทฟิกโอจี</td>\n",
       "      <td>11</td>\n",
       "      <td>1</td>\n",
       "      <td>22.0</td>\n",
       "      <td>0.000000e+00</td>\n",
       "      <td>0.000000</td>\n",
       "      <td>0.511111</td>\n",
       "    </tr>\n",
       "    <tr>\n",
       "      <th>42322</th>\n",
       "      <td>betflixog.com</td>\n",
       "      <td>11</td>\n",
       "      <td>1</td>\n",
       "      <td>22.0</td>\n",
       "      <td>0.000000e+00</td>\n",
       "      <td>0.000000</td>\n",
       "      <td>0.511111</td>\n",
       "    </tr>\n",
       "  </tbody>\n",
       "</table>\n",
       "<p>47434 rows × 7 columns</p>\n",
       "</div>"
      ],
      "text/plain": [
       "                 tag  tag_count  node_degree  weighted_degree   betweenness  \\\n",
       "14949            art     110696         4754         415943.0  1.493694e+08   \n",
       "5890          my art      77000         4597         355117.0  1.447908e+08   \n",
       "12985         fanart      53664         2998         242434.0  6.859590e+07   \n",
       "10338              *      32919         2963         304843.0  5.620573e+07   \n",
       "20309           mine      32794         2410         156353.0  9.085915e+07   \n",
       "...              ...        ...          ...              ...           ...   \n",
       "45035      handphone         12            1             24.0  0.000000e+00   \n",
       "42267          tebal         12            1             24.0  0.000000e+00   \n",
       "13722  nocontext.sag         12            1             24.0  0.000000e+00   \n",
       "36635     เบทฟิกโอจี         11            1             22.0  0.000000e+00   \n",
       "42322  betflixog.com         11            1             22.0  0.000000e+00   \n",
       "\n",
       "       eigenvector  closeness  \n",
       "14949     0.460062   0.453987  \n",
       "5890      0.360377   0.443059  \n",
       "12985     0.304874   0.428706  \n",
       "10338     1.000000   0.408954  \n",
       "20309     0.741296   0.437400  \n",
       "...            ...        ...  \n",
       "45035     0.000011   0.227909  \n",
       "42267     0.000016   0.228275  \n",
       "13722     0.000009   0.227981  \n",
       "36635     0.000000   0.511111  \n",
       "42322     0.000000   0.511111  \n",
       "\n",
       "[47434 rows x 7 columns]"
      ]
     },
     "execution_count": 12,
     "metadata": {},
     "output_type": "execute_result"
    }
   ],
   "source": [
    "centralities.sort_values(\"tag_count\", ascending=False)"
   ]
  },
  {
   "cell_type": "markdown",
   "id": "ff0e390e-48d5-41e2-8512-bac53a3f8c59",
   "metadata": {},
   "source": [
    "Now, given the centralities we may perform **clustering on the Nodes (hashtags)** in order to define `popularity clusters`.\n",
    "\n",
    "This method may have some **drawbacks** though. \n",
    "\n",
    "Clustering a hashtag that is not yet in the graph can be challenging, as centrality measures **rely on its existing connections**. We can't just assign a new Hashtag to get the cluster ID unless you connect it to the graph.\n",
    "\n",
    "One way we could handle this is to **estimate closest Nodes** based on the new hashtag's similarity to existing ones (e.g., using word embeddings or contextual analysis). Then we can use the nearest neighbors that appear on the Graph and take an aggregation (mean) of their centrality measures. This way we would assign the new Hashtag into the cluster.\n",
    "\n",
    "Note: What we also need to do is every few days enhance the Graph and re-calculate the centralities. Then run again the clustering algorithm. \n"
   ]
  },
  {
   "cell_type": "code",
   "execution_count": 13,
   "id": "9bf074c4-c8b1-42a5-b0c9-45807fb0a7f5",
   "metadata": {
    "ExecuteTime": {
     "end_time": "2024-10-24T20:03:22.007964Z",
     "start_time": "2024-10-24T20:03:21.139397Z"
    }
   },
   "outputs": [
    {
     "data": {
      "text/plain": [
       "<Axes: >"
      ]
     },
     "execution_count": 13,
     "metadata": {},
     "output_type": "execute_result"
    },
    {
     "data": {
      "image/png": "[encoded data removed]",
      "text/plain": [
       "<Figure size 640x480 with 1 Axes>"
      ]
     },
     "metadata": {},
     "output_type": "display_data"
    }
   ],
   "source": [
    "tags_series.apply(len).value_counts().sort_index().plot(kind=\"bar\")"
   ]
  },
  {
   "cell_type": "code",
   "execution_count": 14,
   "id": "881725bd-8b01-4e50-8056-db9ccae6e5f2",
   "metadata": {
    "ExecuteTime": {
     "end_time": "2024-10-24T20:03:22.589878Z",
     "start_time": "2024-10-24T20:03:22.026711Z"
    },
    "scrolled": true
   },
   "outputs": [
    {
     "data": {
      "text/plain": [
       "0     0.169434\n",
       "1     0.394778\n",
       "2     0.538423\n",
       "3     0.632507\n",
       "4     0.696786\n",
       "5     0.750662\n",
       "6     0.791589\n",
       "7     0.823672\n",
       "8     0.849850\n",
       "9     0.872068\n",
       "10    0.896692\n",
       "11    0.911213\n",
       "12    0.923325\n",
       "13    0.934159\n",
       "14    0.942794\n",
       "15    0.949920\n",
       "16    0.957373\n",
       "17    0.962966\n",
       "18    0.967951\n",
       "19    0.972905\n",
       "20    0.979794\n",
       "21    0.983783\n",
       "22    0.986452\n",
       "23    0.988542\n",
       "24    0.990038\n",
       "25    0.991386\n",
       "26    0.992524\n",
       "27    0.993614\n",
       "28    0.994499\n",
       "29    0.995428\n",
       "30    0.999996\n",
       "31    0.999996\n",
       "34    1.000000\n",
       "Name: proportion, dtype: float64"
      ]
     },
     "execution_count": 14,
     "metadata": {},
     "output_type": "execute_result"
    }
   ],
   "source": [
    "tags_series.apply(len).value_counts(normalize=True).sort_index().cumsum()"
   ]
  },
  {
   "cell_type": "code",
   "execution_count": 15,
   "id": "8e76a32d-ed5e-40cb-808d-205d804ee9ea",
   "metadata": {
    "ExecuteTime": {
     "end_time": "2024-10-24T20:07:52.845109Z",
     "start_time": "2024-10-24T20:03:22.613112Z"
    }
   },
   "outputs": [
    {
     "name": "stdout",
     "output_type": "stream",
     "text": [
      "Number of maximal cliques: 100786106\n"
     ]
    }
   ],
   "source": [
    "# Now we'll find all maximal cliques in the graph of size between 3 and 5\n",
    "maximal_cliques = G.cliques(min=3, max=5)\n",
    "print(f\"Number of maximal cliques: {len(maximal_cliques)}\")"
   ]
  },
  {
   "cell_type": "code",
   "execution_count": 16,
   "id": "93fbdd31-e2c4-424f-ba34-036302406698",
   "metadata": {
    "ExecuteTime": {
     "end_time": "2024-10-24T20:07:53.446517Z",
     "start_time": "2024-10-24T20:07:52.951083Z"
    }
   },
   "outputs": [],
   "source": [
    "# We can also find the communities in the graph\n",
    "communities = G.community_multilevel(weights=G.es[\"weight\"])"
   ]
  },
  {
   "cell_type": "code",
   "execution_count": 17,
   "id": "cb8c29e26cdbe86f",
   "metadata": {
    "ExecuteTime": {
     "end_time": "2024-10-24T20:09:58.452397Z",
     "start_time": "2024-10-24T20:09:58.448030Z"
    }
   },
   "outputs": [
    {
     "data": {
      "text/plain": [
       "1425"
      ]
     },
     "execution_count": 17,
     "metadata": {},
     "output_type": "execute_result"
    }
   ],
   "source": [
    "len(communities)"
   ]
  },
  {
   "cell_type": "code",
   "execution_count": 18,
   "id": "639ec037265f586f",
   "metadata": {
    "ExecuteTime": {
     "end_time": "2024-10-24T20:10:20.406141Z",
     "start_time": "2024-10-24T20:10:20.402955Z"
    }
   },
   "outputs": [],
   "source": [
    "# Assign each node to a community\n",
    "community_assignments = communities.membership"
   ]
  },
  {
   "cell_type": "code",
   "execution_count": 19,
   "id": "da76a4b4f199552b",
   "metadata": {
    "ExecuteTime": {
     "end_time": "2024-10-24T20:10:41.603674Z",
     "start_time": "2024-10-24T20:10:41.600663Z"
    }
   },
   "outputs": [],
   "source": [
    "# Add the community assignments to the graph\n",
    "G.vs[\"community\"] = community_assignments"
   ]
  },
  {
   "cell_type": "code",
   "execution_count": 20,
   "id": "deed113fd63073ba",
   "metadata": {
    "ExecuteTime": {
     "end_time": "2024-10-24T20:10:41.624185Z",
     "start_time": "2024-10-24T20:10:41.614744Z"
    }
   },
   "outputs": [],
   "source": [
    "# Now we can see the distribution of the communities\n",
    "community_distribution = pd.Series(community_assignments).value_counts(normalize=True)"
   ]
  },
  {
   "cell_type": "code",
   "execution_count": 23,
   "id": "b724cb1177b0ca2e",
   "metadata": {
    "ExecuteTime": {
     "end_time": "2024-10-24T20:11:02.250693Z",
     "start_time": "2024-10-24T20:11:02.244879Z"
    }
   },
   "outputs": [
    {
     "data": {
      "text/plain": [
       "1       0.105684\n",
       "10      0.096893\n",
       "6       0.079099\n",
       "24      0.046570\n",
       "7       0.037505\n",
       "          ...   \n",
       "859     0.000042\n",
       "861     0.000042\n",
       "866     0.000042\n",
       "868     0.000042\n",
       "1424    0.000042\n",
       "Name: proportion, Length: 1425, dtype: float64"
      ]
     },
     "execution_count": 23,
     "metadata": {},
     "output_type": "execute_result"
    }
   ],
   "source": [
    "community_distribution"
   ]
  }
 ],
 "metadata": {
  "kernelspec": {
   "display_name": "Python 3 (ipykernel)",
   "language": "python",
   "name": "python3"
  },
  "language_info": {
   "codemirror_mode": {
    "name": "ipython",
    "version": 3
   },
   "file_extension": ".py",
   "mimetype": "text/x-python",
   "name": "python",
   "nbconvert_exporter": "python",
   "pygments_lexer": "ipython3",
   "version": "3.11.9"
  }
 },
 "nbformat": 4,
 "nbformat_minor": 5
}
