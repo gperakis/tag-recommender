{
 "cells": [
  {
   "cell_type": "code",
   "id": "initial_id",
   "metadata": {
    "ExecuteTime": {
     "end_time": "2024-10-25T11:58:35.339394Z",
     "start_time": "2024-10-25T11:58:30.000006Z"
    }
   },
   "source": [
    "from collections import Counter, defaultdict\n",
    "\n",
    "import pandas as pd\n",
    "from bertopic import BERTopic\n",
    "from tqdm import tqdm\n",
    "\n",
    "tqdm.pandas()"
   ],
   "outputs": [],
   "execution_count": 1
  },
  {
   "cell_type": "code",
   "id": "12a99a7b4646b843",
   "metadata": {
    "ExecuteTime": {
     "end_time": "2024-10-25T11:58:35.346530Z",
     "start_time": "2024-10-25T11:58:35.344280Z"
    }
   },
   "source": [
    "# utility functions\n",
    "def split_tags(tags_str):\n",
    "    if tags_str:\n",
    "        return [tag.strip().lower() for tag in tags_str.split(\",\") if tag.strip()]\n",
    "\n",
    "    return []\n",
    "\n",
    "def count_hashtag_occurrences(hashtags):\n",
    "    all_hashtags = [tag for sublist in hashtags for tag in sublist]\n",
    "    return Counter(all_hashtags)"
   ],
   "outputs": [],
   "execution_count": 2
  },
  {
   "cell_type": "code",
   "id": "a67e38385450cd91",
   "metadata": {
    "ExecuteTime": {
     "end_time": "2024-10-25T11:58:47.786818Z",
     "start_time": "2024-10-25T11:58:35.428050Z"
    }
   },
   "source": [
    "# Step 1: Preprocess the Data\n",
    "\n",
    "df = pd.read_csv(\"../data/full_dataset.csv\", usecols=[\"root_tags\", \"tags\"])\n",
    "df[\"root_tags\"] = df[\"root_tags\"].fillna(\"\")\n",
    "df[\"tags\"] = df[\"tags\"].fillna(\"\")\n",
    "\n",
    "# Concatenating both root_tags and reblogged tags to get all co-occurrences as edges between a graph.\n",
    "tags_series = (\n",
    "    pd.concat([df[\"root_tags\"], df[\"tags\"]]).apply(split_tags).reset_index(drop=True)\n",
    ")\n",
    "tags_series"
   ],
   "outputs": [
    {
     "data": {
      "text/plain": [
       "0          [sadie sink, sadiesinkedit, femaledaily, daily...\n",
       "1                                                         []\n",
       "2                                                         []\n",
       "3          [alchemy of souls, alchemy of souls: light and...\n",
       "4          [manila mikey, manjiro sano, tokyo manji gang,...\n",
       "                                 ...                        \n",
       "3529079                                              [mp100]\n",
       "3529080    [the way his expression changes😂, doctor who, ...\n",
       "3529081    [we did a thing, harringrove, teacher!steve, k...\n",
       "3529082         [what the hell am i gonna do when it’s done]\n",
       "3529083              [other people’s art, quilting, turtles]\n",
       "Length: 3529084, dtype: object"
      ]
     },
     "execution_count": 3,
     "metadata": {},
     "output_type": "execute_result"
    }
   ],
   "execution_count": 3
  },
  {
   "cell_type": "code",
   "id": "4643f27ec3625f31",
   "metadata": {
    "ExecuteTime": {
     "end_time": "2024-10-25T11:58:51.583500Z",
     "start_time": "2024-10-25T11:58:47.813743Z"
    }
   },
   "source": [
    "# Count the occurrences of each tag\n",
    "tags_counts = tags_series.explode().value_counts()\n",
    "tags_counts"
   ],
   "outputs": [
    {
     "data": {
      "text/plain": [
       "art                                                             110696\n",
       "my art                                                           77000\n",
       "fanart                                                           53664\n",
       "*                                                                32919\n",
       "mine                                                             32794\n",
       "                                                                 ...  \n",
       "also don't go planning on stealing any baby larvitars /lh /j         1\n",
       "my body is a canvas                                                  1\n",
       "the lights!                                                          1\n",
       "op the lights                                                        1\n",
       "what the hell am i gonna do when it’s done                           1\n",
       "Name: count, Length: 2282228, dtype: int64"
      ]
     },
     "execution_count": 4,
     "metadata": {},
     "output_type": "execute_result"
    }
   ],
   "execution_count": 4
  },
  {
   "cell_type": "code",
   "id": "7ca791519303d45b",
   "metadata": {
    "ExecuteTime": {
     "end_time": "2024-10-25T11:58:51.608641Z",
     "start_time": "2024-10-25T11:58:51.602259Z"
    }
   },
   "source": [
    "# Get the top 200,000 tags\n",
    "top_tags = tags_counts.head(200_000).index\n",
    "top_tags"
   ],
   "outputs": [
    {
     "data": {
      "text/plain": [
       "Index(['art', 'my art', 'fanart', '*', 'mine', 'digital art', 'pokemon',\n",
       "       'illustration', 'artists on tumblr', 'video',\n",
       "       ...\n",
       "       'suggestive .', 'i loved it so much', 'anidalaedit',\n",
       "       'i would pledge the allegiance if this was the flag',\n",
       "       'johnny moodboard', 'max deacon',\n",
       "       'and you know what it's been lots of fun', 'فالح الشبلي',\n",
       "       'sapphire and ruby', 'ifrit fanart'],\n",
       "      dtype='object', length=200000)"
      ]
     },
     "execution_count": 5,
     "metadata": {},
     "output_type": "execute_result"
    }
   ],
   "execution_count": 5
  },
  {
   "cell_type": "code",
   "id": "f8f83c000eea2f8f",
   "metadata": {
    "ExecuteTime": {
     "end_time": "2024-10-25T12:01:52.397612Z",
     "start_time": "2024-10-25T11:58:51.634499Z"
    }
   },
   "source": [
    "# Step 2: Apply BERTopic for Topic Extraction\n",
    "\n",
    "# Now, we will use BERTopic to cluster these embeddings into hierarchical topics.\n",
    "topic_model = BERTopic(verbose=True, calculate_probabilities=False)\n",
    "topics, _ = topic_model.fit_transform(top_tags)"
   ],
   "outputs": [
    {
     "name": "stderr",
     "output_type": "stream",
     "text": [
      "2024-10-25 14:58:51,669 - BERTopic - Embedding - Transforming documents to embeddings.\n"
     ]
    },
    {
     "data": {
      "text/plain": [
       "Batches:   0%|          | 0/6250 [00:00<?, ?it/s]"
      ],
      "application/vnd.jupyter.widget-view+json": {
       "version_major": 2,
       "version_minor": 0,
       "model_id": "e92072def2a24b279463adf661ac4429"
      }
     },
     "metadata": {},
     "output_type": "display_data"
    },
    {
     "name": "stderr",
     "output_type": "stream",
     "text": [
      "2024-10-25 15:00:31,603 - BERTopic - Embedding - Completed ✓\n",
      "2024-10-25 15:00:31,604 - BERTopic - Dimensionality - Fitting the dimensionality reduction algorithm\n",
      "OMP: Info #276: omp_set_nested routine deprecated, please use omp_set_max_active_levels instead.\n",
      "2024-10-25 15:01:36,434 - BERTopic - Dimensionality - Completed ✓\n",
      "2024-10-25 15:01:36,445 - BERTopic - Cluster - Start clustering the reduced embeddings\n",
      "huggingface/tokenizers: The current process just got forked, after parallelism has already been used. Disabling parallelism to avoid deadlocks...\n",
      "To disable this warning, you can either:\n",
      "\t- Avoid using `tokenizers` before the fork if possible\n",
      "\t- Explicitly set the environment variable TOKENIZERS_PARALLELISM=(true | false)\n",
      "huggingface/tokenizers: The current process just got forked, after parallelism has already been used. Disabling parallelism to avoid deadlocks...\n",
      "To disable this warning, you can either:\n",
      "\t- Avoid using `tokenizers` before the fork if possible\n",
      "\t- Explicitly set the environment variable TOKENIZERS_PARALLELISM=(true | false)\n",
      "huggingface/tokenizers: The current process just got forked, after parallelism has already been used. Disabling parallelism to avoid deadlocks...\n",
      "To disable this warning, you can either:\n",
      "\t- Avoid using `tokenizers` before the fork if possible\n",
      "\t- Explicitly set the environment variable TOKENIZERS_PARALLELISM=(true | false)\n",
      "huggingface/tokenizers: The current process just got forked, after parallelism has already been used. Disabling parallelism to avoid deadlocks...\n",
      "To disable this warning, you can either:\n",
      "\t- Avoid using `tokenizers` before the fork if possible\n",
      "\t- Explicitly set the environment variable TOKENIZERS_PARALLELISM=(true | false)\n",
      "huggingface/tokenizers: The current process just got forked, after parallelism has already been used. Disabling parallelism to avoid deadlocks...\n",
      "To disable this warning, you can either:\n",
      "\t- Avoid using `tokenizers` before the fork if possible\n",
      "\t- Explicitly set the environment variable TOKENIZERS_PARALLELISM=(true | false)\n",
      "2024-10-25 15:01:47,972 - BERTopic - Cluster - Completed ✓\n",
      "2024-10-25 15:01:48,002 - BERTopic - Representation - Extracting topics from clusters using representation models.\n",
      "2024-10-25 15:01:49,695 - BERTopic - Representation - Completed ✓\n"
     ]
    }
   ],
   "execution_count": 6
  },
  {
   "cell_type": "code",
   "id": "6f192756-7fd8-4da6-ad3e-751e6437cd0f",
   "metadata": {
    "ExecuteTime": {
     "end_time": "2024-10-25T12:01:52.440811Z",
     "start_time": "2024-10-25T12:01:52.425760Z"
    }
   },
   "source": [
    "# Show topics information\n",
    "topic_model.get_topic_info()"
   ],
   "outputs": [
    {
     "data": {
      "text/plain": [
       "      Topic  Count                                               Name  \\\n",
       "0        -1  50377                                  -1_de_he_bruce_la   \n",
       "1         0   1918                  0_fanart_fanfic_fandom_fanfiction   \n",
       "2         1   1368                1_user_userlgbtq_userjessie_userana   \n",
       "3         2    916                     2_reader_femreader_eren_insert   \n",
       "4         3    844                     3_queue_queued_queues_queueing   \n",
       "...     ...    ...                                                ...   \n",
       "3996   3995     10           3995_rapebait_r4pebait_r4p3bait_j4ilbait   \n",
       "3997   3996     10                     3996_both_danerys_devote_karna   \n",
       "3998   3997     10  3997_literate_literaure_literatiedit_literatigifs   \n",
       "3999   3998     10         3998_edgeworth_edgworth_newsworth_networth   \n",
       "4000   3999     10           3999_concept_conceptual_original_artwork   \n",
       "\n",
       "                                         Representation  \\\n",
       "0     [de, he, bruce, la, her, art, they, james, his...   \n",
       "1     [fanart, fanfic, fandom, fanfiction, fan, fant...   \n",
       "2     [user, userlgbtq, userjessie, userana, userdee...   \n",
       "3     [reader, femreader, eren, insert, kirishima, h...   \n",
       "4     [queue, queued, queues, queueing, queuing, que...   \n",
       "...                                                 ...   \n",
       "3996  [rapebait, r4pebait, r4p3bait, j4ilbait, gamed...   \n",
       "3997  [both, danerys, devote, karna, toward, counts,...   \n",
       "3998  [literate, literaure, literatiedit, literatigi...   \n",
       "3999  [edgeworth, edgworth, newsworth, networth, lan...   \n",
       "4000  [concept, conceptual, original, artwork, fallo...   \n",
       "\n",
       "                                    Representative_Docs  \n",
       "0     [tell me where to put it down etc, these are s...  \n",
       "1       [(fanart), fanart for fanfic, fanart of fanfic]  \n",
       "2            [userdee, userlgbtq, user: heteronegative]  \n",
       "3      [kanafinwë x reader, i.n x reader, f/o x reader]  \n",
       "4        [queue queue queue, [ 🕰️ ; queue ], queue-e-d]  \n",
       "...                                                 ...  \n",
       "3996        [rapebait, gamebaidoithuong, gamebaionline]  \n",
       "3997  [i love them both, personally very into the se...  \n",
       "3998  [literatigifs, a literate passion, because bei...  \n",
       "3999  [miles edgworth, miles edgeworth fanart, miles...  \n",
       "4000     [concept artist, not concept art, concept art]  \n",
       "\n",
       "[4001 rows x 5 columns]"
      ],
      "text/html": [
       "<div>\n",
       "<style scoped>\n",
       "    .dataframe tbody tr th:only-of-type {\n",
       "        vertical-align: middle;\n",
       "    }\n",
       "\n",
       "    .dataframe tbody tr th {\n",
       "        vertical-align: top;\n",
       "    }\n",
       "\n",
       "    .dataframe thead th {\n",
       "        text-align: right;\n",
       "    }\n",
       "</style>\n",
       "<table border=\"1\" class=\"dataframe\">\n",
       "  <thead>\n",
       "    <tr style=\"text-align: right;\">\n",
       "      <th></th>\n",
       "      <th>Topic</th>\n",
       "      <th>Count</th>\n",
       "      <th>Name</th>\n",
       "      <th>Representation</th>\n",
       "      <th>Representative_Docs</th>\n",
       "    </tr>\n",
       "  </thead>\n",
       "  <tbody>\n",
       "    <tr>\n",
       "      <th>0</th>\n",
       "      <td>-1</td>\n",
       "      <td>50377</td>\n",
       "      <td>-1_de_he_bruce_la</td>\n",
       "      <td>[de, he, bruce, la, her, art, they, james, his...</td>\n",
       "      <td>[tell me where to put it down etc, these are s...</td>\n",
       "    </tr>\n",
       "    <tr>\n",
       "      <th>1</th>\n",
       "      <td>0</td>\n",
       "      <td>1918</td>\n",
       "      <td>0_fanart_fanfic_fandom_fanfiction</td>\n",
       "      <td>[fanart, fanfic, fandom, fanfiction, fan, fant...</td>\n",
       "      <td>[(fanart), fanart for fanfic, fanart of fanfic]</td>\n",
       "    </tr>\n",
       "    <tr>\n",
       "      <th>2</th>\n",
       "      <td>1</td>\n",
       "      <td>1368</td>\n",
       "      <td>1_user_userlgbtq_userjessie_userana</td>\n",
       "      <td>[user, userlgbtq, userjessie, userana, userdee...</td>\n",
       "      <td>[userdee, userlgbtq, user: heteronegative]</td>\n",
       "    </tr>\n",
       "    <tr>\n",
       "      <th>3</th>\n",
       "      <td>2</td>\n",
       "      <td>916</td>\n",
       "      <td>2_reader_femreader_eren_insert</td>\n",
       "      <td>[reader, femreader, eren, insert, kirishima, h...</td>\n",
       "      <td>[kanafinwë x reader, i.n x reader, f/o x reader]</td>\n",
       "    </tr>\n",
       "    <tr>\n",
       "      <th>4</th>\n",
       "      <td>3</td>\n",
       "      <td>844</td>\n",
       "      <td>3_queue_queued_queues_queueing</td>\n",
       "      <td>[queue, queued, queues, queueing, queuing, que...</td>\n",
       "      <td>[queue queue queue, [ 🕰️ ; queue ], queue-e-d]</td>\n",
       "    </tr>\n",
       "    <tr>\n",
       "      <th>...</th>\n",
       "      <td>...</td>\n",
       "      <td>...</td>\n",
       "      <td>...</td>\n",
       "      <td>...</td>\n",
       "      <td>...</td>\n",
       "    </tr>\n",
       "    <tr>\n",
       "      <th>3996</th>\n",
       "      <td>3995</td>\n",
       "      <td>10</td>\n",
       "      <td>3995_rapebait_r4pebait_r4p3bait_j4ilbait</td>\n",
       "      <td>[rapebait, r4pebait, r4p3bait, j4ilbait, gamed...</td>\n",
       "      <td>[rapebait, gamebaidoithuong, gamebaionline]</td>\n",
       "    </tr>\n",
       "    <tr>\n",
       "      <th>3997</th>\n",
       "      <td>3996</td>\n",
       "      <td>10</td>\n",
       "      <td>3996_both_danerys_devote_karna</td>\n",
       "      <td>[both, danerys, devote, karna, toward, counts,...</td>\n",
       "      <td>[i love them both, personally very into the se...</td>\n",
       "    </tr>\n",
       "    <tr>\n",
       "      <th>3998</th>\n",
       "      <td>3997</td>\n",
       "      <td>10</td>\n",
       "      <td>3997_literate_literaure_literatiedit_literatigifs</td>\n",
       "      <td>[literate, literaure, literatiedit, literatigi...</td>\n",
       "      <td>[literatigifs, a literate passion, because bei...</td>\n",
       "    </tr>\n",
       "    <tr>\n",
       "      <th>3999</th>\n",
       "      <td>3998</td>\n",
       "      <td>10</td>\n",
       "      <td>3998_edgeworth_edgworth_newsworth_networth</td>\n",
       "      <td>[edgeworth, edgworth, newsworth, networth, lan...</td>\n",
       "      <td>[miles edgworth, miles edgeworth fanart, miles...</td>\n",
       "    </tr>\n",
       "    <tr>\n",
       "      <th>4000</th>\n",
       "      <td>3999</td>\n",
       "      <td>10</td>\n",
       "      <td>3999_concept_conceptual_original_artwork</td>\n",
       "      <td>[concept, conceptual, original, artwork, fallo...</td>\n",
       "      <td>[concept artist, not concept art, concept art]</td>\n",
       "    </tr>\n",
       "  </tbody>\n",
       "</table>\n",
       "<p>4001 rows × 5 columns</p>\n",
       "</div>"
      ]
     },
     "execution_count": 7,
     "metadata": {},
     "output_type": "execute_result"
    }
   ],
   "execution_count": 7
  },
  {
   "cell_type": "code",
   "id": "86ffe2f72748f7f1",
   "metadata": {
    "ExecuteTime": {
     "end_time": "2024-10-25T12:02:26.598983Z",
     "start_time": "2024-10-25T12:01:52.463260Z"
    }
   },
   "source": [
    "# Step 3: Generate a hierarchical structure for topics\n",
    "hierarchical_topics = topic_model.hierarchical_topics(top_tags)\n",
    "hierarchical_topics.Parent_ID = hierarchical_topics.Parent_ID.astype(int)\n",
    "hierarchical_topics.Child_Left_ID = hierarchical_topics.Child_Left_ID.astype(int)\n",
    "hierarchical_topics.Child_Right_ID = hierarchical_topics.Child_Right_ID.astype(int)"
   ],
   "outputs": [
    {
     "name": "stderr",
     "output_type": "stream",
     "text": [
      "100%|██████████| 3999/3999 [00:29<00:00, 136.24it/s]\n"
     ]
    }
   ],
   "execution_count": 8
  },
  {
   "cell_type": "code",
   "id": "1330e34ed134c4d9",
   "metadata": {
    "ExecuteTime": {
     "end_time": "2024-10-25T12:02:26.624304Z",
     "start_time": "2024-10-25T12:02:26.622498Z"
    }
   },
   "source": [
    "# This takes too long to visualize for this many topics. \n",
    "# topic_model.visualize_topics()"
   ],
   "outputs": [],
   "execution_count": 9
  },
  {
   "metadata": {
    "ExecuteTime": {
     "end_time": "2024-10-25T12:02:26.635588Z",
     "start_time": "2024-10-25T12:02:26.633184Z"
    }
   },
   "cell_type": "code",
   "source": "len(hierarchical_topics)",
   "id": "6d3e670ddf65e924",
   "outputs": [
    {
     "data": {
      "text/plain": [
       "3999"
      ]
     },
     "execution_count": 10,
     "metadata": {},
     "output_type": "execute_result"
    }
   ],
   "execution_count": 10
  },
  {
   "cell_type": "code",
   "id": "aa121b8b-530a-4c9b-b53e-4c1bfeb83628",
   "metadata": {
    "ExecuteTime": {
     "end_time": "2024-10-25T12:02:26.763164Z",
     "start_time": "2024-10-25T12:02:26.761597Z"
    }
   },
   "source": [
    "# This takes too long to run and is very big to show in a notebook\n",
    "# topic_model.visualize_hierarchy(hierarchical_topics=hierarchical_topics)"
   ],
   "outputs": [],
   "execution_count": 11
  },
  {
   "metadata": {
    "ExecuteTime": {
     "end_time": "2024-10-25T12:02:30.572431Z",
     "start_time": "2024-10-25T12:02:26.792466Z"
    }
   },
   "cell_type": "code",
   "source": [
    "# Build a dictionary to store parent-child relationships\n",
    "parent_to_children = defaultdict(list)\n",
    "\n",
    "# Populate the dictionary with relationships from the DataFrame\n",
    "for _, row in hierarchical_topics.iterrows():\n",
    "    # Append children under their respective parents\n",
    "    parent_to_children[(row['Parent_ID'], row['Parent_Name'])].append((row['Child_Left_ID'], row['Child_Left_Name']))\n",
    "    parent_to_children[(row['Parent_ID'], row['Parent_Name'])].append((row['Child_Right_ID'], row['Child_Right_Name']))\n",
    "\n",
    "taxonomy_with_details = []\n",
    "\n",
    "# Define the function to build taxonomy details with Current ID, Parent ID, and Taxonomy List\n",
    "def build_taxonomy_details(parent, path, paths):\n",
    "    parent_id, _ = parent\n",
    "    current_path = path + [parent_id]  # Keep IDs as integers for clarity\n",
    "    \n",
    "    if parent not in parent_to_children:\n",
    "        # For leaves, store the last ID, its parent, and the full taxonomy\n",
    "        paths.append({\n",
    "            \"Current_ID\": parent_id,\n",
    "            \"Parent_ID\": current_path[-2] if len(current_path) > 1 else None,\n",
    "            \"Taxonomy_List\": current_path\n",
    "        })\n",
    "    else:\n",
    "        # Continue building paths for each child, marking the current ID and its path so far\n",
    "        for child in parent_to_children[parent]:\n",
    "            child_id, _ = child\n",
    "            paths.append({\n",
    "                \"Current_ID\": child_id,\n",
    "                \"Parent_ID\": parent_id,\n",
    "                \"Taxonomy_List\": current_path\n",
    "            })\n",
    "            # Recursive call for each child\n",
    "            build_taxonomy_details(child, current_path, paths)\n",
    "\n",
    "# Collect taxonomy details in the required format\n",
    "taxonomy_details = []\n",
    "for root in parent_to_children:\n",
    "    build_taxonomy_details(root, [], taxonomy_details)\n",
    "\n",
    "# Convert the list of dictionaries into a DataFrame\n",
    "taxonomy_details_df = pd.DataFrame(taxonomy_details)\n",
    "taxonomy_details_df['Path_Length'] = taxonomy_details_df['Taxonomy_List'].apply(len)\n",
    "\n",
    "# Sort by Path_Length in descending order and drop duplicates based on Current_ID, keeping the longest path\n",
    "longest_paths_df = taxonomy_details_df.sort_values(by='Path_Length', ascending=False).drop_duplicates(subset=['Current_ID'])\n",
    "\n",
    "longest_paths_df = longest_paths_df.drop(columns=['Path_Length'])"
   ],
   "id": "378d4b8fa5e42747",
   "outputs": [],
   "execution_count": 12
  },
  {
   "metadata": {
    "ExecuteTime": {
     "end_time": "2024-10-25T12:02:30.592659Z",
     "start_time": "2024-10-25T12:02:30.587225Z"
    }
   },
   "cell_type": "code",
   "source": [
    "longest_paths_df.set_index('Current_ID', inplace=True)\n",
    "longest_paths_df"
   ],
   "id": "f5a3ae6a3e024a51",
   "outputs": [
    {
     "data": {
      "text/plain": [
       "            Parent_ID                                      Taxonomy_List\n",
       "Current_ID                                                              \n",
       "3533             6183  [7998, 7997, 7996, 7995, 7994, 7993, 7991, 798...\n",
       "3711             6183  [7998, 7997, 7996, 7995, 7994, 7993, 7991, 798...\n",
       "3538             6184  [7998, 7997, 7996, 7995, 7994, 7993, 7991, 798...\n",
       "6183             6184  [7998, 7997, 7996, 7995, 7994, 7993, 7991, 798...\n",
       "3539             6185  [7998, 7997, 7996, 7995, 7994, 7993, 7991, 798...\n",
       "...               ...                                                ...\n",
       "4365             5050                                       [7998, 5050]\n",
       "4320             7997                                       [7998, 7997]\n",
       "7996             7997                                       [7998, 7997]\n",
       "7997             7998                                             [7998]\n",
       "5050             7998                                             [7998]\n",
       "\n",
       "[7998 rows x 2 columns]"
      ],
      "text/html": [
       "<div>\n",
       "<style scoped>\n",
       "    .dataframe tbody tr th:only-of-type {\n",
       "        vertical-align: middle;\n",
       "    }\n",
       "\n",
       "    .dataframe tbody tr th {\n",
       "        vertical-align: top;\n",
       "    }\n",
       "\n",
       "    .dataframe thead th {\n",
       "        text-align: right;\n",
       "    }\n",
       "</style>\n",
       "<table border=\"1\" class=\"dataframe\">\n",
       "  <thead>\n",
       "    <tr style=\"text-align: right;\">\n",
       "      <th></th>\n",
       "      <th>Parent_ID</th>\n",
       "      <th>Taxonomy_List</th>\n",
       "    </tr>\n",
       "    <tr>\n",
       "      <th>Current_ID</th>\n",
       "      <th></th>\n",
       "      <th></th>\n",
       "    </tr>\n",
       "  </thead>\n",
       "  <tbody>\n",
       "    <tr>\n",
       "      <th>3533</th>\n",
       "      <td>6183</td>\n",
       "      <td>[7998, 7997, 7996, 7995, 7994, 7993, 7991, 798...</td>\n",
       "    </tr>\n",
       "    <tr>\n",
       "      <th>3711</th>\n",
       "      <td>6183</td>\n",
       "      <td>[7998, 7997, 7996, 7995, 7994, 7993, 7991, 798...</td>\n",
       "    </tr>\n",
       "    <tr>\n",
       "      <th>3538</th>\n",
       "      <td>6184</td>\n",
       "      <td>[7998, 7997, 7996, 7995, 7994, 7993, 7991, 798...</td>\n",
       "    </tr>\n",
       "    <tr>\n",
       "      <th>6183</th>\n",
       "      <td>6184</td>\n",
       "      <td>[7998, 7997, 7996, 7995, 7994, 7993, 7991, 798...</td>\n",
       "    </tr>\n",
       "    <tr>\n",
       "      <th>3539</th>\n",
       "      <td>6185</td>\n",
       "      <td>[7998, 7997, 7996, 7995, 7994, 7993, 7991, 798...</td>\n",
       "    </tr>\n",
       "    <tr>\n",
       "      <th>...</th>\n",
       "      <td>...</td>\n",
       "      <td>...</td>\n",
       "    </tr>\n",
       "    <tr>\n",
       "      <th>4365</th>\n",
       "      <td>5050</td>\n",
       "      <td>[7998, 5050]</td>\n",
       "    </tr>\n",
       "    <tr>\n",
       "      <th>4320</th>\n",
       "      <td>7997</td>\n",
       "      <td>[7998, 7997]</td>\n",
       "    </tr>\n",
       "    <tr>\n",
       "      <th>7996</th>\n",
       "      <td>7997</td>\n",
       "      <td>[7998, 7997]</td>\n",
       "    </tr>\n",
       "    <tr>\n",
       "      <th>7997</th>\n",
       "      <td>7998</td>\n",
       "      <td>[7998]</td>\n",
       "    </tr>\n",
       "    <tr>\n",
       "      <th>5050</th>\n",
       "      <td>7998</td>\n",
       "      <td>[7998]</td>\n",
       "    </tr>\n",
       "  </tbody>\n",
       "</table>\n",
       "<p>7998 rows × 2 columns</p>\n",
       "</div>"
      ]
     },
     "execution_count": 13,
     "metadata": {},
     "output_type": "execute_result"
    }
   ],
   "execution_count": 13
  },
  {
   "metadata": {
    "ExecuteTime": {
     "end_time": "2024-10-25T12:02:31.279337Z",
     "start_time": "2024-10-25T12:02:30.623409Z"
    }
   },
   "cell_type": "code",
   "source": [
    "# Step 4: Assign Topics to a new tag\n",
    "\n",
    "# Given a new tag, we'll embed it using the same embedding model, \n",
    "# find its closest embedding from the topic clusters, and assign it to the appropriate topic hierarchy.\n",
    "\n",
    "# Assign a tag to a topic\n",
    "top_topics_for_tag = topic_model.find_topics(\"my art\", top_n=5)\n",
    "top_topics_for_tag"
   ],
   "id": "bb24132ac4d738f9",
   "outputs": [
    {
     "data": {
      "text/plain": [
       "([329, 179, 3131, 1070, 2095],\n",
       " [0.84817666, 0.75887907, 0.68016624, 0.675676, 0.63073105])"
      ]
     },
     "execution_count": 14,
     "metadata": {},
     "output_type": "execute_result"
    }
   ],
   "execution_count": 14
  },
  {
   "metadata": {
    "ExecuteTime": {
     "end_time": "2024-10-25T12:02:31.368229Z",
     "start_time": "2024-10-25T12:02:31.360906Z"
    }
   },
   "cell_type": "code",
   "source": [
    "# Better visualization of the topics\n",
    "top_topics_for_tag = pd.DataFrame(\n",
    "    list(zip(*top_topics_for_tag)),\n",
    "    columns=[\"topic_id\", \"score\"]\n",
    ")\n",
    "\n",
    "top_topics_for_tag['topic_name'] = top_topics_for_tag['topic_id'].apply(\n",
    "    lambda x: '|'.join([i[0] for i in topic_model.get_topic(x)]))\n",
    "top_topics_for_tag"
   ],
   "id": "15102ca8914aa1ca",
   "outputs": [
    {
     "data": {
      "text/plain": [
       "   topic_id     score                                         topic_name\n",
       "0       329  0.848177  artblock|myart|blocked|uwu|dumps|unfunniness|r...\n",
       "1       179  0.758879  installation|recreation|art|bumfuzzled|imperce...\n",
       "2      3131  0.680166  paiis|heretics|eru|contacts|portal|cake|artwor...\n",
       "3      1070  0.675676  awesome|excellent|amazing|bathroom|dope|artwor...\n",
       "4      2095  0.630731  others|peoples|ppls|artwork|peeps|other|folks|..."
      ],
      "text/html": [
       "<div>\n",
       "<style scoped>\n",
       "    .dataframe tbody tr th:only-of-type {\n",
       "        vertical-align: middle;\n",
       "    }\n",
       "\n",
       "    .dataframe tbody tr th {\n",
       "        vertical-align: top;\n",
       "    }\n",
       "\n",
       "    .dataframe thead th {\n",
       "        text-align: right;\n",
       "    }\n",
       "</style>\n",
       "<table border=\"1\" class=\"dataframe\">\n",
       "  <thead>\n",
       "    <tr style=\"text-align: right;\">\n",
       "      <th></th>\n",
       "      <th>topic_id</th>\n",
       "      <th>score</th>\n",
       "      <th>topic_name</th>\n",
       "    </tr>\n",
       "  </thead>\n",
       "  <tbody>\n",
       "    <tr>\n",
       "      <th>0</th>\n",
       "      <td>329</td>\n",
       "      <td>0.848177</td>\n",
       "      <td>artblock|myart|blocked|uwu|dumps|unfunniness|r...</td>\n",
       "    </tr>\n",
       "    <tr>\n",
       "      <th>1</th>\n",
       "      <td>179</td>\n",
       "      <td>0.758879</td>\n",
       "      <td>installation|recreation|art|bumfuzzled|imperce...</td>\n",
       "    </tr>\n",
       "    <tr>\n",
       "      <th>2</th>\n",
       "      <td>3131</td>\n",
       "      <td>0.680166</td>\n",
       "      <td>paiis|heretics|eru|contacts|portal|cake|artwor...</td>\n",
       "    </tr>\n",
       "    <tr>\n",
       "      <th>3</th>\n",
       "      <td>1070</td>\n",
       "      <td>0.675676</td>\n",
       "      <td>awesome|excellent|amazing|bathroom|dope|artwor...</td>\n",
       "    </tr>\n",
       "    <tr>\n",
       "      <th>4</th>\n",
       "      <td>2095</td>\n",
       "      <td>0.630731</td>\n",
       "      <td>others|peoples|ppls|artwork|peeps|other|folks|...</td>\n",
       "    </tr>\n",
       "  </tbody>\n",
       "</table>\n",
       "</div>"
      ]
     },
     "execution_count": 15,
     "metadata": {},
     "output_type": "execute_result"
    }
   ],
   "execution_count": 15
  },
  {
   "metadata": {
    "ExecuteTime": {
     "end_time": "2024-10-25T12:02:31.423989Z",
     "start_time": "2024-10-25T12:02:31.420141Z"
    }
   },
   "cell_type": "code",
   "source": [
    "top_topic_id = top_topics_for_tag.topic_id[0]\n",
    "top_topic_id"
   ],
   "id": "2d1adb96a5b23a76",
   "outputs": [
    {
     "data": {
      "text/plain": [
       "329"
      ]
     },
     "execution_count": 16,
     "metadata": {},
     "output_type": "execute_result"
    }
   ],
   "execution_count": 16
  },
  {
   "metadata": {
    "ExecuteTime": {
     "end_time": "2024-10-25T12:02:31.473988Z",
     "start_time": "2024-10-25T12:02:31.471530Z"
    }
   },
   "cell_type": "code",
   "source": "topic_model.get_topic(top_topic_id)",
   "id": "757679582c75cc50",
   "outputs": [
    {
     "data": {
      "text/plain": [
       "[('artblock', 0.01529035317909584),\n",
       " ('myart', 0.011396070880145973),\n",
       " ('blocked', 0.010860996488531482),\n",
       " ('uwu', 0.010400846599092371),\n",
       " ('dumps', 0.008893992573017068),\n",
       " ('unfunniness', 0.008893992573017068),\n",
       " ('rebooping', 0.008893992573017068),\n",
       " ('footages', 0.008893992573017068),\n",
       " ('ordeal', 0.008893992573017068),\n",
       " ('envious', 0.008893992573017068)]"
      ]
     },
     "execution_count": 17,
     "metadata": {},
     "output_type": "execute_result"
    }
   ],
   "execution_count": 17
  },
  {
   "metadata": {
    "ExecuteTime": {
     "end_time": "2024-10-25T12:02:31.500Z",
     "start_time": "2024-10-25T12:02:31.496984Z"
    }
   },
   "cell_type": "code",
   "source": "longest_paths_df.loc[top_topic_id]",
   "id": "df250fd4e9695a74",
   "outputs": [
    {
     "data": {
      "text/plain": [
       "Parent_ID                                                     4674\n",
       "Taxonomy_List    [7998, 7997, 7996, 7995, 7994, 7993, 7991, 798...\n",
       "Name: 329, dtype: object"
      ]
     },
     "execution_count": 18,
     "metadata": {},
     "output_type": "execute_result"
    }
   ],
   "execution_count": 18
  },
  {
   "metadata": {
    "ExecuteTime": {
     "end_time": "2024-10-25T12:02:31.536504Z",
     "start_time": "2024-10-25T12:02:31.531832Z"
    }
   },
   "cell_type": "code",
   "source": "hierarchical_topics[hierarchical_topics['Parent_ID'] == longest_paths_df.loc[top_topic_id].Parent_ID]",
   "id": "1d2d995890988bc",
   "outputs": [
    {
     "data": {
      "text/plain": [
       "     Parent_ID                           Parent_Name       Topics  \\\n",
       "674       4674  myart_artblock_blocked_uwu_rebooping  [329, 3965]   \n",
       "\n",
       "     Child_Left_ID                   Child_Left_Name  Child_Right_ID  \\\n",
       "674            329  artblock_myart_blocked_uwu_dumps            3965   \n",
       "\n",
       "                              Child_Right_Name  Distance  \n",
       "674  myart_notmyart_mydbart_myartwork_myartvld  0.915537  "
      ],
      "text/html": [
       "<div>\n",
       "<style scoped>\n",
       "    .dataframe tbody tr th:only-of-type {\n",
       "        vertical-align: middle;\n",
       "    }\n",
       "\n",
       "    .dataframe tbody tr th {\n",
       "        vertical-align: top;\n",
       "    }\n",
       "\n",
       "    .dataframe thead th {\n",
       "        text-align: right;\n",
       "    }\n",
       "</style>\n",
       "<table border=\"1\" class=\"dataframe\">\n",
       "  <thead>\n",
       "    <tr style=\"text-align: right;\">\n",
       "      <th></th>\n",
       "      <th>Parent_ID</th>\n",
       "      <th>Parent_Name</th>\n",
       "      <th>Topics</th>\n",
       "      <th>Child_Left_ID</th>\n",
       "      <th>Child_Left_Name</th>\n",
       "      <th>Child_Right_ID</th>\n",
       "      <th>Child_Right_Name</th>\n",
       "      <th>Distance</th>\n",
       "    </tr>\n",
       "  </thead>\n",
       "  <tbody>\n",
       "    <tr>\n",
       "      <th>674</th>\n",
       "      <td>4674</td>\n",
       "      <td>myart_artblock_blocked_uwu_rebooping</td>\n",
       "      <td>[329, 3965]</td>\n",
       "      <td>329</td>\n",
       "      <td>artblock_myart_blocked_uwu_dumps</td>\n",
       "      <td>3965</td>\n",
       "      <td>myart_notmyart_mydbart_myartwork_myartvld</td>\n",
       "      <td>0.915537</td>\n",
       "    </tr>\n",
       "  </tbody>\n",
       "</table>\n",
       "</div>"
      ]
     },
     "execution_count": 19,
     "metadata": {},
     "output_type": "execute_result"
    }
   ],
   "execution_count": 19
  },
  {
   "metadata": {
    "ExecuteTime": {
     "end_time": "2024-10-25T12:02:31.664311Z",
     "start_time": "2024-10-25T12:02:31.650519Z"
    }
   },
   "cell_type": "code",
   "source": "topic_model.get_topic_info(top_topic_id).T",
   "id": "5e1451d0d95c9d59",
   "outputs": [
    {
     "data": {
      "text/plain": [
       "                                                                     0\n",
       "Topic                                                              329\n",
       "Count                                                               77\n",
       "Name                                    329_artblock_myart_blocked_uwu\n",
       "Representation       [artblock, myart, blocked, uwu, dumps, unfunni...\n",
       "Representative_Docs  [sorry for the spam dear people but it's the o..."
      ],
      "text/html": [
       "<div>\n",
       "<style scoped>\n",
       "    .dataframe tbody tr th:only-of-type {\n",
       "        vertical-align: middle;\n",
       "    }\n",
       "\n",
       "    .dataframe tbody tr th {\n",
       "        vertical-align: top;\n",
       "    }\n",
       "\n",
       "    .dataframe thead th {\n",
       "        text-align: right;\n",
       "    }\n",
       "</style>\n",
       "<table border=\"1\" class=\"dataframe\">\n",
       "  <thead>\n",
       "    <tr style=\"text-align: right;\">\n",
       "      <th></th>\n",
       "      <th>0</th>\n",
       "    </tr>\n",
       "  </thead>\n",
       "  <tbody>\n",
       "    <tr>\n",
       "      <th>Topic</th>\n",
       "      <td>329</td>\n",
       "    </tr>\n",
       "    <tr>\n",
       "      <th>Count</th>\n",
       "      <td>77</td>\n",
       "    </tr>\n",
       "    <tr>\n",
       "      <th>Name</th>\n",
       "      <td>329_artblock_myart_blocked_uwu</td>\n",
       "    </tr>\n",
       "    <tr>\n",
       "      <th>Representation</th>\n",
       "      <td>[artblock, myart, blocked, uwu, dumps, unfunni...</td>\n",
       "    </tr>\n",
       "    <tr>\n",
       "      <th>Representative_Docs</th>\n",
       "      <td>[sorry for the spam dear people but it's the o...</td>\n",
       "    </tr>\n",
       "  </tbody>\n",
       "</table>\n",
       "</div>"
      ]
     },
     "execution_count": 21,
     "metadata": {},
     "output_type": "execute_result"
    }
   ],
   "execution_count": 21
  },
  {
   "metadata": {
    "ExecuteTime": {
     "end_time": "2024-10-25T12:06:18.441849Z",
     "start_time": "2024-10-25T12:06:18.438531Z"
    }
   },
   "cell_type": "code",
   "source": "topic_model.get_topic(top_topic_id)",
   "id": "2a1e35fb6eff9ee2",
   "outputs": [
    {
     "data": {
      "text/plain": [
       "[('artblock', 0.01529035317909584),\n",
       " ('myart', 0.011396070880145973),\n",
       " ('blocked', 0.010860996488531482),\n",
       " ('uwu', 0.010400846599092371),\n",
       " ('dumps', 0.008893992573017068),\n",
       " ('unfunniness', 0.008893992573017068),\n",
       " ('rebooping', 0.008893992573017068),\n",
       " ('footages', 0.008893992573017068),\n",
       " ('ordeal', 0.008893992573017068),\n",
       " ('envious', 0.008893992573017068)]"
      ]
     },
     "execution_count": 24,
     "metadata": {},
     "output_type": "execute_result"
    }
   ],
   "execution_count": 24
  },
  {
   "metadata": {},
   "cell_type": "markdown",
   "source": [
    "As a recap of the steps we took in this notebook:\n",
    "1. We preprocessed the data by extracting tags and counting their occurrences.\n",
    "2. We applied BERTopic to cluster the tags into topics.\n",
    "3. We generated a hierarchical structure for the topics.\n",
    "4. We assigned a new tag to a topic in the hierarchy.\n",
    "\n",
    "This needs quite a lot of work to get a good understanding of the topics and their hierarchy.\n",
    "A human in the loop is needed to validate the topics and their hierarchy, and adjust them as needed.\n",
    "\n"
   ],
   "id": "e61f75bbfa68b6d0"
  }
 ],
 "metadata": {
  "kernelspec": {
   "display_name": "Python 3 (ipykernel)",
   "language": "python",
   "name": "python3"
  },
  "language_info": {
   "codemirror_mode": {
    "name": "ipython",
    "version": 3
   },
   "file_extension": ".py",
   "mimetype": "text/x-python",
   "name": "python",
   "nbconvert_exporter": "python",
   "pygments_lexer": "ipython3",
   "version": "3.11.9"
  }
 },
 "nbformat": 4,
 "nbformat_minor": 5
}
