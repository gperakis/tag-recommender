{
 "cells": [
  {
   "metadata": {},
   "cell_type": "markdown",
   "source": [
    "# Recommender Service Performance Metrics\n",
    "\n",
    "The requirements for this exercise are to have at least\n",
    "- 50 requests per second.\n",
    "\n",
    "The latency requirement is to have:\n",
    "- P75 < 200ms\n",
    "- P99 < 700ms\n",
    "\n",
    "This service includes three recommendation techniques:\n",
    "- A base co-occurrence model\n",
    "- A Tag2Vec model and\n",
    "- An association rules model\n",
    "\n",
    "These three models are combined using the RRF (reciprocal rank fusion) method to rerank the final results."
   ],
   "id": "ca1e5ca81eb6d109"
  },
  {
   "metadata": {},
   "cell_type": "code",
   "outputs": [],
   "execution_count": null,
   "source": [
    "# This notebook runs the performance metrics for the recommender service\n",
    "# in sequential order. For a concurrent test, please refer to the\n",
    "# README.md file and the CLI. "
   ],
   "id": "ee3595ba5e535caf"
  },
  {
   "metadata": {
    "ExecuteTime": {
     "end_time": "2024-10-20T22:20:34.819722Z",
     "start_time": "2024-10-20T22:20:34.266716Z"
    }
   },
   "cell_type": "code",
   "source": [
    "import requests\n",
    "import pandas as pd\n",
    "from time import time\n",
    "from tqdm import tqdm"
   ],
   "id": "2e99a0cb-d783-4662-92c6-c1ec823b15d3",
   "outputs": [],
   "execution_count": 1
  },
  {
   "cell_type": "code",
   "id": "3123e215-4677-4116-867e-427d2f57b4fe",
   "metadata": {
    "ExecuteTime": {
     "end_time": "2024-10-20T22:20:34.825559Z",
     "start_time": "2024-10-20T22:20:34.823355Z"
    }
   },
   "source": [
    "# Function to get recommendations from the API given a list of tags\n",
    "def get_recommendations(tags, num_tags):\n",
    "    url = \"http://0.0.0.0:8000/recommend\"\n",
    "\n",
    "    headers = {\"accept\": \"application/json\", \"Content-Type\": \"application/json\"}\n",
    "    payload = {\"tags\": tags, \"num_tags\": num_tags}\n",
    "\n",
    "    response = requests.post(url, json=payload, headers=headers)\n",
    "\n",
    "    if response.status_code == 200:\n",
    "        return response.json()\n",
    "    else:\n",
    "        print(f\"Failed to get recommendations: {response.status_code}\")\n",
    "        return None"
   ],
   "outputs": [],
   "execution_count": 2
  },
  {
   "cell_type": "code",
   "id": "ebd5d363-5964-40d0-a381-9049a01aeaac",
   "metadata": {
    "ExecuteTime": {
     "end_time": "2024-10-20T22:20:35.084354Z",
     "start_time": "2024-10-20T22:20:34.929330Z"
    }
   },
   "source": [
    "# Load test data from parquet file to test the API\n",
    "df = pd.read_parquet(\"../data/processed/test.parquet\", columns=[\"tags\"])"
   ],
   "outputs": [],
   "execution_count": 3
  },
  {
   "cell_type": "code",
   "id": "b5341f45-27fc-44e8-8c87-9e8d95775d6c",
   "metadata": {
    "ExecuteTime": {
     "end_time": "2024-10-20T22:21:11.731468Z",
     "start_time": "2024-10-20T22:20:35.091388Z"
    }
   },
   "source": [
    "# Test the API with different topn values and measure the time it takes to get the recommendations\n",
    "results = list()\n",
    "\n",
    "for topn in range(5, 31, 5):\n",
    "    print(topn)\n",
    "\n",
    "    for arr in tqdm(df[\"tags\"].sample(2500)):\n",
    "        tags = \",\".join(arr)\n",
    "        s = time()\n",
    "        res = get_recommendations(tags, topn)\n",
    "        e = time()\n",
    "        # Convert time to milliseconds\n",
    "        elapsed_time_ms = (e - s) * 1000\n",
    "        results.append(\n",
    "            {\n",
    "                \"tags\": arr,\n",
    "                \"len_tags\": len(arr),\n",
    "                \"res\": res,\n",
    "                \"time_ms\": elapsed_time_ms,\n",
    "                \"topn\": topn,\n",
    "            }\n",
    "        )\n",
    "\n",
    "all_results = pd.DataFrame(results)\n",
    "all_results\n",
    "\n",
    "# The tqdm shows the number of requests per second.\n",
    "# Given that the expected traffic is 50 hz, the service seems\n",
    "# to accommodate 9x to 10x."
   ],
   "outputs": [
    {
     "name": "stdout",
     "output_type": "stream",
     "text": [
      "5\n"
     ]
    },
    {
     "name": "stderr",
     "output_type": "stream",
     "text": [
      "100%|██████████| 2500/2500 [00:05<00:00, 448.36it/s]\n"
     ]
    },
    {
     "name": "stdout",
     "output_type": "stream",
     "text": [
      "10\n"
     ]
    },
    {
     "name": "stderr",
     "output_type": "stream",
     "text": [
      "100%|██████████| 2500/2500 [00:06<00:00, 388.89it/s]\n"
     ]
    },
    {
     "name": "stdout",
     "output_type": "stream",
     "text": [
      "15\n"
     ]
    },
    {
     "name": "stderr",
     "output_type": "stream",
     "text": [
      "100%|██████████| 2500/2500 [00:06<00:00, 382.14it/s]\n"
     ]
    },
    {
     "name": "stdout",
     "output_type": "stream",
     "text": [
      "20\n"
     ]
    },
    {
     "name": "stderr",
     "output_type": "stream",
     "text": [
      "100%|██████████| 2500/2500 [00:05<00:00, 443.52it/s]\n"
     ]
    },
    {
     "name": "stdout",
     "output_type": "stream",
     "text": [
      "25\n"
     ]
    },
    {
     "name": "stderr",
     "output_type": "stream",
     "text": [
      "100%|██████████| 2500/2500 [00:06<00:00, 409.95it/s]\n"
     ]
    },
    {
     "name": "stdout",
     "output_type": "stream",
     "text": [
      "30\n"
     ]
    },
    {
     "name": "stderr",
     "output_type": "stream",
     "text": [
      "100%|██████████| 2500/2500 [00:06<00:00, 398.37it/s]\n"
     ]
    },
    {
     "data": {
      "text/plain": [
       "                                                    tags  len_tags  \\\n",
       "0      [aldbdldhlfhfl_i_thot_that_was_his_arm_in_the_...         1   \n",
       "1        [cashforcars, gowanbrae, cashforcars_gowanbrae]         3   \n",
       "2      [never_in_my_whole_time_working_here_has_a_cus...         3   \n",
       "3                                               [ateezy]         1   \n",
       "4                          [wednesday, wenclair, fanart]         3   \n",
       "...                                                  ...       ...   \n",
       "14995  [probably_spreads_links_trough_d_ms_or_comment...         6   \n",
       "14996  [love, lovers, romance, romantic, couple, goal...        11   \n",
       "14997                                     [豊永阿紀, hk_t48]         2   \n",
       "14998                                        [instagram]         1   \n",
       "14999                                               [cr]         1   \n",
       "\n",
       "                                                     res    time_ms  topn  \n",
       "0      {'input_tags': 'aldbdldhlfhfl_i_thot_that_was_...  12.484789     5  \n",
       "1      {'input_tags': 'cashforcars,gowanbrae,cashforc...  11.636972     5  \n",
       "2      {'input_tags': 'never_in_my_whole_time_working...   9.159327     5  \n",
       "3      {'input_tags': 'ateezy', 'tags': [{'tag': 'z_x...  10.786057     5  \n",
       "4      {'input_tags': 'wednesday,wenclair,fanart', 't...   3.843069     5  \n",
       "...                                                  ...        ...   ...  \n",
       "14995  {'input_tags': 'probably_spreads_links_trough_...   2.841711    30  \n",
       "14996  {'input_tags': 'love,lovers,romance,romantic,c...   2.564907    30  \n",
       "14997  {'input_tags': '豊永阿紀,hk_t48', 'tags': [{'tag':...   3.331661    30  \n",
       "14998  {'input_tags': 'instagram', 'tags': [{'tag': '...   3.175974    30  \n",
       "14999  {'input_tags': 'cr', 'tags': [{'tag': 'chroma_...   2.788067    30  \n",
       "\n",
       "[15000 rows x 5 columns]"
      ],
      "text/html": [
       "<div>\n",
       "<style scoped>\n",
       "    .dataframe tbody tr th:only-of-type {\n",
       "        vertical-align: middle;\n",
       "    }\n",
       "\n",
       "    .dataframe tbody tr th {\n",
       "        vertical-align: top;\n",
       "    }\n",
       "\n",
       "    .dataframe thead th {\n",
       "        text-align: right;\n",
       "    }\n",
       "</style>\n",
       "<table border=\"1\" class=\"dataframe\">\n",
       "  <thead>\n",
       "    <tr style=\"text-align: right;\">\n",
       "      <th></th>\n",
       "      <th>tags</th>\n",
       "      <th>len_tags</th>\n",
       "      <th>res</th>\n",
       "      <th>time_ms</th>\n",
       "      <th>topn</th>\n",
       "    </tr>\n",
       "  </thead>\n",
       "  <tbody>\n",
       "    <tr>\n",
       "      <th>0</th>\n",
       "      <td>[aldbdldhlfhfl_i_thot_that_was_his_arm_in_the_...</td>\n",
       "      <td>1</td>\n",
       "      <td>{'input_tags': 'aldbdldhlfhfl_i_thot_that_was_...</td>\n",
       "      <td>12.484789</td>\n",
       "      <td>5</td>\n",
       "    </tr>\n",
       "    <tr>\n",
       "      <th>1</th>\n",
       "      <td>[cashforcars, gowanbrae, cashforcars_gowanbrae]</td>\n",
       "      <td>3</td>\n",
       "      <td>{'input_tags': 'cashforcars,gowanbrae,cashforc...</td>\n",
       "      <td>11.636972</td>\n",
       "      <td>5</td>\n",
       "    </tr>\n",
       "    <tr>\n",
       "      <th>2</th>\n",
       "      <td>[never_in_my_whole_time_working_here_has_a_cus...</td>\n",
       "      <td>3</td>\n",
       "      <td>{'input_tags': 'never_in_my_whole_time_working...</td>\n",
       "      <td>9.159327</td>\n",
       "      <td>5</td>\n",
       "    </tr>\n",
       "    <tr>\n",
       "      <th>3</th>\n",
       "      <td>[ateezy]</td>\n",
       "      <td>1</td>\n",
       "      <td>{'input_tags': 'ateezy', 'tags': [{'tag': 'z_x...</td>\n",
       "      <td>10.786057</td>\n",
       "      <td>5</td>\n",
       "    </tr>\n",
       "    <tr>\n",
       "      <th>4</th>\n",
       "      <td>[wednesday, wenclair, fanart]</td>\n",
       "      <td>3</td>\n",
       "      <td>{'input_tags': 'wednesday,wenclair,fanart', 't...</td>\n",
       "      <td>3.843069</td>\n",
       "      <td>5</td>\n",
       "    </tr>\n",
       "    <tr>\n",
       "      <th>...</th>\n",
       "      <td>...</td>\n",
       "      <td>...</td>\n",
       "      <td>...</td>\n",
       "      <td>...</td>\n",
       "      <td>...</td>\n",
       "    </tr>\n",
       "    <tr>\n",
       "      <th>14995</th>\n",
       "      <td>[probably_spreads_links_trough_d_ms_or_comment...</td>\n",
       "      <td>6</td>\n",
       "      <td>{'input_tags': 'probably_spreads_links_trough_...</td>\n",
       "      <td>2.841711</td>\n",
       "      <td>30</td>\n",
       "    </tr>\n",
       "    <tr>\n",
       "      <th>14996</th>\n",
       "      <td>[love, lovers, romance, romantic, couple, goal...</td>\n",
       "      <td>11</td>\n",
       "      <td>{'input_tags': 'love,lovers,romance,romantic,c...</td>\n",
       "      <td>2.564907</td>\n",
       "      <td>30</td>\n",
       "    </tr>\n",
       "    <tr>\n",
       "      <th>14997</th>\n",
       "      <td>[豊永阿紀, hk_t48]</td>\n",
       "      <td>2</td>\n",
       "      <td>{'input_tags': '豊永阿紀,hk_t48', 'tags': [{'tag':...</td>\n",
       "      <td>3.331661</td>\n",
       "      <td>30</td>\n",
       "    </tr>\n",
       "    <tr>\n",
       "      <th>14998</th>\n",
       "      <td>[instagram]</td>\n",
       "      <td>1</td>\n",
       "      <td>{'input_tags': 'instagram', 'tags': [{'tag': '...</td>\n",
       "      <td>3.175974</td>\n",
       "      <td>30</td>\n",
       "    </tr>\n",
       "    <tr>\n",
       "      <th>14999</th>\n",
       "      <td>[cr]</td>\n",
       "      <td>1</td>\n",
       "      <td>{'input_tags': 'cr', 'tags': [{'tag': 'chroma_...</td>\n",
       "      <td>2.788067</td>\n",
       "      <td>30</td>\n",
       "    </tr>\n",
       "  </tbody>\n",
       "</table>\n",
       "<p>15000 rows × 5 columns</p>\n",
       "</div>"
      ]
     },
     "execution_count": 4,
     "metadata": {},
     "output_type": "execute_result"
    }
   ],
   "execution_count": 4
  },
  {
   "cell_type": "code",
   "id": "56096338-e91b-4655-958f-da98e2640166",
   "metadata": {
    "ExecuteTime": {
     "end_time": "2024-10-20T22:21:11.773555Z",
     "start_time": "2024-10-20T22:21:11.766432Z"
    }
   },
   "source": [
    "# Show statistics for number of tags, for time in milliseconds, and the topn\n",
    "all_results.describe(percentiles=[0.5, 0.75, 0.9, 0.95, 0.99])"
   ],
   "outputs": [
    {
     "data": {
      "text/plain": [
       "           len_tags       time_ms         topn\n",
       "count  15000.000000  15000.000000  15000.00000\n",
       "mean       3.144400      2.417200     17.50000\n",
       "std        3.635294      1.069727      8.53941\n",
       "min        0.000000      1.374245      5.00000\n",
       "50%        2.000000      2.177000     17.50000\n",
       "75%        4.000000      2.641916     25.00000\n",
       "90%        7.000000      3.255224     30.00000\n",
       "95%       10.000000      3.708386     30.00000\n",
       "99%       20.000000      5.512965     30.00000\n",
       "max       30.000000     46.345949     30.00000"
      ],
      "text/html": [
       "<div>\n",
       "<style scoped>\n",
       "    .dataframe tbody tr th:only-of-type {\n",
       "        vertical-align: middle;\n",
       "    }\n",
       "\n",
       "    .dataframe tbody tr th {\n",
       "        vertical-align: top;\n",
       "    }\n",
       "\n",
       "    .dataframe thead th {\n",
       "        text-align: right;\n",
       "    }\n",
       "</style>\n",
       "<table border=\"1\" class=\"dataframe\">\n",
       "  <thead>\n",
       "    <tr style=\"text-align: right;\">\n",
       "      <th></th>\n",
       "      <th>len_tags</th>\n",
       "      <th>time_ms</th>\n",
       "      <th>topn</th>\n",
       "    </tr>\n",
       "  </thead>\n",
       "  <tbody>\n",
       "    <tr>\n",
       "      <th>count</th>\n",
       "      <td>15000.000000</td>\n",
       "      <td>15000.000000</td>\n",
       "      <td>15000.00000</td>\n",
       "    </tr>\n",
       "    <tr>\n",
       "      <th>mean</th>\n",
       "      <td>3.144400</td>\n",
       "      <td>2.417200</td>\n",
       "      <td>17.50000</td>\n",
       "    </tr>\n",
       "    <tr>\n",
       "      <th>std</th>\n",
       "      <td>3.635294</td>\n",
       "      <td>1.069727</td>\n",
       "      <td>8.53941</td>\n",
       "    </tr>\n",
       "    <tr>\n",
       "      <th>min</th>\n",
       "      <td>0.000000</td>\n",
       "      <td>1.374245</td>\n",
       "      <td>5.00000</td>\n",
       "    </tr>\n",
       "    <tr>\n",
       "      <th>50%</th>\n",
       "      <td>2.000000</td>\n",
       "      <td>2.177000</td>\n",
       "      <td>17.50000</td>\n",
       "    </tr>\n",
       "    <tr>\n",
       "      <th>75%</th>\n",
       "      <td>4.000000</td>\n",
       "      <td>2.641916</td>\n",
       "      <td>25.00000</td>\n",
       "    </tr>\n",
       "    <tr>\n",
       "      <th>90%</th>\n",
       "      <td>7.000000</td>\n",
       "      <td>3.255224</td>\n",
       "      <td>30.00000</td>\n",
       "    </tr>\n",
       "    <tr>\n",
       "      <th>95%</th>\n",
       "      <td>10.000000</td>\n",
       "      <td>3.708386</td>\n",
       "      <td>30.00000</td>\n",
       "    </tr>\n",
       "    <tr>\n",
       "      <th>99%</th>\n",
       "      <td>20.000000</td>\n",
       "      <td>5.512965</td>\n",
       "      <td>30.00000</td>\n",
       "    </tr>\n",
       "    <tr>\n",
       "      <th>max</th>\n",
       "      <td>30.000000</td>\n",
       "      <td>46.345949</td>\n",
       "      <td>30.00000</td>\n",
       "    </tr>\n",
       "  </tbody>\n",
       "</table>\n",
       "</div>"
      ]
     },
     "execution_count": 5,
     "metadata": {},
     "output_type": "execute_result"
    }
   ],
   "execution_count": 5
  },
  {
   "cell_type": "code",
   "id": "07a92e4e-e907-4d0f-a2ae-732300c94a77",
   "metadata": {
    "ExecuteTime": {
     "end_time": "2024-10-20T22:21:11.808645Z",
     "start_time": "2024-10-20T22:21:11.798692Z"
    }
   },
   "source": [
    "all_results.groupby(\"topn\")[\"time_ms\"].describe(percentiles=[0.5, 0.75, 0.90, 0.99])"
   ],
   "outputs": [
    {
     "data": {
      "text/plain": [
       "       count      mean       std       min       50%       75%       90%  \\\n",
       "topn                                                                       \n",
       "5     2500.0  2.210259  0.893158  1.374245  2.032876  2.338946  2.801538   \n",
       "10    2500.0  2.550426  1.264800  1.417875  2.279162  2.865553  3.542662   \n",
       "15    2500.0  2.593504  0.881118  1.461983  2.379417  2.960026  3.560257   \n",
       "20    2500.0  2.238188  0.702700  1.413107  2.079487  2.417326  2.971315   \n",
       "25    2500.0  2.420189  0.934425  1.428843  2.203107  2.635479  3.238058   \n",
       "30    2500.0  2.490636  1.482657  1.509905  2.189040  2.619088  3.222942   \n",
       "\n",
       "           99%        max  \n",
       "topn                       \n",
       "5     4.835114  16.990900  \n",
       "10    5.956326  33.458233  \n",
       "15    5.431178  14.451981  \n",
       "20    4.305832  21.422148  \n",
       "25    5.425892  23.647070  \n",
       "30    7.694008  46.345949  "
      ],
      "text/html": [
       "<div>\n",
       "<style scoped>\n",
       "    .dataframe tbody tr th:only-of-type {\n",
       "        vertical-align: middle;\n",
       "    }\n",
       "\n",
       "    .dataframe tbody tr th {\n",
       "        vertical-align: top;\n",
       "    }\n",
       "\n",
       "    .dataframe thead th {\n",
       "        text-align: right;\n",
       "    }\n",
       "</style>\n",
       "<table border=\"1\" class=\"dataframe\">\n",
       "  <thead>\n",
       "    <tr style=\"text-align: right;\">\n",
       "      <th></th>\n",
       "      <th>count</th>\n",
       "      <th>mean</th>\n",
       "      <th>std</th>\n",
       "      <th>min</th>\n",
       "      <th>50%</th>\n",
       "      <th>75%</th>\n",
       "      <th>90%</th>\n",
       "      <th>99%</th>\n",
       "      <th>max</th>\n",
       "    </tr>\n",
       "    <tr>\n",
       "      <th>topn</th>\n",
       "      <th></th>\n",
       "      <th></th>\n",
       "      <th></th>\n",
       "      <th></th>\n",
       "      <th></th>\n",
       "      <th></th>\n",
       "      <th></th>\n",
       "      <th></th>\n",
       "      <th></th>\n",
       "    </tr>\n",
       "  </thead>\n",
       "  <tbody>\n",
       "    <tr>\n",
       "      <th>5</th>\n",
       "      <td>2500.0</td>\n",
       "      <td>2.210259</td>\n",
       "      <td>0.893158</td>\n",
       "      <td>1.374245</td>\n",
       "      <td>2.032876</td>\n",
       "      <td>2.338946</td>\n",
       "      <td>2.801538</td>\n",
       "      <td>4.835114</td>\n",
       "      <td>16.990900</td>\n",
       "    </tr>\n",
       "    <tr>\n",
       "      <th>10</th>\n",
       "      <td>2500.0</td>\n",
       "      <td>2.550426</td>\n",
       "      <td>1.264800</td>\n",
       "      <td>1.417875</td>\n",
       "      <td>2.279162</td>\n",
       "      <td>2.865553</td>\n",
       "      <td>3.542662</td>\n",
       "      <td>5.956326</td>\n",
       "      <td>33.458233</td>\n",
       "    </tr>\n",
       "    <tr>\n",
       "      <th>15</th>\n",
       "      <td>2500.0</td>\n",
       "      <td>2.593504</td>\n",
       "      <td>0.881118</td>\n",
       "      <td>1.461983</td>\n",
       "      <td>2.379417</td>\n",
       "      <td>2.960026</td>\n",
       "      <td>3.560257</td>\n",
       "      <td>5.431178</td>\n",
       "      <td>14.451981</td>\n",
       "    </tr>\n",
       "    <tr>\n",
       "      <th>20</th>\n",
       "      <td>2500.0</td>\n",
       "      <td>2.238188</td>\n",
       "      <td>0.702700</td>\n",
       "      <td>1.413107</td>\n",
       "      <td>2.079487</td>\n",
       "      <td>2.417326</td>\n",
       "      <td>2.971315</td>\n",
       "      <td>4.305832</td>\n",
       "      <td>21.422148</td>\n",
       "    </tr>\n",
       "    <tr>\n",
       "      <th>25</th>\n",
       "      <td>2500.0</td>\n",
       "      <td>2.420189</td>\n",
       "      <td>0.934425</td>\n",
       "      <td>1.428843</td>\n",
       "      <td>2.203107</td>\n",
       "      <td>2.635479</td>\n",
       "      <td>3.238058</td>\n",
       "      <td>5.425892</td>\n",
       "      <td>23.647070</td>\n",
       "    </tr>\n",
       "    <tr>\n",
       "      <th>30</th>\n",
       "      <td>2500.0</td>\n",
       "      <td>2.490636</td>\n",
       "      <td>1.482657</td>\n",
       "      <td>1.509905</td>\n",
       "      <td>2.189040</td>\n",
       "      <td>2.619088</td>\n",
       "      <td>3.222942</td>\n",
       "      <td>7.694008</td>\n",
       "      <td>46.345949</td>\n",
       "    </tr>\n",
       "  </tbody>\n",
       "</table>\n",
       "</div>"
      ]
     },
     "execution_count": 6,
     "metadata": {},
     "output_type": "execute_result"
    }
   ],
   "execution_count": 6
  },
  {
   "cell_type": "code",
   "id": "b51a80ae-7cf4-444c-af9b-95498e469cbe",
   "metadata": {
    "ExecuteTime": {
     "end_time": "2024-10-20T22:21:11.890694Z",
     "start_time": "2024-10-20T22:21:11.886661Z"
    }
   },
   "source": [
    "# Correlation between len_tags and time_ms\n",
    "# No significant correlation whatsoever\n",
    "correlation = all_results[[\"len_tags\", \"time_ms\"]].corr()\n",
    "correlation"
   ],
   "outputs": [
    {
     "data": {
      "text/plain": [
       "          len_tags   time_ms\n",
       "len_tags  1.000000  0.267734\n",
       "time_ms   0.267734  1.000000"
      ],
      "text/html": [
       "<div>\n",
       "<style scoped>\n",
       "    .dataframe tbody tr th:only-of-type {\n",
       "        vertical-align: middle;\n",
       "    }\n",
       "\n",
       "    .dataframe tbody tr th {\n",
       "        vertical-align: top;\n",
       "    }\n",
       "\n",
       "    .dataframe thead th {\n",
       "        text-align: right;\n",
       "    }\n",
       "</style>\n",
       "<table border=\"1\" class=\"dataframe\">\n",
       "  <thead>\n",
       "    <tr style=\"text-align: right;\">\n",
       "      <th></th>\n",
       "      <th>len_tags</th>\n",
       "      <th>time_ms</th>\n",
       "    </tr>\n",
       "  </thead>\n",
       "  <tbody>\n",
       "    <tr>\n",
       "      <th>len_tags</th>\n",
       "      <td>1.000000</td>\n",
       "      <td>0.267734</td>\n",
       "    </tr>\n",
       "    <tr>\n",
       "      <th>time_ms</th>\n",
       "      <td>0.267734</td>\n",
       "      <td>1.000000</td>\n",
       "    </tr>\n",
       "  </tbody>\n",
       "</table>\n",
       "</div>"
      ]
     },
     "execution_count": 7,
     "metadata": {},
     "output_type": "execute_result"
    }
   ],
   "execution_count": 7
  },
  {
   "cell_type": "code",
   "id": "705f82d1-1dfd-4e32-aa17-17100d0ef4f9",
   "metadata": {
    "ExecuteTime": {
     "end_time": "2024-10-20T22:21:11.951649Z",
     "start_time": "2024-10-20T22:21:11.947549Z"
    }
   },
   "source": [
    "# Correlation between topn and time_ms\n",
    "# Again, no correlation between the time in milliseconds and the number of requested results\n",
    "correlation = all_results[[\"topn\", \"time_ms\"]].corr()\n",
    "correlation"
   ],
   "outputs": [
    {
     "data": {
      "text/plain": [
       "             topn   time_ms\n",
       "topn     1.000000  0.029918\n",
       "time_ms  0.029918  1.000000"
      ],
      "text/html": [
       "<div>\n",
       "<style scoped>\n",
       "    .dataframe tbody tr th:only-of-type {\n",
       "        vertical-align: middle;\n",
       "    }\n",
       "\n",
       "    .dataframe tbody tr th {\n",
       "        vertical-align: top;\n",
       "    }\n",
       "\n",
       "    .dataframe thead th {\n",
       "        text-align: right;\n",
       "    }\n",
       "</style>\n",
       "<table border=\"1\" class=\"dataframe\">\n",
       "  <thead>\n",
       "    <tr style=\"text-align: right;\">\n",
       "      <th></th>\n",
       "      <th>topn</th>\n",
       "      <th>time_ms</th>\n",
       "    </tr>\n",
       "  </thead>\n",
       "  <tbody>\n",
       "    <tr>\n",
       "      <th>topn</th>\n",
       "      <td>1.000000</td>\n",
       "      <td>0.029918</td>\n",
       "    </tr>\n",
       "    <tr>\n",
       "      <th>time_ms</th>\n",
       "      <td>0.029918</td>\n",
       "      <td>1.000000</td>\n",
       "    </tr>\n",
       "  </tbody>\n",
       "</table>\n",
       "</div>"
      ]
     },
     "execution_count": 8,
     "metadata": {},
     "output_type": "execute_result"
    }
   ],
   "execution_count": 8
  },
  {
   "cell_type": "code",
   "id": "419ec99c-0157-449c-b2c4-75336f19cb2f",
   "metadata": {
    "ExecuteTime": {
     "end_time": "2024-10-20T22:21:12.502076Z",
     "start_time": "2024-10-20T22:21:12.041184Z"
    }
   },
   "source": [
    "all_results.time_ms.plot(kind=\"hist\", bins=range(200))"
   ],
   "outputs": [
    {
     "data": {
      "text/plain": [
       "<Axes: ylabel='Frequency'>"
      ]
     },
     "execution_count": 9,
     "metadata": {},
     "output_type": "execute_result"
    },
    {
     "data": {
      "text/plain": [
       "<Figure size 640x480 with 1 Axes>"
      ],
      "image/png": "[encoded data removed]"
     },
     "metadata": {},
     "output_type": "display_data"
    }
   ],
   "execution_count": 9
  },
  {
   "cell_type": "code",
   "id": "400f4c35-09ca-4382-9f6b-113e21032d90",
   "metadata": {
    "ExecuteTime": {
     "end_time": "2024-10-20T22:22:55.300849Z",
     "start_time": "2024-10-20T22:22:55.240048Z"
    }
   },
   "source": "all_results.time_ms.plot(kind=\"hist\", bins=range(10))",
   "outputs": [
    {
     "data": {
      "text/plain": [
       "<Axes: ylabel='Frequency'>"
      ]
     },
     "execution_count": 14,
     "metadata": {},
     "output_type": "execute_result"
    },
    {
     "data": {
      "text/plain": [
       "<Figure size 640x480 with 1 Axes>"
      ],
      "image/png": "[encoded data removed]"
     },
     "metadata": {},
     "output_type": "display_data"
    }
   ],
   "execution_count": 14
  },
  {
   "cell_type": "code",
   "id": "b5d5efee-26e1-42fc-981b-3af26a029379",
   "metadata": {
    "ExecuteTime": {
     "end_time": "2024-10-20T22:21:12.669Z",
     "start_time": "2024-10-20T22:21:12.665950Z"
    }
   },
   "source": [
    "# Grouping by topn to calculate average time\n",
    "average_time_by_topn = all_results.groupby(\"topn\")[\"time_ms\"].mean()\n",
    "average_time_by_topn"
   ],
   "outputs": [
    {
     "data": {
      "text/plain": [
       "topn\n",
       "5     2.210259\n",
       "10    2.550426\n",
       "15    2.593504\n",
       "20    2.238188\n",
       "25    2.420189\n",
       "30    2.490636\n",
       "Name: time_ms, dtype: float64"
      ]
     },
     "execution_count": 11,
     "metadata": {},
     "output_type": "execute_result"
    }
   ],
   "execution_count": 11
  },
  {
   "cell_type": "code",
   "id": "3da29744-cb9d-4877-8d48-016f17ea77d1",
   "metadata": {
    "ExecuteTime": {
     "end_time": "2024-10-20T22:21:12.757543Z",
     "start_time": "2024-10-20T22:21:12.699534Z"
    }
   },
   "source": [
    "average_time_by_topn.plot(kind=\"bar\", title=\"Average time (ms) per topn\")"
   ],
   "outputs": [
    {
     "data": {
      "text/plain": [
       "<Axes: title={'center': 'Average time (ms) per topn'}, xlabel='topn'>"
      ]
     },
     "execution_count": 12,
     "metadata": {},
     "output_type": "execute_result"
    },
    {
     "data": {
      "text/plain": [
       "<Figure size 640x480 with 1 Axes>"
      ],
      "image/png": "[encoded data removed]"
     },
     "metadata": {},
     "output_type": "display_data"
    }
   ],
   "execution_count": 12
  },
  {
   "cell_type": "code",
   "id": "46a1a7ce-a62b-4663-9919-0f5c69ba8c2b",
   "metadata": {
    "ExecuteTime": {
     "end_time": "2024-10-20T22:21:12.778648Z",
     "start_time": "2024-10-20T22:21:12.774332Z"
    }
   },
   "source": [
    "all_results[\"time_ms\"].describe(percentiles=[0.5, 0.75, 0.9, 0.95, 0.99])"
   ],
   "outputs": [
    {
     "data": {
      "text/plain": [
       "count    15000.000000\n",
       "mean         2.417200\n",
       "std          1.069727\n",
       "min          1.374245\n",
       "50%          2.177000\n",
       "75%          2.641916\n",
       "90%          3.255224\n",
       "95%          3.708386\n",
       "99%          5.512965\n",
       "max         46.345949\n",
       "Name: time_ms, dtype: float64"
      ]
     },
     "execution_count": 13,
     "metadata": {},
     "output_type": "execute_result"
    }
   ],
   "execution_count": 13
  }
 ],
 "metadata": {
  "kernelspec": {
   "display_name": "Python 3 (ipykernel)",
   "language": "python",
   "name": "python3"
  },
  "language_info": {
   "codemirror_mode": {
    "name": "ipython",
    "version": 3
   },
   "file_extension": ".py",
   "mimetype": "text/x-python",
   "name": "python",
   "nbconvert_exporter": "python",
   "pygments_lexer": "ipython3",
   "version": "3.11.9"
  }
 },
 "nbformat": 4,
 "nbformat_minor": 5
}
