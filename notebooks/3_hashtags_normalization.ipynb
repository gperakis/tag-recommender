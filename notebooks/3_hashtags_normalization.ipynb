{
 "cells": [
  {
   "cell_type": "code",
   "id": "236b0c50-ef01-4657-9509-66897609a1fb",
   "metadata": {
    "ExecuteTime": {
     "end_time": "2024-10-10T17:04:17.864476Z",
     "start_time": "2024-10-10T17:04:17.531604Z"
    }
   },
   "source": [
    "import pandas as pd\n",
    "from tqdm import tqdm\n",
    "\n",
    "from tag_recommender.utils.text import to_snake_case, to_snake_case_boosted\n",
    "\n",
    "tqdm.pandas()"
   ],
   "outputs": [],
   "execution_count": 1
  },
  {
   "cell_type": "code",
   "id": "199f2eef-e318-4336-9317-a9e6da155875",
   "metadata": {
    "ExecuteTime": {
     "end_time": "2024-10-10T17:04:20.644256Z",
     "start_time": "2024-10-10T17:04:18.855920Z"
    }
   },
   "source": [
    "# read the dataset\n",
    "df = pd.read_csv(\n",
    "    \"../data/full_dataset.csv\",\n",
    "    usecols=[\"tags\", \"root_tags\"],\n",
    ")\n",
    "\n",
    "# convert the string tags to tags lists\n",
    "df[\"root_tags\"] = df[\"root_tags\"].fillna(\"\").str.split(\",\")\n",
    "df[\"tags\"] = df[\"tags\"].fillna(\"\").str.split(\",\")"
   ],
   "outputs": [
    {
     "ename": "ArrowInvalid",
     "evalue": "Could not open Parquet input source '<Buffer>': Parquet magic bytes not found in footer. Either the file is corrupted or this is not a parquet file.",
     "output_type": "error",
     "traceback": [
      "\u001B[0;31m---------------------------------------------------------------------------\u001B[0m",
      "\u001B[0;31mArrowInvalid\u001B[0m                              Traceback (most recent call last)",
      "Cell \u001B[0;32mIn[2], line 2\u001B[0m\n\u001B[1;32m      1\u001B[0m \u001B[38;5;66;03m# read the dataset\u001B[39;00m\n\u001B[0;32m----> 2\u001B[0m df \u001B[38;5;241m=\u001B[39m \u001B[43mpd\u001B[49m\u001B[38;5;241;43m.\u001B[39;49m\u001B[43mread_parquet\u001B[49m\u001B[43m(\u001B[49m\n\u001B[1;32m      3\u001B[0m \u001B[43m    \u001B[49m\u001B[38;5;124;43m\"\u001B[39;49m\u001B[38;5;124;43m../data/full_dataset.csv\u001B[39;49m\u001B[38;5;124;43m\"\u001B[39;49m\u001B[43m,\u001B[49m\n\u001B[1;32m      4\u001B[0m \u001B[43m    \u001B[49m\u001B[43mcolumns\u001B[49m\u001B[38;5;241;43m=\u001B[39;49m\u001B[43m[\u001B[49m\u001B[38;5;124;43m\"\u001B[39;49m\u001B[38;5;124;43mtags\u001B[39;49m\u001B[38;5;124;43m\"\u001B[39;49m\u001B[43m,\u001B[49m\u001B[43m \u001B[49m\u001B[38;5;124;43m\"\u001B[39;49m\u001B[38;5;124;43mroot_tags\u001B[39;49m\u001B[38;5;124;43m\"\u001B[39;49m\u001B[43m]\u001B[49m\u001B[43m,\u001B[49m\n\u001B[1;32m      5\u001B[0m \u001B[43m)\u001B[49m\n\u001B[1;32m      7\u001B[0m \u001B[38;5;66;03m# convert the string tags to tags lists\u001B[39;00m\n\u001B[1;32m      8\u001B[0m df[\u001B[38;5;124m\"\u001B[39m\u001B[38;5;124mroot_tags\u001B[39m\u001B[38;5;124m\"\u001B[39m] \u001B[38;5;241m=\u001B[39m df[\u001B[38;5;124m\"\u001B[39m\u001B[38;5;124mroot_tags\u001B[39m\u001B[38;5;124m\"\u001B[39m]\u001B[38;5;241m.\u001B[39mfillna(\u001B[38;5;124m\"\u001B[39m\u001B[38;5;124m\"\u001B[39m)\u001B[38;5;241m.\u001B[39mstr\u001B[38;5;241m.\u001B[39msplit(\u001B[38;5;124m\"\u001B[39m\u001B[38;5;124m,\u001B[39m\u001B[38;5;124m\"\u001B[39m)\n",
      "File \u001B[0;32m~/Library/Caches/pypoetry/virtualenvs/tag-recommender-OWEifFPk-py3.11/lib/python3.11/site-packages/pandas/io/parquet.py:667\u001B[0m, in \u001B[0;36mread_parquet\u001B[0;34m(path, engine, columns, storage_options, use_nullable_dtypes, dtype_backend, filesystem, filters, **kwargs)\u001B[0m\n\u001B[1;32m    664\u001B[0m     use_nullable_dtypes \u001B[38;5;241m=\u001B[39m \u001B[38;5;28;01mFalse\u001B[39;00m\n\u001B[1;32m    665\u001B[0m check_dtype_backend(dtype_backend)\n\u001B[0;32m--> 667\u001B[0m \u001B[38;5;28;01mreturn\u001B[39;00m \u001B[43mimpl\u001B[49m\u001B[38;5;241;43m.\u001B[39;49m\u001B[43mread\u001B[49m\u001B[43m(\u001B[49m\n\u001B[1;32m    668\u001B[0m \u001B[43m    \u001B[49m\u001B[43mpath\u001B[49m\u001B[43m,\u001B[49m\n\u001B[1;32m    669\u001B[0m \u001B[43m    \u001B[49m\u001B[43mcolumns\u001B[49m\u001B[38;5;241;43m=\u001B[39;49m\u001B[43mcolumns\u001B[49m\u001B[43m,\u001B[49m\n\u001B[1;32m    670\u001B[0m \u001B[43m    \u001B[49m\u001B[43mfilters\u001B[49m\u001B[38;5;241;43m=\u001B[39;49m\u001B[43mfilters\u001B[49m\u001B[43m,\u001B[49m\n\u001B[1;32m    671\u001B[0m \u001B[43m    \u001B[49m\u001B[43mstorage_options\u001B[49m\u001B[38;5;241;43m=\u001B[39;49m\u001B[43mstorage_options\u001B[49m\u001B[43m,\u001B[49m\n\u001B[1;32m    672\u001B[0m \u001B[43m    \u001B[49m\u001B[43muse_nullable_dtypes\u001B[49m\u001B[38;5;241;43m=\u001B[39;49m\u001B[43muse_nullable_dtypes\u001B[49m\u001B[43m,\u001B[49m\n\u001B[1;32m    673\u001B[0m \u001B[43m    \u001B[49m\u001B[43mdtype_backend\u001B[49m\u001B[38;5;241;43m=\u001B[39;49m\u001B[43mdtype_backend\u001B[49m\u001B[43m,\u001B[49m\n\u001B[1;32m    674\u001B[0m \u001B[43m    \u001B[49m\u001B[43mfilesystem\u001B[49m\u001B[38;5;241;43m=\u001B[39;49m\u001B[43mfilesystem\u001B[49m\u001B[43m,\u001B[49m\n\u001B[1;32m    675\u001B[0m \u001B[43m    \u001B[49m\u001B[38;5;241;43m*\u001B[39;49m\u001B[38;5;241;43m*\u001B[39;49m\u001B[43mkwargs\u001B[49m\u001B[43m,\u001B[49m\n\u001B[1;32m    676\u001B[0m \u001B[43m\u001B[49m\u001B[43m)\u001B[49m\n",
      "File \u001B[0;32m~/Library/Caches/pypoetry/virtualenvs/tag-recommender-OWEifFPk-py3.11/lib/python3.11/site-packages/pandas/io/parquet.py:274\u001B[0m, in \u001B[0;36mPyArrowImpl.read\u001B[0;34m(self, path, columns, filters, use_nullable_dtypes, dtype_backend, storage_options, filesystem, **kwargs)\u001B[0m\n\u001B[1;32m    267\u001B[0m path_or_handle, handles, filesystem \u001B[38;5;241m=\u001B[39m _get_path_or_handle(\n\u001B[1;32m    268\u001B[0m     path,\n\u001B[1;32m    269\u001B[0m     filesystem,\n\u001B[1;32m    270\u001B[0m     storage_options\u001B[38;5;241m=\u001B[39mstorage_options,\n\u001B[1;32m    271\u001B[0m     mode\u001B[38;5;241m=\u001B[39m\u001B[38;5;124m\"\u001B[39m\u001B[38;5;124mrb\u001B[39m\u001B[38;5;124m\"\u001B[39m,\n\u001B[1;32m    272\u001B[0m )\n\u001B[1;32m    273\u001B[0m \u001B[38;5;28;01mtry\u001B[39;00m:\n\u001B[0;32m--> 274\u001B[0m     pa_table \u001B[38;5;241m=\u001B[39m \u001B[38;5;28;43mself\u001B[39;49m\u001B[38;5;241;43m.\u001B[39;49m\u001B[43mapi\u001B[49m\u001B[38;5;241;43m.\u001B[39;49m\u001B[43mparquet\u001B[49m\u001B[38;5;241;43m.\u001B[39;49m\u001B[43mread_table\u001B[49m\u001B[43m(\u001B[49m\n\u001B[1;32m    275\u001B[0m \u001B[43m        \u001B[49m\u001B[43mpath_or_handle\u001B[49m\u001B[43m,\u001B[49m\n\u001B[1;32m    276\u001B[0m \u001B[43m        \u001B[49m\u001B[43mcolumns\u001B[49m\u001B[38;5;241;43m=\u001B[39;49m\u001B[43mcolumns\u001B[49m\u001B[43m,\u001B[49m\n\u001B[1;32m    277\u001B[0m \u001B[43m        \u001B[49m\u001B[43mfilesystem\u001B[49m\u001B[38;5;241;43m=\u001B[39;49m\u001B[43mfilesystem\u001B[49m\u001B[43m,\u001B[49m\n\u001B[1;32m    278\u001B[0m \u001B[43m        \u001B[49m\u001B[43mfilters\u001B[49m\u001B[38;5;241;43m=\u001B[39;49m\u001B[43mfilters\u001B[49m\u001B[43m,\u001B[49m\n\u001B[1;32m    279\u001B[0m \u001B[43m        \u001B[49m\u001B[38;5;241;43m*\u001B[39;49m\u001B[38;5;241;43m*\u001B[39;49m\u001B[43mkwargs\u001B[49m\u001B[43m,\u001B[49m\n\u001B[1;32m    280\u001B[0m \u001B[43m    \u001B[49m\u001B[43m)\u001B[49m\n\u001B[1;32m    281\u001B[0m     result \u001B[38;5;241m=\u001B[39m pa_table\u001B[38;5;241m.\u001B[39mto_pandas(\u001B[38;5;241m*\u001B[39m\u001B[38;5;241m*\u001B[39mto_pandas_kwargs)\n\u001B[1;32m    283\u001B[0m     \u001B[38;5;28;01mif\u001B[39;00m manager \u001B[38;5;241m==\u001B[39m \u001B[38;5;124m\"\u001B[39m\u001B[38;5;124marray\u001B[39m\u001B[38;5;124m\"\u001B[39m:\n",
      "File \u001B[0;32m~/Library/Caches/pypoetry/virtualenvs/tag-recommender-OWEifFPk-py3.11/lib/python3.11/site-packages/pyarrow/parquet/core.py:1793\u001B[0m, in \u001B[0;36mread_table\u001B[0;34m(source, columns, use_threads, schema, use_pandas_metadata, read_dictionary, memory_map, buffer_size, partitioning, filesystem, filters, use_legacy_dataset, ignore_prefixes, pre_buffer, coerce_int96_timestamp_unit, decryption_properties, thrift_string_size_limit, thrift_container_size_limit, page_checksum_verification)\u001B[0m\n\u001B[1;32m   1787\u001B[0m     warnings\u001B[38;5;241m.\u001B[39mwarn(\n\u001B[1;32m   1788\u001B[0m         \u001B[38;5;124m\"\u001B[39m\u001B[38;5;124mPassing \u001B[39m\u001B[38;5;124m'\u001B[39m\u001B[38;5;124muse_legacy_dataset\u001B[39m\u001B[38;5;124m'\u001B[39m\u001B[38;5;124m is deprecated as of pyarrow 15.0.0 \u001B[39m\u001B[38;5;124m\"\u001B[39m\n\u001B[1;32m   1789\u001B[0m         \u001B[38;5;124m\"\u001B[39m\u001B[38;5;124mand will be removed in a future version.\u001B[39m\u001B[38;5;124m\"\u001B[39m,\n\u001B[1;32m   1790\u001B[0m         \u001B[38;5;167;01mFutureWarning\u001B[39;00m, stacklevel\u001B[38;5;241m=\u001B[39m\u001B[38;5;241m2\u001B[39m)\n\u001B[1;32m   1792\u001B[0m \u001B[38;5;28;01mtry\u001B[39;00m:\n\u001B[0;32m-> 1793\u001B[0m     dataset \u001B[38;5;241m=\u001B[39m \u001B[43mParquetDataset\u001B[49m\u001B[43m(\u001B[49m\n\u001B[1;32m   1794\u001B[0m \u001B[43m        \u001B[49m\u001B[43msource\u001B[49m\u001B[43m,\u001B[49m\n\u001B[1;32m   1795\u001B[0m \u001B[43m        \u001B[49m\u001B[43mschema\u001B[49m\u001B[38;5;241;43m=\u001B[39;49m\u001B[43mschema\u001B[49m\u001B[43m,\u001B[49m\n\u001B[1;32m   1796\u001B[0m \u001B[43m        \u001B[49m\u001B[43mfilesystem\u001B[49m\u001B[38;5;241;43m=\u001B[39;49m\u001B[43mfilesystem\u001B[49m\u001B[43m,\u001B[49m\n\u001B[1;32m   1797\u001B[0m \u001B[43m        \u001B[49m\u001B[43mpartitioning\u001B[49m\u001B[38;5;241;43m=\u001B[39;49m\u001B[43mpartitioning\u001B[49m\u001B[43m,\u001B[49m\n\u001B[1;32m   1798\u001B[0m \u001B[43m        \u001B[49m\u001B[43mmemory_map\u001B[49m\u001B[38;5;241;43m=\u001B[39;49m\u001B[43mmemory_map\u001B[49m\u001B[43m,\u001B[49m\n\u001B[1;32m   1799\u001B[0m \u001B[43m        \u001B[49m\u001B[43mread_dictionary\u001B[49m\u001B[38;5;241;43m=\u001B[39;49m\u001B[43mread_dictionary\u001B[49m\u001B[43m,\u001B[49m\n\u001B[1;32m   1800\u001B[0m \u001B[43m        \u001B[49m\u001B[43mbuffer_size\u001B[49m\u001B[38;5;241;43m=\u001B[39;49m\u001B[43mbuffer_size\u001B[49m\u001B[43m,\u001B[49m\n\u001B[1;32m   1801\u001B[0m \u001B[43m        \u001B[49m\u001B[43mfilters\u001B[49m\u001B[38;5;241;43m=\u001B[39;49m\u001B[43mfilters\u001B[49m\u001B[43m,\u001B[49m\n\u001B[1;32m   1802\u001B[0m \u001B[43m        \u001B[49m\u001B[43mignore_prefixes\u001B[49m\u001B[38;5;241;43m=\u001B[39;49m\u001B[43mignore_prefixes\u001B[49m\u001B[43m,\u001B[49m\n\u001B[1;32m   1803\u001B[0m \u001B[43m        \u001B[49m\u001B[43mpre_buffer\u001B[49m\u001B[38;5;241;43m=\u001B[39;49m\u001B[43mpre_buffer\u001B[49m\u001B[43m,\u001B[49m\n\u001B[1;32m   1804\u001B[0m \u001B[43m        \u001B[49m\u001B[43mcoerce_int96_timestamp_unit\u001B[49m\u001B[38;5;241;43m=\u001B[39;49m\u001B[43mcoerce_int96_timestamp_unit\u001B[49m\u001B[43m,\u001B[49m\n\u001B[1;32m   1805\u001B[0m \u001B[43m        \u001B[49m\u001B[43mdecryption_properties\u001B[49m\u001B[38;5;241;43m=\u001B[39;49m\u001B[43mdecryption_properties\u001B[49m\u001B[43m,\u001B[49m\n\u001B[1;32m   1806\u001B[0m \u001B[43m        \u001B[49m\u001B[43mthrift_string_size_limit\u001B[49m\u001B[38;5;241;43m=\u001B[39;49m\u001B[43mthrift_string_size_limit\u001B[49m\u001B[43m,\u001B[49m\n\u001B[1;32m   1807\u001B[0m \u001B[43m        \u001B[49m\u001B[43mthrift_container_size_limit\u001B[49m\u001B[38;5;241;43m=\u001B[39;49m\u001B[43mthrift_container_size_limit\u001B[49m\u001B[43m,\u001B[49m\n\u001B[1;32m   1808\u001B[0m \u001B[43m        \u001B[49m\u001B[43mpage_checksum_verification\u001B[49m\u001B[38;5;241;43m=\u001B[39;49m\u001B[43mpage_checksum_verification\u001B[49m\u001B[43m,\u001B[49m\n\u001B[1;32m   1809\u001B[0m \u001B[43m    \u001B[49m\u001B[43m)\u001B[49m\n\u001B[1;32m   1810\u001B[0m \u001B[38;5;28;01mexcept\u001B[39;00m \u001B[38;5;167;01mImportError\u001B[39;00m:\n\u001B[1;32m   1811\u001B[0m     \u001B[38;5;66;03m# fall back on ParquetFile for simple cases when pyarrow.dataset\u001B[39;00m\n\u001B[1;32m   1812\u001B[0m     \u001B[38;5;66;03m# module is not available\u001B[39;00m\n\u001B[1;32m   1813\u001B[0m     \u001B[38;5;28;01mif\u001B[39;00m filters \u001B[38;5;129;01mis\u001B[39;00m \u001B[38;5;129;01mnot\u001B[39;00m \u001B[38;5;28;01mNone\u001B[39;00m:\n",
      "File \u001B[0;32m~/Library/Caches/pypoetry/virtualenvs/tag-recommender-OWEifFPk-py3.11/lib/python3.11/site-packages/pyarrow/parquet/core.py:1360\u001B[0m, in \u001B[0;36mParquetDataset.__init__\u001B[0;34m(self, path_or_paths, filesystem, schema, filters, read_dictionary, memory_map, buffer_size, partitioning, ignore_prefixes, pre_buffer, coerce_int96_timestamp_unit, decryption_properties, thrift_string_size_limit, thrift_container_size_limit, page_checksum_verification, use_legacy_dataset)\u001B[0m\n\u001B[1;32m   1356\u001B[0m \u001B[38;5;28;01mif\u001B[39;00m single_file \u001B[38;5;129;01mis\u001B[39;00m \u001B[38;5;129;01mnot\u001B[39;00m \u001B[38;5;28;01mNone\u001B[39;00m:\n\u001B[1;32m   1357\u001B[0m     fragment \u001B[38;5;241m=\u001B[39m parquet_format\u001B[38;5;241m.\u001B[39mmake_fragment(single_file, filesystem)\n\u001B[1;32m   1359\u001B[0m     \u001B[38;5;28mself\u001B[39m\u001B[38;5;241m.\u001B[39m_dataset \u001B[38;5;241m=\u001B[39m ds\u001B[38;5;241m.\u001B[39mFileSystemDataset(\n\u001B[0;32m-> 1360\u001B[0m         [fragment], schema\u001B[38;5;241m=\u001B[39mschema \u001B[38;5;129;01mor\u001B[39;00m \u001B[43mfragment\u001B[49m\u001B[38;5;241;43m.\u001B[39;49m\u001B[43mphysical_schema\u001B[49m,\n\u001B[1;32m   1361\u001B[0m         \u001B[38;5;28mformat\u001B[39m\u001B[38;5;241m=\u001B[39mparquet_format,\n\u001B[1;32m   1362\u001B[0m         filesystem\u001B[38;5;241m=\u001B[39mfragment\u001B[38;5;241m.\u001B[39mfilesystem\n\u001B[1;32m   1363\u001B[0m     )\n\u001B[1;32m   1364\u001B[0m     \u001B[38;5;28;01mreturn\u001B[39;00m\n\u001B[1;32m   1366\u001B[0m \u001B[38;5;66;03m# check partitioning to enable dictionary encoding\u001B[39;00m\n",
      "File \u001B[0;32m~/Library/Caches/pypoetry/virtualenvs/tag-recommender-OWEifFPk-py3.11/lib/python3.11/site-packages/pyarrow/_dataset.pyx:1431\u001B[0m, in \u001B[0;36mpyarrow._dataset.Fragment.physical_schema.__get__\u001B[0;34m()\u001B[0m\n",
      "File \u001B[0;32m~/Library/Caches/pypoetry/virtualenvs/tag-recommender-OWEifFPk-py3.11/lib/python3.11/site-packages/pyarrow/error.pxi:155\u001B[0m, in \u001B[0;36mpyarrow.lib.pyarrow_internal_check_status\u001B[0;34m()\u001B[0m\n",
      "File \u001B[0;32m~/Library/Caches/pypoetry/virtualenvs/tag-recommender-OWEifFPk-py3.11/lib/python3.11/site-packages/pyarrow/error.pxi:92\u001B[0m, in \u001B[0;36mpyarrow.lib.check_status\u001B[0;34m()\u001B[0m\n",
      "\u001B[0;31mArrowInvalid\u001B[0m: Could not open Parquet input source '<Buffer>': Parquet magic bytes not found in footer. Either the file is corrupted or this is not a parquet file."
     ]
    }
   ],
   "execution_count": 2
  },
  {
   "cell_type": "code",
   "execution_count": 3,
   "id": "7f28e57c-33c8-4528-8bde-9413e82bf52d",
   "metadata": {},
   "outputs": [],
   "source": [
    "# extract all tags and root tags in one place and take the unique set\n",
    "tags_df = (\n",
    "    pd.concat([df.tags.explode(), df.root_tags.explode()]).drop_duplicates().to_frame()\n",
    ")\n",
    "tags_df.columns = [\"initial_tag\"]"
   ]
  },
  {
   "cell_type": "code",
   "execution_count": 4,
   "id": "9bcc8c1e-f9bf-40d8-a2c2-25865509f417",
   "metadata": {},
   "outputs": [
    {
     "name": "stderr",
     "output_type": "stream",
     "text": [
      "100%|███████████████████████████████████| 2401924/2401924 [00:08<00:00, 276403.08it/s]\n",
      "100%|████████████████████████████████████| 2401924/2401924 [00:39<00:00, 61155.70it/s]\n"
     ]
    }
   ],
   "source": [
    "# Perform two kinds of normalization: 'basic' and 'boosted'.\n",
    "tags_df[\"basic_norm\"] = tags_df[\"initial_tag\"].progress_apply(to_snake_case)\n",
    "\n",
    "# removes emojis, accents, handles unicode charts etc\n",
    "tags_df[\"advanced_norm\"] = tags_df[\"initial_tag\"].progress_apply(to_snake_case_boosted)"
   ]
  },
  {
   "cell_type": "code",
   "execution_count": 5,
   "id": "dcfe9ff4-9c95-4ee4-b353-a3784b3ae7b7",
   "metadata": {},
   "outputs": [
    {
     "data": {
      "text/plain": [
       "2401924"
      ]
     },
     "execution_count": 5,
     "metadata": {},
     "output_type": "execute_result"
    }
   ],
   "source": [
    "# All tags without normalization whatsoever\n",
    "len(tags_df)"
   ]
  },
  {
   "cell_type": "code",
   "execution_count": 6,
   "id": "3ef2232e-4819-4778-aacf-04ae7dbf28bb",
   "metadata": {},
   "outputs": [
    {
     "data": {
      "text/html": [
       "<div>\n",
       "<style scoped>\n",
       "    .dataframe tbody tr th:only-of-type {\n",
       "        vertical-align: middle;\n",
       "    }\n",
       "\n",
       "    .dataframe tbody tr th {\n",
       "        vertical-align: top;\n",
       "    }\n",
       "\n",
       "    .dataframe thead th {\n",
       "        text-align: right;\n",
       "    }\n",
       "</style>\n",
       "<table border=\"1\" class=\"dataframe\">\n",
       "  <thead>\n",
       "    <tr style=\"text-align: right;\">\n",
       "      <th></th>\n",
       "      <th>initial_tag</th>\n",
       "      <th>basic_norm</th>\n",
       "      <th>advanced_norm</th>\n",
       "    </tr>\n",
       "  </thead>\n",
       "  <tbody>\n",
       "    <tr>\n",
       "      <th>1038124</th>\n",
       "      <td>the dialogue is probably unnessessary but I di...</td>\n",
       "      <td>the_dialogue_is_probably_unnessessary_but_i_di...</td>\n",
       "      <td>the_dialogue_is_probably_unnessessary_but_i_di...</td>\n",
       "    </tr>\n",
       "    <tr>\n",
       "      <th>1185332</th>\n",
       "      <td>what is he riding on in the water somehow what...</td>\n",
       "      <td>what_is_he_riding_on_in_the_water_somehow_what...</td>\n",
       "      <td>what_is_he_riding_on_in_the_water_somehow_what</td>\n",
       "    </tr>\n",
       "    <tr>\n",
       "      <th>1064770</th>\n",
       "      <td>@rose thanks for the idea fjjdkdkd</td>\n",
       "      <td>@rose_thanks_for_the_idea_fjjdkdkd</td>\n",
       "      <td>rose_thanks_for_the_idea_fjjdkdkd</td>\n",
       "    </tr>\n",
       "    <tr>\n",
       "      <th>859215</th>\n",
       "      <td>itziar verría’s flowers</td>\n",
       "      <td>itziar_verría’s_flowers</td>\n",
       "      <td>itziar_verrias_flowers</td>\n",
       "    </tr>\n",
       "    <tr>\n",
       "      <th>1182961</th>\n",
       "      <td>this is so cOOOOLLL</td>\n",
       "      <td>this_is_so_c_o_o_o_o_l_l_l</td>\n",
       "      <td>this_is_so_c_oooolll</td>\n",
       "    </tr>\n",
       "    <tr>\n",
       "      <th>1539342</th>\n",
       "      <td>reshiram.... weird little dog</td>\n",
       "      <td>reshiram...._weird_little_dog</td>\n",
       "      <td>reshiram_weird_little_dog</td>\n",
       "    </tr>\n",
       "    <tr>\n",
       "      <th>630313</th>\n",
       "      <td>//pls feel free to reply if you wanna make thi...</td>\n",
       "      <td>//pls_feel_free_to_reply_if_you_wanna_make_thi...</td>\n",
       "      <td>pls_feel_free_to_reply_if_you_wanna_make_this_...</td>\n",
       "    </tr>\n",
       "    <tr>\n",
       "      <th>949323</th>\n",
       "      <td>SPEAKING OF MY LUCAS</td>\n",
       "      <td>s_p_e_a_k_i_n_g_o_f_m_y_l_u_c_a_s</td>\n",
       "      <td>speaking_of_my_lucas</td>\n",
       "    </tr>\n",
       "    <tr>\n",
       "      <th>1401349</th>\n",
       "      <td>Leti who paid you and how much?</td>\n",
       "      <td>leti_who_paid_you_and_how_much?</td>\n",
       "      <td>leti_who_paid_you_and_how_much</td>\n",
       "    </tr>\n",
       "    <tr>\n",
       "      <th>699975</th>\n",
       "      <td>like i want to punch him but in like a homoero...</td>\n",
       "      <td>like_i_want_to_punch_him_but_in_like_a_homoero...</td>\n",
       "      <td>like_i_want_to_punch_him_but_in_like_a_homoero...</td>\n",
       "    </tr>\n",
       "  </tbody>\n",
       "</table>\n",
       "</div>"
      ],
      "text/plain": [
       "                                               initial_tag  \\\n",
       "1038124  the dialogue is probably unnessessary but I di...   \n",
       "1185332  what is he riding on in the water somehow what...   \n",
       "1064770                 @rose thanks for the idea fjjdkdkd   \n",
       "859215                             itziar verría’s flowers   \n",
       "1182961                                this is so cOOOOLLL   \n",
       "1539342                      reshiram.... weird little dog   \n",
       "630313   //pls feel free to reply if you wanna make thi...   \n",
       "949323                                SPEAKING OF MY LUCAS   \n",
       "1401349                    Leti who paid you and how much?   \n",
       "699975   like i want to punch him but in like a homoero...   \n",
       "\n",
       "                                                basic_norm  \\\n",
       "1038124  the_dialogue_is_probably_unnessessary_but_i_di...   \n",
       "1185332  what_is_he_riding_on_in_the_water_somehow_what...   \n",
       "1064770                 @rose_thanks_for_the_idea_fjjdkdkd   \n",
       "859215                             itziar_verría’s_flowers   \n",
       "1182961                         this_is_so_c_o_o_o_o_l_l_l   \n",
       "1539342                      reshiram...._weird_little_dog   \n",
       "630313   //pls_feel_free_to_reply_if_you_wanna_make_thi...   \n",
       "949323                   s_p_e_a_k_i_n_g_o_f_m_y_l_u_c_a_s   \n",
       "1401349                    leti_who_paid_you_and_how_much?   \n",
       "699975   like_i_want_to_punch_him_but_in_like_a_homoero...   \n",
       "\n",
       "                                             advanced_norm  \n",
       "1038124  the_dialogue_is_probably_unnessessary_but_i_di...  \n",
       "1185332     what_is_he_riding_on_in_the_water_somehow_what  \n",
       "1064770                  rose_thanks_for_the_idea_fjjdkdkd  \n",
       "859215                              itziar_verrias_flowers  \n",
       "1182961                               this_is_so_c_oooolll  \n",
       "1539342                          reshiram_weird_little_dog  \n",
       "630313   pls_feel_free_to_reply_if_you_wanna_make_this_...  \n",
       "949323                                speaking_of_my_lucas  \n",
       "1401349                     leti_who_paid_you_and_how_much  \n",
       "699975   like_i_want_to_punch_him_but_in_like_a_homoero...  "
      ]
     },
     "execution_count": 6,
     "metadata": {},
     "output_type": "execute_result"
    }
   ],
   "source": [
    "# showcase the diff between the two normalization methods\n",
    "tags_df[tags_df.basic_norm != tags_df.advanced_norm].sample(10)"
   ]
  },
  {
   "cell_type": "code",
   "execution_count": 7,
   "id": "b0ec09a8-2437-473d-baeb-05d355938eb2",
   "metadata": {},
   "outputs": [
    {
     "data": {
      "text/plain": [
       "(2306598, 96.031)"
      ]
     },
     "execution_count": 7,
     "metadata": {},
     "output_type": "execute_result"
    }
   ],
   "source": [
    "basic_norm_unique = tags_df[\"basic_norm\"].nunique()\n",
    "\n",
    "basic_norm_unique, round(100 * basic_norm_unique / len(tags_df), 3)"
   ]
  },
  {
   "cell_type": "code",
   "execution_count": 8,
   "id": "2796cfab-6f92-409f-b10b-98ef33047dd7",
   "metadata": {},
   "outputs": [
    {
     "data": {
      "text/plain": [
       "(2179675, 90.747)"
      ]
     },
     "execution_count": 8,
     "metadata": {},
     "output_type": "execute_result"
    }
   ],
   "source": [
    "advanced_norm_unique = tags_df[\"advanced_norm\"].nunique()\n",
    "\n",
    "advanced_norm_unique, round(100 * advanced_norm_unique / len(tags_df), 3)"
   ]
  },
  {
   "cell_type": "markdown",
   "id": "4aecefe9-c10d-4877-89a0-7c2a360104b2",
   "metadata": {},
   "source": [
    "We select the method that normalizes more to check the normalized tags"
   ]
  },
  {
   "cell_type": "code",
   "execution_count": 9,
   "id": "a4658e26-6e93-4fdf-b004-a2352ca3b4cb",
   "metadata": {},
   "outputs": [
    {
     "name": "stderr",
     "output_type": "stream",
     "text": [
      "100%|███████████████████████████████████| 2179675/2179675 [00:13<00:00, 156887.51it/s]\n"
     ]
    }
   ],
   "source": [
    "norm2initial = (\n",
    "    tags_df.groupby(\"advanced_norm\")[\"initial_tag\"]\n",
    "    .progress_apply(lambda x: sorted(set(x)))\n",
    "    .reset_index()\n",
    ")\n",
    "norm2initial[\"n_initial\"] = norm2initial[\"initial_tag\"].apply(len)\n",
    "norm2initial.columns = [\"normalized_tag\", \"initial_tags\", \"initial_count\"]"
   ]
  },
  {
   "cell_type": "code",
   "execution_count": 10,
   "id": "fe2495d3-2082-43bf-bfe4-ef332015fbff",
   "metadata": {},
   "outputs": [],
   "source": [
    "norm2initial.sort_values(\"initial_count\", ascending=False, inplace=True)\n",
    "norm2initial.reset_index(drop=True, inplace=True)"
   ]
  },
  {
   "cell_type": "code",
   "execution_count": 11,
   "id": "9e4d400d-ee8b-4d83-a21a-170cebfb82e9",
   "metadata": {},
   "outputs": [
    {
     "name": "stdout",
     "output_type": "stream",
     "text": [
      "['!! omg', '!!!!! omg!!!!!!', '!!!!!!!!OMG', '!!!!!omg!', '( omg )', '*OMG', '..... Omg', ':omg', 'O.M.G.', 'OMG', 'OMG .', 'OMG ;;;', 'OMG ???', 'OMG ????', 'OMG 💀💀💀💀', 'OMG 😂😂😂😂😂😂', 'OMG 😭', 'OMG 😭😭😭', 'OMG 🥹', 'OMG!', 'OMG!!', 'OMG!!!', 'OMG!!!!', 'OMG!!!!!', 'OMG!!!!!!!!!', 'OMG!!!!!!!!!!!!!', 'OMG!!!!!!!!!!!!!!!!', 'OMG.', 'OMG..', 'OMG...', 'OMG...!!!!!!', 'OMG.....', 'OMG?', 'OMG?!?!!?!', 'OMG?!?!?!?!?!?!?!?!?!?', 'OMG??', 'OMG???', 'OMG????', 'OMG?????', 'OMG??????', 'OMG???????', 'OMG??????????', 'OMG…', 'OMG………..', 'OMG😭😭😭', 'OMG😭😭😭😭😭😭', 'OMG🥺🥺🥺', 'OMG🥺🥺🥺🥺', 'Omg', 'Omg 😭', 'Omg 😭😭', 'Omg 🤣🤣🤣🤣🤣🤣🤣', 'Omg!!', 'Omg!!!', 'Omg!!!!', 'Omg...', 'Omg... ❤️', 'Omg....', 'Omg:)', 'Omg?', 'Omg????', 'o.m.g.', 'omg', 'omg !!', 'omg !!!!', 'omg !!!!!!!!!!', 'omg !!!!!!!!!!!!!!!!!', 'omg ..', 'omg ....', 'omg .......', \"omg :')\", 'omg :(', 'omg :((', 'omg ;-;', 'omg ;;♥', 'omg ;_;', 'omg ?', 'omg ….', 'omg 👁️👁️', 'omg 👑', 'omg 💀💀', 'omg 💙🖤', 'omg 😂', 'omg 😂😂', 'omg 😂😂😂', 'omg 😂🙊', 'omg 😂🤣', 'omg 😍', 'omg 😍😍😍', 'omg 😍😍😍😍', 'omg 😪', 'omg 😭', 'omg 😭 ❤️', 'omg 😭😭', 'omg 😭😭❤️', 'omg 😭😭😭', 'omg 😭😭😭😭', 'omg 😭😭😭😭😭😭', 'omg 😱', 'omg 😱😱', 'omg 😳', 'omg 🤍', 'omg 🤣', 'omg 🤣🤣🤣', 'omg 🤤', 'omg 🥹', 'omg 🥹🥹🥹', 'omg 🥺', 'omg 🥺💞💞💞💞', 'omg 🥺🥺', 'omg 🥺🥺🥺', 'omg 🥺🥺🥺😭😭😭', 'omg 🥺🥺🥺🥺🥺', 'omg 🧎🧎🧎', 'omg 🫠', 'omg!', 'omg!!', 'omg!!!', 'omg!!!!', 'omg!!!!!', 'omg!!!!!!', 'omg!!!!!! 💖💖💖😍', 'omg!!!!!!!', 'omg!!!!!!!!!!', 'omg!!!!!!!!!!!!!!!!!!!!!!!!!!!!!!!!!!!!!!!!', 'omg.', 'omg. .', 'omg..', 'omg..!', 'omg...', 'omg... 🤣🤣🤣🤣🤣👍', 'omg....', 'omg.... 🔥🔥', 'omg.....', 'omg......', 'omg.......', 'omg........', 'omg.........', 'omg...............', 'omg.............::', 'omg;;;;;', 'omg?', 'omg?!?!?', 'omg?!?!?!?!?', 'omg??', 'omg???', 'omg???!!', 'omg????', 'omg?????', 'omg???????/', 'omg??????????????', 'omg???🥺🧸⭐🌜', 'omg\\xa0 👀', 'omg…', 'omg….', 'omg…..', 'omg……', 'omg……..', 'omg……….', 'omg………..', 'omg……………….', 'omg…❤️', 'omg👀👀👀', 'omg🔥', 'omg😭', 'omg😭❤️', 'omg😭😭', 'omg😭😭😭😭', 'omg🤣🤣🤣🤣🤣', 'omg🥰🥰🥰🥹🥹🥹🥹🥹🥹🥹😍', 'omg🥺', 'omg🥺💓💖💞', 'omg🥺😵\\u200d💫', '😳 omg', '😳omg', '😳😳😳 omg', '🥵😍👀💕 omg', '🥹 omg']\n"
     ]
    }
   ],
   "source": [
    "print(norm2initial[\"initial_tags\"][8])"
   ]
  },
  {
   "cell_type": "code",
   "execution_count": 12,
   "id": "14cda6b6-f4cb-4e1f-83d8-53a7ce203e45",
   "metadata": {},
   "outputs": [
    {
     "data": {
      "text/html": [
       "<div>\n",
       "<style scoped>\n",
       "    .dataframe tbody tr th:only-of-type {\n",
       "        vertical-align: middle;\n",
       "    }\n",
       "\n",
       "    .dataframe tbody tr th {\n",
       "        vertical-align: top;\n",
       "    }\n",
       "\n",
       "    .dataframe thead th {\n",
       "        text-align: right;\n",
       "    }\n",
       "</style>\n",
       "<table border=\"1\" class=\"dataframe\">\n",
       "  <thead>\n",
       "    <tr style=\"text-align: right;\">\n",
       "      <th></th>\n",
       "      <th>normalized_tag</th>\n",
       "      <th>initial_tags</th>\n",
       "      <th>initial_count</th>\n",
       "    </tr>\n",
       "  </thead>\n",
       "  <tbody>\n",
       "    <tr>\n",
       "      <th>0</th>\n",
       "      <td></td>\n",
       "      <td>[, !, ! ! 💗💙, ! ! 💙💜, ! !!, ! ? ! ?, ! ★, ! 👀,...</td>\n",
       "      <td>6956</td>\n",
       "    </tr>\n",
       "    <tr>\n",
       "      <th>1</th>\n",
       "      <td>yeah</td>\n",
       "      <td>[!!! yeah!!, !!!! yeah, !!!!!! yeah!!!!!, !!!!...</td>\n",
       "      <td>323</td>\n",
       "    </tr>\n",
       "    <tr>\n",
       "      <th>2</th>\n",
       "      <td>ooc</td>\n",
       "      <td>[! OOC., &amp; ooc, &amp; ooc., &amp;&amp;. ooc, &amp;&amp;ooc, &amp;.  oo...</td>\n",
       "      <td>233</td>\n",
       "    </tr>\n",
       "    <tr>\n",
       "      <th>3</th>\n",
       "      <td>oh</td>\n",
       "      <td>[!!oh, 'OH! 👀👀👀', 'oh, 'oh :(', ( OH??????????...</td>\n",
       "      <td>228</td>\n",
       "    </tr>\n",
       "    <tr>\n",
       "      <th>4</th>\n",
       "      <td>yes</td>\n",
       "      <td>[! yes, !! yes!!!, !!! YES, !!! yes, !!!! yes,...</td>\n",
       "      <td>198</td>\n",
       "    </tr>\n",
       "    <tr>\n",
       "      <th>5</th>\n",
       "      <td>prev</td>\n",
       "      <td>[!! prev, !!!!! prev, (&lt; prev), (&lt;-prev), (&lt;pr...</td>\n",
       "      <td>194</td>\n",
       "    </tr>\n",
       "    <tr>\n",
       "      <th>6</th>\n",
       "      <td>me</td>\n",
       "      <td>[(ME), (me), **** me, *me, - me, .   me    ., ...</td>\n",
       "      <td>184</td>\n",
       "    </tr>\n",
       "    <tr>\n",
       "      <th>7</th>\n",
       "      <td>oh_my_god</td>\n",
       "      <td>[...oh my god, OH  MY GOD, OH MY  GOD, OH MY G...</td>\n",
       "      <td>180</td>\n",
       "    </tr>\n",
       "    <tr>\n",
       "      <th>8</th>\n",
       "      <td>omg</td>\n",
       "      <td>[!! omg, !!!!! omg!!!!!!, !!!!!!!!OMG, !!!!!om...</td>\n",
       "      <td>178</td>\n",
       "    </tr>\n",
       "    <tr>\n",
       "      <th>9</th>\n",
       "      <td>them</td>\n",
       "      <td>[!!! THEM!!!, !!!! them, !!!!! THEM, !!!!! the...</td>\n",
       "      <td>177</td>\n",
       "    </tr>\n",
       "    <tr>\n",
       "      <th>10</th>\n",
       "      <td>hello</td>\n",
       "      <td>[!!!!!!!!!!! HELLO, ( hello????? ), . hello., ...</td>\n",
       "      <td>164</td>\n",
       "    </tr>\n",
       "    <tr>\n",
       "      <th>11</th>\n",
       "      <td>txt</td>\n",
       "      <td>[* ♡ txt., ***txt, **txt, *.txt, *txt, . txt, ...</td>\n",
       "      <td>154</td>\n",
       "    </tr>\n",
       "    <tr>\n",
       "      <th>12</th>\n",
       "      <td>queue</td>\n",
       "      <td>['queue', ( * queue. ), ( / .queue, ( QUEUE. )...</td>\n",
       "      <td>147</td>\n",
       "    </tr>\n",
       "    <tr>\n",
       "      <th>13</th>\n",
       "      <td>im</td>\n",
       "      <td>[( im, I'M, I'M ., I'M @)!__(\"!&amp;&amp;, I'M-, I'M.....</td>\n",
       "      <td>131</td>\n",
       "    </tr>\n",
       "    <tr>\n",
       "      <th>14</th>\n",
       "      <td>hes_so</td>\n",
       "      <td>[HE'S SO, HE'S SO 😤😵‍💫😩💗😤😩💖😵‍💫💞, HE'S SO!!!, H...</td>\n",
       "      <td>126</td>\n",
       "    </tr>\n",
       "    <tr>\n",
       "      <th>15</th>\n",
       "      <td>cute</td>\n",
       "      <td>[!! cute, !!! cute, + cute?, .... cute, :( cut...</td>\n",
       "      <td>126</td>\n",
       "    </tr>\n",
       "    <tr>\n",
       "      <th>16</th>\n",
       "      <td>art</td>\n",
       "      <td>[! art, !art, ( * art ), ( art . 🎨 ), ( art. )...</td>\n",
       "      <td>125</td>\n",
       "    </tr>\n",
       "    <tr>\n",
       "      <th>17</th>\n",
       "      <td>i_love_them</td>\n",
       "      <td>[!! I love them…, !!!! i love them, !!!I LOVE ...</td>\n",
       "      <td>122</td>\n",
       "    </tr>\n",
       "    <tr>\n",
       "      <th>18</th>\n",
       "      <td>him</td>\n",
       "      <td>[!!!!!!! HIM, (HIM!!!!), * / him 💋💅, *him, ......</td>\n",
       "      <td>122</td>\n",
       "    </tr>\n",
       "    <tr>\n",
       "      <th>19</th>\n",
       "      <td>help</td>\n",
       "      <td>[( ♡ 💭 : help, (help), *HELP*, *help*, ...help...</td>\n",
       "      <td>121</td>\n",
       "    </tr>\n",
       "  </tbody>\n",
       "</table>\n",
       "</div>"
      ],
      "text/plain": [
       "   normalized_tag                                       initial_tags  \\\n",
       "0                  [, !, ! ! 💗💙, ! ! 💙💜, ! !!, ! ? ! ?, ! ★, ! 👀,...   \n",
       "1            yeah  [!!! yeah!!, !!!! yeah, !!!!!! yeah!!!!!, !!!!...   \n",
       "2             ooc  [! OOC., & ooc, & ooc., &&. ooc, &&ooc, &.  oo...   \n",
       "3              oh  [!!oh, 'OH! 👀👀👀', 'oh, 'oh :(', ( OH??????????...   \n",
       "4             yes  [! yes, !! yes!!!, !!! YES, !!! yes, !!!! yes,...   \n",
       "5            prev  [!! prev, !!!!! prev, (< prev), (<-prev), (<pr...   \n",
       "6              me  [(ME), (me), **** me, *me, - me, .   me    ., ...   \n",
       "7       oh_my_god  [...oh my god, OH  MY GOD, OH MY  GOD, OH MY G...   \n",
       "8             omg  [!! omg, !!!!! omg!!!!!!, !!!!!!!!OMG, !!!!!om...   \n",
       "9            them  [!!! THEM!!!, !!!! them, !!!!! THEM, !!!!! the...   \n",
       "10          hello  [!!!!!!!!!!! HELLO, ( hello????? ), . hello., ...   \n",
       "11            txt  [* ♡ txt., ***txt, **txt, *.txt, *txt, . txt, ...   \n",
       "12          queue  ['queue', ( * queue. ), ( / .queue, ( QUEUE. )...   \n",
       "13             im  [( im, I'M, I'M ., I'M @)!__(\"!&&, I'M-, I'M.....   \n",
       "14         hes_so  [HE'S SO, HE'S SO 😤😵‍💫😩💗😤😩💖😵‍💫💞, HE'S SO!!!, H...   \n",
       "15           cute  [!! cute, !!! cute, + cute?, .... cute, :( cut...   \n",
       "16            art  [! art, !art, ( * art ), ( art . 🎨 ), ( art. )...   \n",
       "17    i_love_them  [!! I love them…, !!!! i love them, !!!I LOVE ...   \n",
       "18            him  [!!!!!!! HIM, (HIM!!!!), * / him 💋💅, *him, ......   \n",
       "19           help  [( ♡ 💭 : help, (help), *HELP*, *help*, ...help...   \n",
       "\n",
       "    initial_count  \n",
       "0            6956  \n",
       "1             323  \n",
       "2             233  \n",
       "3             228  \n",
       "4             198  \n",
       "5             194  \n",
       "6             184  \n",
       "7             180  \n",
       "8             178  \n",
       "9             177  \n",
       "10            164  \n",
       "11            154  \n",
       "12            147  \n",
       "13            131  \n",
       "14            126  \n",
       "15            126  \n",
       "16            125  \n",
       "17            122  \n",
       "18            122  \n",
       "19            121  "
      ]
     },
     "execution_count": 12,
     "metadata": {},
     "output_type": "execute_result"
    }
   ],
   "source": [
    "norm2initial.head(20)"
   ]
  }
 ],
 "metadata": {
  "kernelspec": {
   "display_name": "Python 3 (ipykernel)",
   "language": "python",
   "name": "python3"
  },
  "language_info": {
   "codemirror_mode": {
    "name": "ipython",
    "version": 3
   },
   "file_extension": ".py",
   "mimetype": "text/x-python",
   "name": "python",
   "nbconvert_exporter": "python",
   "pygments_lexer": "ipython3",
   "version": "3.11.9"
  }
 },
 "nbformat": 4,
 "nbformat_minor": 5
}
