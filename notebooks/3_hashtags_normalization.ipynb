{
 "cells": [
  {
   "cell_type": "code",
   "id": "236b0c50-ef01-4657-9509-66897609a1fb",
   "metadata": {
    "ExecuteTime": {
     "end_time": "2024-10-11T19:55:23.646214Z",
     "start_time": "2024-10-11T19:55:23.182612Z"
    }
   },
   "source": [
    "import pandas as pd\n",
    "from tqdm import tqdm\n",
    "\n",
    "from tag_recommender.utils.text import to_snake_case, to_snake_case_boosted\n",
    "\n",
    "tqdm.pandas()"
   ],
   "outputs": [],
   "execution_count": 1
  },
  {
   "cell_type": "code",
   "id": "199f2eef-e318-4336-9317-a9e6da155875",
   "metadata": {
    "ExecuteTime": {
     "end_time": "2024-10-11T19:55:33.831818Z",
     "start_time": "2024-10-11T19:55:23.653991Z"
    }
   },
   "source": [
    "# read the dataset\n",
    "df = pd.read_csv(\n",
    "    \"../data/full_dataset.csv\",\n",
    "    usecols=[\"tags\", \"root_tags\"],\n",
    ")\n",
    "\n",
    "# convert the string tags to tags lists\n",
    "df[\"root_tags\"] = df[\"root_tags\"].fillna(\"\").str.split(\",\")\n",
    "df[\"tags\"] = df[\"tags\"].fillna(\"\").str.split(\",\")"
   ],
   "outputs": [],
   "execution_count": 2
  },
  {
   "cell_type": "code",
   "id": "7f28e57c-33c8-4528-8bde-9413e82bf52d",
   "metadata": {
    "ExecuteTime": {
     "end_time": "2024-10-11T19:55:36.556132Z",
     "start_time": "2024-10-11T19:55:33.912753Z"
    }
   },
   "source": [
    "# extract all tags and root tags in one place and take the unique set\n",
    "tags_df = (\n",
    "    pd.concat([df.tags.explode(), df.root_tags.explode()]).drop_duplicates().to_frame()\n",
    ")\n",
    "tags_df.columns = [\"initial_tag\"]"
   ],
   "outputs": [],
   "execution_count": 3
  },
  {
   "cell_type": "code",
   "id": "9bcc8c1e-f9bf-40d8-a2c2-25865509f417",
   "metadata": {
    "ExecuteTime": {
     "end_time": "2024-10-11T19:56:25.067419Z",
     "start_time": "2024-10-11T19:55:36.562653Z"
    }
   },
   "source": [
    "# Perform two kinds of normalization: 'basic' and 'boosted'.\n",
    "tags_df[\"basic_norm\"] = tags_df[\"initial_tag\"].progress_apply(to_snake_case)\n",
    "\n",
    "# removes emojis, accents, handles unicode charts etc\n",
    "tags_df[\"advanced_norm\"] = tags_df[\"initial_tag\"].progress_apply(to_snake_case_boosted)"
   ],
   "outputs": [
    {
     "name": "stderr",
     "output_type": "stream",
     "text": [
      "100%|██████████| 2401924/2401924 [00:08<00:00, 273039.30it/s]\n",
      "100%|██████████| 2401924/2401924 [00:39<00:00, 60661.29it/s]\n"
     ]
    }
   ],
   "execution_count": 4
  },
  {
   "cell_type": "code",
   "id": "dcfe9ff4-9c95-4ee4-b353-a3784b3ae7b7",
   "metadata": {
    "ExecuteTime": {
     "end_time": "2024-10-11T19:56:25.078089Z",
     "start_time": "2024-10-11T19:56:25.074773Z"
    }
   },
   "source": [
    "# All tags without normalization whatsoever\n",
    "len(tags_df)"
   ],
   "outputs": [
    {
     "data": {
      "text/plain": [
       "2401924"
      ]
     },
     "execution_count": 5,
     "metadata": {},
     "output_type": "execute_result"
    }
   ],
   "execution_count": 5
  },
  {
   "cell_type": "code",
   "id": "3ef2232e-4819-4778-aacf-04ae7dbf28bb",
   "metadata": {
    "ExecuteTime": {
     "end_time": "2024-10-11T19:56:25.293009Z",
     "start_time": "2024-10-11T19:56:25.084396Z"
    }
   },
   "source": [
    "# showcase the diff between the two normalization methods\n",
    "tags_df[tags_df.basic_norm != tags_df.advanced_norm].sample(10)"
   ],
   "outputs": [
    {
     "data": {
      "text/plain": [
       "                                               initial_tag  \\\n",
       "20284                           I CAN HEAR IT IN HIS VOICE   \n",
       "1259604                                        victoire!!!   \n",
       "75934    and the worst part is that I’m not even sure l...   \n",
       "839840   this is why i usually don’t care about canon t...   \n",
       "1658845                                              áudio   \n",
       "1005631                                          once art!   \n",
       "1572561                                          Gerald <3   \n",
       "1460676                                         yokluğunda   \n",
       "101210   too horrible to the point i don't wanna post t...   \n",
       "631955   there's a few adaptations that do show him bei...   \n",
       "\n",
       "                                                basic_norm  \\\n",
       "20284              i_c_a_n_h_e_a_r_i_t_i_n_h_i_s_v_o_i_c_e   \n",
       "1259604                                        victoire!!!   \n",
       "75934    and_the_worst_part_is_that_i’m_not_even_sure_l...   \n",
       "839840   this_is_why_i_usually_don’t_care_about_canon_t...   \n",
       "1658845                                              áudio   \n",
       "1005631                                          once_art!   \n",
       "1572561                                          gerald_<3   \n",
       "1460676                                         yokluğunda   \n",
       "101210   too_horrible_to_the_point_i_don't_wanna_post_t...   \n",
       "631955   there's_a_few_adaptations_that_do_show_him_bei...   \n",
       "\n",
       "                                             advanced_norm  \n",
       "20284                           i_can_hear_it_in_his_voice  \n",
       "1259604                                           victoire  \n",
       "75934    and_the_worst_part_is_that_im_not_even_sure_li...  \n",
       "839840   this_is_why_i_usually_dont_care_about_canon_th...  \n",
       "1658845                                              audio  \n",
       "1005631                                           once_art  \n",
       "1572561                                           gerald_3  \n",
       "1460676                                         yoklugunda  \n",
       "101210   too_horrible_to_the_point_i_dont_wanna_post_th...  \n",
       "631955   theres_a_few_adaptations_that_do_show_him_bein...  "
      ],
      "text/html": [
       "<div>\n",
       "<style scoped>\n",
       "    .dataframe tbody tr th:only-of-type {\n",
       "        vertical-align: middle;\n",
       "    }\n",
       "\n",
       "    .dataframe tbody tr th {\n",
       "        vertical-align: top;\n",
       "    }\n",
       "\n",
       "    .dataframe thead th {\n",
       "        text-align: right;\n",
       "    }\n",
       "</style>\n",
       "<table border=\"1\" class=\"dataframe\">\n",
       "  <thead>\n",
       "    <tr style=\"text-align: right;\">\n",
       "      <th></th>\n",
       "      <th>initial_tag</th>\n",
       "      <th>basic_norm</th>\n",
       "      <th>advanced_norm</th>\n",
       "    </tr>\n",
       "  </thead>\n",
       "  <tbody>\n",
       "    <tr>\n",
       "      <th>20284</th>\n",
       "      <td>I CAN HEAR IT IN HIS VOICE</td>\n",
       "      <td>i_c_a_n_h_e_a_r_i_t_i_n_h_i_s_v_o_i_c_e</td>\n",
       "      <td>i_can_hear_it_in_his_voice</td>\n",
       "    </tr>\n",
       "    <tr>\n",
       "      <th>1259604</th>\n",
       "      <td>victoire!!!</td>\n",
       "      <td>victoire!!!</td>\n",
       "      <td>victoire</td>\n",
       "    </tr>\n",
       "    <tr>\n",
       "      <th>75934</th>\n",
       "      <td>and the worst part is that I’m not even sure l...</td>\n",
       "      <td>and_the_worst_part_is_that_i’m_not_even_sure_l...</td>\n",
       "      <td>and_the_worst_part_is_that_im_not_even_sure_li...</td>\n",
       "    </tr>\n",
       "    <tr>\n",
       "      <th>839840</th>\n",
       "      <td>this is why i usually don’t care about canon t...</td>\n",
       "      <td>this_is_why_i_usually_don’t_care_about_canon_t...</td>\n",
       "      <td>this_is_why_i_usually_dont_care_about_canon_th...</td>\n",
       "    </tr>\n",
       "    <tr>\n",
       "      <th>1658845</th>\n",
       "      <td>áudio</td>\n",
       "      <td>áudio</td>\n",
       "      <td>audio</td>\n",
       "    </tr>\n",
       "    <tr>\n",
       "      <th>1005631</th>\n",
       "      <td>once art!</td>\n",
       "      <td>once_art!</td>\n",
       "      <td>once_art</td>\n",
       "    </tr>\n",
       "    <tr>\n",
       "      <th>1572561</th>\n",
       "      <td>Gerald &lt;3</td>\n",
       "      <td>gerald_&lt;3</td>\n",
       "      <td>gerald_3</td>\n",
       "    </tr>\n",
       "    <tr>\n",
       "      <th>1460676</th>\n",
       "      <td>yokluğunda</td>\n",
       "      <td>yokluğunda</td>\n",
       "      <td>yoklugunda</td>\n",
       "    </tr>\n",
       "    <tr>\n",
       "      <th>101210</th>\n",
       "      <td>too horrible to the point i don't wanna post t...</td>\n",
       "      <td>too_horrible_to_the_point_i_don't_wanna_post_t...</td>\n",
       "      <td>too_horrible_to_the_point_i_dont_wanna_post_th...</td>\n",
       "    </tr>\n",
       "    <tr>\n",
       "      <th>631955</th>\n",
       "      <td>there's a few adaptations that do show him bei...</td>\n",
       "      <td>there's_a_few_adaptations_that_do_show_him_bei...</td>\n",
       "      <td>theres_a_few_adaptations_that_do_show_him_bein...</td>\n",
       "    </tr>\n",
       "  </tbody>\n",
       "</table>\n",
       "</div>"
      ]
     },
     "execution_count": 6,
     "metadata": {},
     "output_type": "execute_result"
    }
   ],
   "execution_count": 6
  },
  {
   "cell_type": "code",
   "id": "b0ec09a8-2437-473d-baeb-05d355938eb2",
   "metadata": {
    "ExecuteTime": {
     "end_time": "2024-10-11T19:56:26.147419Z",
     "start_time": "2024-10-11T19:56:25.299418Z"
    }
   },
   "source": [
    "basic_norm_unique = tags_df[\"basic_norm\"].nunique()\n",
    "\n",
    "basic_norm_unique, round(100 * basic_norm_unique / len(tags_df), 3)"
   ],
   "outputs": [
    {
     "data": {
      "text/plain": [
       "(2306598, 96.031)"
      ]
     },
     "execution_count": 7,
     "metadata": {},
     "output_type": "execute_result"
    }
   ],
   "execution_count": 7
  },
  {
   "cell_type": "code",
   "id": "2796cfab-6f92-409f-b10b-98ef33047dd7",
   "metadata": {
    "ExecuteTime": {
     "end_time": "2024-10-11T19:56:26.952903Z",
     "start_time": "2024-10-11T19:56:26.165124Z"
    }
   },
   "source": [
    "advanced_norm_unique = tags_df[\"advanced_norm\"].nunique()\n",
    "\n",
    "advanced_norm_unique, round(100 * advanced_norm_unique / len(tags_df), 3)"
   ],
   "outputs": [
    {
     "data": {
      "text/plain": [
       "(2178634, 90.704)"
      ]
     },
     "execution_count": 8,
     "metadata": {},
     "output_type": "execute_result"
    }
   ],
   "execution_count": 8
  },
  {
   "cell_type": "markdown",
   "id": "4aecefe9-c10d-4877-89a0-7c2a360104b2",
   "metadata": {},
   "source": [
    "We select the method that normalizes more to check the normalized tags"
   ]
  },
  {
   "cell_type": "code",
   "id": "a4658e26-6e93-4fdf-b004-a2352ca3b4cb",
   "metadata": {
    "ExecuteTime": {
     "end_time": "2024-10-11T19:56:44.371811Z",
     "start_time": "2024-10-11T19:56:26.969563Z"
    }
   },
   "source": [
    "norm2initial = (\n",
    "    tags_df.groupby(\"advanced_norm\")[\"initial_tag\"]\n",
    "    .progress_apply(lambda x: sorted(set(x)))\n",
    "    .reset_index()\n",
    ")\n",
    "norm2initial[\"n_initial\"] = norm2initial[\"initial_tag\"].apply(len)\n",
    "norm2initial.columns = [\"normalized_tag\", \"initial_tags\", \"initial_count\"]"
   ],
   "outputs": [
    {
     "name": "stderr",
     "output_type": "stream",
     "text": [
      "100%|██████████| 2178634/2178634 [00:14<00:00, 152304.44it/s]\n"
     ]
    }
   ],
   "execution_count": 9
  },
  {
   "cell_type": "code",
   "id": "fe2495d3-2082-43bf-bfe4-ef332015fbff",
   "metadata": {
    "ExecuteTime": {
     "end_time": "2024-10-11T19:56:44.503540Z",
     "start_time": "2024-10-11T19:56:44.374952Z"
    }
   },
   "source": [
    "norm2initial.sort_values(\"initial_count\", ascending=False, inplace=True)\n",
    "norm2initial.reset_index(drop=True, inplace=True)"
   ],
   "outputs": [],
   "execution_count": 10
  },
  {
   "cell_type": "code",
   "id": "9e4d400d-ee8b-4d83-a21a-170cebfb82e9",
   "metadata": {
    "ExecuteTime": {
     "end_time": "2024-10-11T19:56:44.514572Z",
     "start_time": "2024-10-11T19:56:44.512263Z"
    }
   },
   "source": [
    "print(norm2initial[\"initial_tags\"][8])"
   ],
   "outputs": [
    {
     "name": "stdout",
     "output_type": "stream",
     "text": [
      "['!! omg', '!!!!! omg!!!!!!', '!!!!!!!!OMG', '!!!!!omg!', '( omg )', '*OMG', '..... Omg', ':omg', 'O.M.G.', 'OMG', 'OMG .', 'OMG ;;;', 'OMG ???', 'OMG ????', 'OMG 💀💀💀💀', 'OMG 😂😂😂😂😂😂', 'OMG 😭', 'OMG 😭😭😭', 'OMG 🥹', 'OMG!', 'OMG!!', 'OMG!!!', 'OMG!!!!', 'OMG!!!!!', 'OMG!!!!!!!!!', 'OMG!!!!!!!!!!!!!', 'OMG!!!!!!!!!!!!!!!!', 'OMG.', 'OMG..', 'OMG...', 'OMG...!!!!!!', 'OMG.....', 'OMG?', 'OMG?!?!!?!', 'OMG?!?!?!?!?!?!?!?!?!?', 'OMG??', 'OMG???', 'OMG????', 'OMG?????', 'OMG??????', 'OMG???????', 'OMG??????????', 'OMG…', 'OMG………..', 'OMG😭😭😭', 'OMG😭😭😭😭😭😭', 'OMG🥺🥺🥺', 'OMG🥺🥺🥺🥺', 'Omg', 'Omg 😭', 'Omg 😭😭', 'Omg 🤣🤣🤣🤣🤣🤣🤣', 'Omg!!', 'Omg!!!', 'Omg!!!!', 'Omg...', 'Omg... ❤️', 'Omg....', 'Omg:)', 'Omg?', 'Omg????', 'o.m.g.', 'omg', 'omg !!', 'omg !!!!', 'omg !!!!!!!!!!', 'omg !!!!!!!!!!!!!!!!!', 'omg ..', 'omg ....', 'omg .......', \"omg :')\", 'omg :(', 'omg :((', 'omg ;-;', 'omg ;;♥', 'omg ;_;', 'omg ?', 'omg ….', 'omg 👁️👁️', 'omg 👑', 'omg 💀💀', 'omg 💙🖤', 'omg 😂', 'omg 😂😂', 'omg 😂😂😂', 'omg 😂🙊', 'omg 😂🤣', 'omg 😍', 'omg 😍😍😍', 'omg 😍😍😍😍', 'omg 😪', 'omg 😭', 'omg 😭 ❤️', 'omg 😭😭', 'omg 😭😭❤️', 'omg 😭😭😭', 'omg 😭😭😭😭', 'omg 😭😭😭😭😭😭', 'omg 😱', 'omg 😱😱', 'omg 😳', 'omg 🤍', 'omg 🤣', 'omg 🤣🤣🤣', 'omg 🤤', 'omg 🥹', 'omg 🥹🥹🥹', 'omg 🥺', 'omg 🥺💞💞💞💞', 'omg 🥺🥺', 'omg 🥺🥺🥺', 'omg 🥺🥺🥺😭😭😭', 'omg 🥺🥺🥺🥺🥺', 'omg 🧎🧎🧎', 'omg 🫠', 'omg!', 'omg!!', 'omg!!!', 'omg!!!!', 'omg!!!!!', 'omg!!!!!!', 'omg!!!!!! 💖💖💖😍', 'omg!!!!!!!', 'omg!!!!!!!!!!', 'omg!!!!!!!!!!!!!!!!!!!!!!!!!!!!!!!!!!!!!!!!', 'omg.', 'omg. .', 'omg..', 'omg..!', 'omg...', 'omg... 🤣🤣🤣🤣🤣👍', 'omg....', 'omg.... 🔥🔥', 'omg.....', 'omg......', 'omg.......', 'omg........', 'omg.........', 'omg...............', 'omg.............::', 'omg;;;;;', 'omg?', 'omg?!?!?', 'omg?!?!?!?!?', 'omg??', 'omg???', 'omg???!!', 'omg????', 'omg?????', 'omg???????/', 'omg??????????????', 'omg???🥺🧸⭐🌜', 'omg\\xa0 👀', 'omg…', 'omg….', 'omg…..', 'omg……', 'omg……..', 'omg……….', 'omg………..', 'omg……………….', 'omg…❤️', 'omg👀👀👀', 'omg🔥', 'omg😭', 'omg😭❤️', 'omg😭😭', 'omg😭😭😭😭', 'omg🤣🤣🤣🤣🤣', 'omg🥰🥰🥰🥹🥹🥹🥹🥹🥹🥹😍', 'omg🥺', 'omg🥺💓💖💞', 'omg🥺😵\\u200d💫', '😳 omg', '😳omg', '😳😳😳 omg', '🥵😍👀💕 omg', '🥹 omg']\n"
     ]
    }
   ],
   "execution_count": 11
  },
  {
   "cell_type": "code",
   "id": "14cda6b6-f4cb-4e1f-83d8-53a7ce203e45",
   "metadata": {
    "ExecuteTime": {
     "end_time": "2024-10-11T19:56:44.551152Z",
     "start_time": "2024-10-11T19:56:44.542541Z"
    }
   },
   "source": [
    "norm2initial.head(20)"
   ],
   "outputs": [
    {
     "data": {
      "text/plain": [
       "   normalized_tag                                       initial_tags  \\\n",
       "0                  [, !, ! ! 💗💙, ! ! 💙💜, ! !!, ! ? ! ?, ! ★, ! 👀,...   \n",
       "1            yeah  [!!! yeah!!, !!!! yeah, !!!!!! yeah!!!!!, !!!!...   \n",
       "2             ooc  [! OOC., & ooc, & ooc., &&. ooc, &&ooc, &.  oo...   \n",
       "3              oh  [!!oh, 'OH! 👀👀👀', 'oh, 'oh :(', ( OH??????????...   \n",
       "4             yes  [! yes, !! yes!!!, !!! YES, !!! yes, !!!! yes,...   \n",
       "5            prev  [!! prev, !!!!! prev, (< prev), (<-prev), (<pr...   \n",
       "6              me  [(ME), (me), **** me, *me, - me, .   me    ., ...   \n",
       "7       oh_my_god  [...oh my god, OH  MY GOD, OH MY  GOD, OH MY G...   \n",
       "8             omg  [!! omg, !!!!! omg!!!!!!, !!!!!!!!OMG, !!!!!om...   \n",
       "9            them  [!!! THEM!!!, !!!! them, !!!!! THEM, !!!!! the...   \n",
       "10          hello  [!!!!!!!!!!! HELLO, ( hello????? ), . hello., ...   \n",
       "11            txt  [* ♡ txt., ***txt, **txt, *.txt, *txt, . txt, ...   \n",
       "12          queue  ['queue', ( * queue. ), ( / .queue, ( QUEUE. )...   \n",
       "13             im  [( im, I'M, I'M ., I'M @)!__(\"!&&, I'M-, I'M.....   \n",
       "14         hes_so  [HE'S SO, HE'S SO 😤😵‍💫😩💗😤😩💖😵‍💫💞, HE'S SO!!!, H...   \n",
       "15           cute  [!! cute, !!! cute, + cute?, .... cute, :( cut...   \n",
       "16            art  [! art, !art, ( * art ), ( art . 🎨 ), ( art. )...   \n",
       "17            him  [!!!!!!! HIM, (HIM!!!!), * / him 💋💅, *him, ......   \n",
       "18    i_love_them  [!! I love them…, !!!! i love them, !!!I LOVE ...   \n",
       "19           help  [( ♡ 💭 : help, (help), *HELP*, *help*, ...help...   \n",
       "\n",
       "    initial_count  \n",
       "0            6956  \n",
       "1             323  \n",
       "2             233  \n",
       "3             228  \n",
       "4             198  \n",
       "5             194  \n",
       "6             184  \n",
       "7             180  \n",
       "8             178  \n",
       "9             177  \n",
       "10            164  \n",
       "11            154  \n",
       "12            147  \n",
       "13            131  \n",
       "14            126  \n",
       "15            125  \n",
       "16            125  \n",
       "17            122  \n",
       "18            122  \n",
       "19            121  "
      ],
      "text/html": [
       "<div>\n",
       "<style scoped>\n",
       "    .dataframe tbody tr th:only-of-type {\n",
       "        vertical-align: middle;\n",
       "    }\n",
       "\n",
       "    .dataframe tbody tr th {\n",
       "        vertical-align: top;\n",
       "    }\n",
       "\n",
       "    .dataframe thead th {\n",
       "        text-align: right;\n",
       "    }\n",
       "</style>\n",
       "<table border=\"1\" class=\"dataframe\">\n",
       "  <thead>\n",
       "    <tr style=\"text-align: right;\">\n",
       "      <th></th>\n",
       "      <th>normalized_tag</th>\n",
       "      <th>initial_tags</th>\n",
       "      <th>initial_count</th>\n",
       "    </tr>\n",
       "  </thead>\n",
       "  <tbody>\n",
       "    <tr>\n",
       "      <th>0</th>\n",
       "      <td></td>\n",
       "      <td>[, !, ! ! 💗💙, ! ! 💙💜, ! !!, ! ? ! ?, ! ★, ! 👀,...</td>\n",
       "      <td>6956</td>\n",
       "    </tr>\n",
       "    <tr>\n",
       "      <th>1</th>\n",
       "      <td>yeah</td>\n",
       "      <td>[!!! yeah!!, !!!! yeah, !!!!!! yeah!!!!!, !!!!...</td>\n",
       "      <td>323</td>\n",
       "    </tr>\n",
       "    <tr>\n",
       "      <th>2</th>\n",
       "      <td>ooc</td>\n",
       "      <td>[! OOC., &amp; ooc, &amp; ooc., &amp;&amp;. ooc, &amp;&amp;ooc, &amp;.  oo...</td>\n",
       "      <td>233</td>\n",
       "    </tr>\n",
       "    <tr>\n",
       "      <th>3</th>\n",
       "      <td>oh</td>\n",
       "      <td>[!!oh, 'OH! 👀👀👀', 'oh, 'oh :(', ( OH??????????...</td>\n",
       "      <td>228</td>\n",
       "    </tr>\n",
       "    <tr>\n",
       "      <th>4</th>\n",
       "      <td>yes</td>\n",
       "      <td>[! yes, !! yes!!!, !!! YES, !!! yes, !!!! yes,...</td>\n",
       "      <td>198</td>\n",
       "    </tr>\n",
       "    <tr>\n",
       "      <th>5</th>\n",
       "      <td>prev</td>\n",
       "      <td>[!! prev, !!!!! prev, (&lt; prev), (&lt;-prev), (&lt;pr...</td>\n",
       "      <td>194</td>\n",
       "    </tr>\n",
       "    <tr>\n",
       "      <th>6</th>\n",
       "      <td>me</td>\n",
       "      <td>[(ME), (me), **** me, *me, - me, .   me    ., ...</td>\n",
       "      <td>184</td>\n",
       "    </tr>\n",
       "    <tr>\n",
       "      <th>7</th>\n",
       "      <td>oh_my_god</td>\n",
       "      <td>[...oh my god, OH  MY GOD, OH MY  GOD, OH MY G...</td>\n",
       "      <td>180</td>\n",
       "    </tr>\n",
       "    <tr>\n",
       "      <th>8</th>\n",
       "      <td>omg</td>\n",
       "      <td>[!! omg, !!!!! omg!!!!!!, !!!!!!!!OMG, !!!!!om...</td>\n",
       "      <td>178</td>\n",
       "    </tr>\n",
       "    <tr>\n",
       "      <th>9</th>\n",
       "      <td>them</td>\n",
       "      <td>[!!! THEM!!!, !!!! them, !!!!! THEM, !!!!! the...</td>\n",
       "      <td>177</td>\n",
       "    </tr>\n",
       "    <tr>\n",
       "      <th>10</th>\n",
       "      <td>hello</td>\n",
       "      <td>[!!!!!!!!!!! HELLO, ( hello????? ), . hello., ...</td>\n",
       "      <td>164</td>\n",
       "    </tr>\n",
       "    <tr>\n",
       "      <th>11</th>\n",
       "      <td>txt</td>\n",
       "      <td>[* ♡ txt., ***txt, **txt, *.txt, *txt, . txt, ...</td>\n",
       "      <td>154</td>\n",
       "    </tr>\n",
       "    <tr>\n",
       "      <th>12</th>\n",
       "      <td>queue</td>\n",
       "      <td>['queue', ( * queue. ), ( / .queue, ( QUEUE. )...</td>\n",
       "      <td>147</td>\n",
       "    </tr>\n",
       "    <tr>\n",
       "      <th>13</th>\n",
       "      <td>im</td>\n",
       "      <td>[( im, I'M, I'M ., I'M @)!__(\"!&amp;&amp;, I'M-, I'M.....</td>\n",
       "      <td>131</td>\n",
       "    </tr>\n",
       "    <tr>\n",
       "      <th>14</th>\n",
       "      <td>hes_so</td>\n",
       "      <td>[HE'S SO, HE'S SO 😤😵‍💫😩💗😤😩💖😵‍💫💞, HE'S SO!!!, H...</td>\n",
       "      <td>126</td>\n",
       "    </tr>\n",
       "    <tr>\n",
       "      <th>15</th>\n",
       "      <td>cute</td>\n",
       "      <td>[!! cute, !!! cute, + cute?, .... cute, :( cut...</td>\n",
       "      <td>125</td>\n",
       "    </tr>\n",
       "    <tr>\n",
       "      <th>16</th>\n",
       "      <td>art</td>\n",
       "      <td>[! art, !art, ( * art ), ( art . 🎨 ), ( art. )...</td>\n",
       "      <td>125</td>\n",
       "    </tr>\n",
       "    <tr>\n",
       "      <th>17</th>\n",
       "      <td>him</td>\n",
       "      <td>[!!!!!!! HIM, (HIM!!!!), * / him 💋💅, *him, ......</td>\n",
       "      <td>122</td>\n",
       "    </tr>\n",
       "    <tr>\n",
       "      <th>18</th>\n",
       "      <td>i_love_them</td>\n",
       "      <td>[!! I love them…, !!!! i love them, !!!I LOVE ...</td>\n",
       "      <td>122</td>\n",
       "    </tr>\n",
       "    <tr>\n",
       "      <th>19</th>\n",
       "      <td>help</td>\n",
       "      <td>[( ♡ 💭 : help, (help), *HELP*, *help*, ...help...</td>\n",
       "      <td>121</td>\n",
       "    </tr>\n",
       "  </tbody>\n",
       "</table>\n",
       "</div>"
      ]
     },
     "execution_count": 12,
     "metadata": {},
     "output_type": "execute_result"
    }
   ],
   "execution_count": 12
  }
 ],
 "metadata": {
  "kernelspec": {
   "display_name": "Python 3 (ipykernel)",
   "language": "python",
   "name": "python3"
  },
  "language_info": {
   "codemirror_mode": {
    "name": "ipython",
    "version": 3
   },
   "file_extension": ".py",
   "mimetype": "text/x-python",
   "name": "python",
   "nbconvert_exporter": "python",
   "pygments_lexer": "ipython3",
   "version": "3.11.9"
  }
 },
 "nbformat": 4,
 "nbformat_minor": 5
}
